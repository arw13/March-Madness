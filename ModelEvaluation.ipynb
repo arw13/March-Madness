{
 "cells": [
  {
   "cell_type": "markdown",
   "metadata": {},
   "source": [
    "# Model Evaluation Script"
   ]
  },
  {
   "cell_type": "code",
   "execution_count": 2,
   "metadata": {},
   "outputs": [
    {
     "name": "stderr",
     "output_type": "stream",
     "text": [
      "Using TensorFlow backend.\n"
     ]
    },
    {
     "name": "stdout",
     "output_type": "stream",
     "text": [
      "Data\n",
      "Data_Organization.ipynb\n",
      "Final\n",
      "Final MLP.ipynb\n",
      "Final_Data_Organization.ipynb\n",
      "GiantKillerInfo.txt\n",
      "MarchMadnessAdvStats.csv\n",
      "MarchMadnessFeatureDifferences.csv\n",
      "MarchMadnessFeatures.csv\n",
      "MarchMadnessTest.csv\n",
      "ModelEvaluation.ipynb\n",
      "OldNbs\n",
      "SubmissionData.py\n",
      "Submissions\n",
      "logs\n",
      "tENSORFLOW-TB.ipynb\n",
      "tENSORFLOW.ipynb\n",
      "tENSORFLOW.py\n",
      "\n"
     ]
    }
   ],
   "source": [
    "# This Python 3 environment comes with many helpful analytics libraries installed\n",
    "# It is defined by the kaggle/python docker image: https://github.com/kaggle/docker-python\n",
    "# For example, here's several helpful packages to load in \n",
    "import numpy as np # linear algebra\n",
    "import pandas as pd # data processing, CSV file I/O (e.g. pd.read_csv)\n",
    "import os\n",
    "from time import localtime\n",
    "from keras.models import Sequential\n",
    "from keras.layers import Dense, Dropout, Activation, BatchNormalization\n",
    "from keras import regularizers, optimizers\n",
    "from keras.callbacks import EarlyStopping, TensorBoard, ProgbarLogger\n",
    "from sklearn.preprocessing import StandardScaler\n",
    "import matplotlib.pyplot as plt\n",
    "from keras.wrappers.scikit_learn import KerasClassifier\n",
    "from sklearn.model_selection import cross_val_score, StratifiedKFold, GridSearchCV\n",
    "\n",
    "from sklearn import ensemble\n",
    "from sklearn.svm import SVC\n",
    "from sklearn.ensemble import RandomForestClassifier, AdaBoostClassifier\n",
    "from sklearn.naive_bayes import GaussianNB\n",
    "from sklearn.linear_model import LogisticRegression\n",
    "\n",
    "\n",
    "from keras import backend as K\n",
    "from sklearn.metrics import log_loss\n",
    "\n",
    "\n",
    "\n",
    "\n",
    "# Input data files are available in the \"../input/\" directory.\n",
    "# For example, running this (by clicking run or pressing Shift+Enter) will list the files in the input directory\n",
    "\n",
    "from subprocess import check_output\n",
    "print(check_output([\"ls\", \"../NCAA\"]).decode(\"utf8\"))\n",
    "\n",
    "# Any results you write to the current directory are saved as output."
   ]
  },
  {
   "cell_type": "markdown",
   "metadata": {},
   "source": [
    "Lock Random Seed"
   ]
  },
  {
   "cell_type": "code",
   "execution_count": 3,
   "metadata": {
    "collapsed": true
   },
   "outputs": [],
   "source": [
    "# seed = 13\n",
    "# np.random.seed(seed)"
   ]
  },
  {
   "cell_type": "markdown",
   "metadata": {},
   "source": [
    "## Load pre-organized data"
   ]
  },
  {
   "cell_type": "code",
   "execution_count": 31,
   "metadata": {
    "collapsed": true
   },
   "outputs": [],
   "source": [
    "data_dir = '../NCAA/'\n",
    "df_features = pd.read_csv(data_dir + 'MarchMadnessFeatures.csv')"
   ]
  },
  {
   "cell_type": "markdown",
   "metadata": {},
   "source": [
    "Format and scale the data"
   ]
  },
  {
   "cell_type": "code",
   "execution_count": 45,
   "metadata": {},
   "outputs": [
    {
     "name": "stdout",
     "output_type": "stream",
     "text": [
      "Feature vector dimension is: 34.00\n"
     ]
    }
   ],
   "source": [
    "X = df_features.iloc[:,1:]\n",
    "xDim = np.shape(X)[1]\n",
    "X_train = X.values.reshape(-1,xDim)\n",
    "y_train = df_features.Result.values\n",
    "\n",
    "scaler = StandardScaler()\n",
    "# X_train = scaler.fit_transform(X_train)\n",
    "\n",
    "\n",
    "print('Feature vector dimension is: %.2f' % xDim)\n",
    "# print(X[:5, :])"
   ]
  },
  {
   "cell_type": "code",
   "execution_count": 46,
   "metadata": {},
   "outputs": [],
   "source": [
    "# from sklearn.decomposition import PCA\n",
    "# pca = PCA(n_components=10)\n",
    "# X_train = pca.fit_transform(X_train)"
   ]
  },
  {
   "cell_type": "code",
   "execution_count": 47,
   "metadata": {},
   "outputs": [],
   "source": [
    "# xDim = np.shape(X_train)[1]\n",
    "# xDim"
   ]
  },
  {
   "cell_type": "markdown",
   "metadata": {},
   "source": [
    "# Load Training Data\n"
   ]
  },
  {
   "cell_type": "code",
   "execution_count": 48,
   "metadata": {
    "collapsed": true
   },
   "outputs": [],
   "source": [
    "df_test = pd.read_csv(data_dir+'MarchMadnessTest.csv')\n",
    "\n",
    "X_test = df_test.iloc[:,1:]\n",
    "xDimTest = np.shape(X_test)[1]\n",
    "X_test = X_test.values.reshape(-1,xDimTest)\n",
    "y_test = df_test.Result.values"
   ]
  },
  {
   "cell_type": "code",
   "execution_count": 49,
   "metadata": {
    "collapsed": true
   },
   "outputs": [],
   "source": [
    "# X_test = pca.transform(X_test)"
   ]
  },
  {
   "cell_type": "code",
   "execution_count": 50,
   "metadata": {},
   "outputs": [
    {
     "data": {
      "text/plain": [
       "(402, 34)"
      ]
     },
     "execution_count": 50,
     "metadata": {},
     "output_type": "execute_result"
    }
   ],
   "source": [
    "np.shape(X_test)"
   ]
  },
  {
   "cell_type": "markdown",
   "metadata": {},
   "source": [
    "Create Kfold splits"
   ]
  },
  {
   "cell_type": "code",
   "execution_count": 51,
   "metadata": {
    "collapsed": true
   },
   "outputs": [],
   "source": [
    "kfold = StratifiedKFold(n_splits=5, shuffle=True)"
   ]
  },
  {
   "cell_type": "markdown",
   "metadata": {},
   "source": [
    "## Logisitic Regression"
   ]
  },
  {
   "cell_type": "code",
   "execution_count": 52,
   "metadata": {},
   "outputs": [
    {
     "name": "stdout",
     "output_type": "stream",
     "text": [
      "Best log_loss: -0.576, with best C: 0.01 \n",
      "Log-Loss Mean :-0.596 (0.0448)\n",
      "Training set score: -0.557588\n",
      "Validation set score: -0.576590\n"
     ]
    }
   ],
   "source": [
    "logreg = LogisticRegression()\n",
    "params = {'C': np.logspace(start=-5, stop=3, num=9)}\n",
    "clf = GridSearchCV(logreg, params, scoring='neg_log_loss', refit=True)\n",
    "clf.fit(X_train, y_train)\n",
    "print('Best log_loss: {:.4}, with best C: {} '.format(clf.best_score_, \n",
    "                                                            clf.best_params_['C']))\n",
    "\n",
    "cvresults = cross_val_score(logreg, X_train, y_train, cv=kfold ,scoring='neg_log_loss', verbose=0)\n",
    "print('Log-Loss Mean :{:.3} ({:.3})'.format(np.mean(cvresults), np.std(cvresults)))\n",
    "\n",
    "print(\"Training set score: %f\" % clf.score(X_train, y_train))\n",
    "print(\"Validation set score: %f\" % clf.score(X_test, y_test))"
   ]
  },
  {
   "cell_type": "markdown",
   "metadata": {},
   "source": [
    "## Random Forest Classifier"
   ]
  },
  {
   "cell_type": "code",
   "execution_count": 53,
   "metadata": {},
   "outputs": [
    {
     "name": "stdout",
     "output_type": "stream",
     "text": [
      "Log-Loss Mean :-0.621 (0.0178)\n",
      "Training set score: 0.17179165755257292\n",
      "Validation set score: 0.5805600482463246\n"
     ]
    }
   ],
   "source": [
    "fore = RandomForestClassifier(criterion='entropy', n_estimators = 50)\n",
    "\n",
    "fore.fit(X_train, y_train)\n",
    "\n",
    "cvresults = cross_val_score(fore, X_train, y_train, cv=kfold ,scoring='neg_log_loss', verbose=0)\n",
    "print('Log-Loss Mean :{:.3} ({:.3})'.format(np.mean(cvresults), np.std(cvresults)))\n",
    "\n",
    "y_pred =  fore.predict_proba(X_train)[:,1].reshape(-1,1)\n",
    "LL = log_loss( y_train, y_pred)\n",
    "print(\"Training set score: {:4}\" .format(LL))\n",
    "y_pred =  fore.predict_proba(X_test)[:,1].reshape(-1,1)\n",
    "LL = log_loss( y_test, y_pred)\n",
    "print(\"Validation set score: {:4}\".format(LL))"
   ]
  },
  {
   "cell_type": "markdown",
   "metadata": {},
   "source": [
    "## MLP"
   ]
  },
  {
   "cell_type": "markdown",
   "metadata": {},
   "source": [
    "Various properties"
   ]
  },
  {
   "cell_type": "code",
   "execution_count": 54,
   "metadata": {
    "collapsed": true
   },
   "outputs": [],
   "source": [
    "dropRate = 0.3\n",
    "numBatch = 50\n",
    "numEpoch = 120\n",
    "learningRate = 1e-4"
   ]
  },
  {
   "cell_type": "markdown",
   "metadata": {},
   "source": [
    "Base Single Layer Model"
   ]
  },
  {
   "cell_type": "code",
   "execution_count": 64,
   "metadata": {},
   "outputs": [],
   "source": [
    "# MLP model\n",
    "MLP = Sequential()\n",
    "MLP.name = 'MLP'\n",
    "MLP.add(Dense(50, input_dim=xDim, kernel_initializer='random_normal',activation = 'tanh'))\n",
    "MLP.add(Dropout(dropRate))\n",
    "# MLP.add(BatchNormalization())\n",
    "MLP.add(Dense(500,kernel_initializer='normal',activation = 'tanh'))\n",
    "MLP.add(Dropout(dropRate))\n",
    "# # MLP.add(BatchNormalization())\n",
    "MLP.add(Dense(100, kernel_initializer='normal',activation = 'tanh'))\n",
    "MLP.add(Dropout(dropRate))\n",
    "# # MLP.add(BatchNormalization())\n",
    "MLP.add(Dense(1, kernel_initializer='normal', activation='sigmoid'))\n",
    "\n",
    "# Compile model\n",
    "adam = optimizers.Adam(lr=learningRate, amsgrad=True)\n",
    "MLP.compile(loss='binary_crossentropy', optimizer=adam, metrics=['accuracy'])"
   ]
  },
  {
   "cell_type": "code",
   "execution_count": 65,
   "metadata": {},
   "outputs": [
    {
     "name": "stdout",
     "output_type": "stream",
     "text": [
      "Epoch 1/120\n",
      "530/530 [==============================] - 1s 2ms/step - loss: 0.6708 - acc: 0.5962\n",
      "Epoch 2/120\n",
      "530/530 [==============================] - 0s 146us/step - loss: 0.6552 - acc: 0.6358\n",
      "Epoch 3/120\n",
      "530/530 [==============================] - 0s 129us/step - loss: 0.6384 - acc: 0.6679\n",
      "Epoch 4/120\n",
      "530/530 [==============================] - 0s 152us/step - loss: 0.6236 - acc: 0.6792\n",
      "Epoch 5/120\n",
      "530/530 [==============================] - 0s 131us/step - loss: 0.6183 - acc: 0.6755\n",
      "Epoch 6/120\n",
      "530/530 [==============================] - 0s 149us/step - loss: 0.6159 - acc: 0.6717\n",
      "Epoch 7/120\n",
      "530/530 [==============================] - 0s 139us/step - loss: 0.6188 - acc: 0.6528\n",
      "Epoch 8/120\n",
      "530/530 [==============================] - 0s 141us/step - loss: 0.6037 - acc: 0.6906\n",
      "Epoch 9/120\n",
      "530/530 [==============================] - 0s 155us/step - loss: 0.6021 - acc: 0.6604\n",
      "Epoch 10/120\n",
      "530/530 [==============================] - 0s 149us/step - loss: 0.6078 - acc: 0.6623\n",
      "Epoch 11/120\n",
      "530/530 [==============================] - 0s 117us/step - loss: 0.5974 - acc: 0.6660\n",
      "Epoch 12/120\n",
      "530/530 [==============================] - 0s 128us/step - loss: 0.6060 - acc: 0.6679\n",
      "Epoch 13/120\n",
      "530/530 [==============================] - 0s 133us/step - loss: 0.6100 - acc: 0.6604\n",
      "Epoch 14/120\n",
      "530/530 [==============================] - 0s 136us/step - loss: 0.5968 - acc: 0.6792\n",
      "Epoch 15/120\n",
      "530/530 [==============================] - 0s 119us/step - loss: 0.6056 - acc: 0.6660\n",
      "Epoch 16/120\n",
      "530/530 [==============================] - 0s 154us/step - loss: 0.6012 - acc: 0.6736\n",
      "Epoch 17/120\n",
      "530/530 [==============================] - 0s 146us/step - loss: 0.5968 - acc: 0.6717\n",
      "Epoch 18/120\n",
      "530/530 [==============================] - 0s 134us/step - loss: 0.5919 - acc: 0.6849\n",
      "Epoch 19/120\n",
      "530/530 [==============================] - 0s 131us/step - loss: 0.6015 - acc: 0.6755\n",
      "Epoch 20/120\n",
      "530/530 [==============================] - 0s 119us/step - loss: 0.5961 - acc: 0.6755\n",
      "Epoch 21/120\n",
      "530/530 [==============================] - 0s 126us/step - loss: 0.6028 - acc: 0.6698\n",
      "Epoch 22/120\n",
      "530/530 [==============================] - 0s 146us/step - loss: 0.5917 - acc: 0.6698\n",
      "Epoch 23/120\n",
      "530/530 [==============================] - 0s 131us/step - loss: 0.6022 - acc: 0.6755\n",
      "Epoch 24/120\n",
      "530/530 [==============================] - 0s 132us/step - loss: 0.5988 - acc: 0.6811\n",
      "Epoch 25/120\n",
      "530/530 [==============================] - 0s 134us/step - loss: 0.6064 - acc: 0.6792\n",
      "Epoch 26/120\n",
      "530/530 [==============================] - 0s 151us/step - loss: 0.5946 - acc: 0.6868\n",
      "Epoch 27/120\n",
      "530/530 [==============================] - 0s 150us/step - loss: 0.5850 - acc: 0.6849\n",
      "Epoch 28/120\n",
      "530/530 [==============================] - 0s 140us/step - loss: 0.5999 - acc: 0.6604\n",
      "Epoch 29/120\n",
      "530/530 [==============================] - 0s 138us/step - loss: 0.5793 - acc: 0.6943\n",
      "Epoch 30/120\n",
      "530/530 [==============================] - 0s 147us/step - loss: 0.5909 - acc: 0.6755\n",
      "Epoch 31/120\n",
      "530/530 [==============================] - 0s 141us/step - loss: 0.5947 - acc: 0.6774\n",
      "Epoch 32/120\n",
      "530/530 [==============================] - 0s 129us/step - loss: 0.5878 - acc: 0.6774\n",
      "Epoch 33/120\n",
      "530/530 [==============================] - 0s 133us/step - loss: 0.5888 - acc: 0.6717\n",
      "Epoch 34/120\n",
      "530/530 [==============================] - 0s 139us/step - loss: 0.5978 - acc: 0.6792\n",
      "Epoch 35/120\n",
      "530/530 [==============================] - 0s 126us/step - loss: 0.5846 - acc: 0.6736\n",
      "Epoch 36/120\n",
      "530/530 [==============================] - 0s 147us/step - loss: 0.6067 - acc: 0.6679\n",
      "Epoch 37/120\n",
      "530/530 [==============================] - 0s 134us/step - loss: 0.5974 - acc: 0.6811\n",
      "Epoch 38/120\n",
      "530/530 [==============================] - 0s 121us/step - loss: 0.6056 - acc: 0.6755\n",
      "Epoch 39/120\n",
      "530/530 [==============================] - 0s 132us/step - loss: 0.5904 - acc: 0.6849\n",
      "Epoch 40/120\n",
      "530/530 [==============================] - 0s 159us/step - loss: 0.5962 - acc: 0.6811\n",
      "Epoch 41/120\n",
      "530/530 [==============================] - 0s 145us/step - loss: 0.5941 - acc: 0.6547\n",
      "Epoch 42/120\n",
      "530/530 [==============================] - 0s 145us/step - loss: 0.5948 - acc: 0.6811\n",
      "Epoch 43/120\n",
      "530/530 [==============================] - 0s 152us/step - loss: 0.5819 - acc: 0.6943\n",
      "Epoch 44/120\n",
      "530/530 [==============================] - 0s 148us/step - loss: 0.5911 - acc: 0.6736\n",
      "Epoch 45/120\n",
      "530/530 [==============================] - 0s 137us/step - loss: 0.5810 - acc: 0.6887\n",
      "Epoch 46/120\n",
      "530/530 [==============================] - 0s 145us/step - loss: 0.5786 - acc: 0.6943\n",
      "Epoch 47/120\n",
      "530/530 [==============================] - 0s 146us/step - loss: 0.5841 - acc: 0.6962\n",
      "Epoch 48/120\n",
      "530/530 [==============================] - 0s 133us/step - loss: 0.5771 - acc: 0.6830\n",
      "Epoch 49/120\n",
      "530/530 [==============================] - 0s 151us/step - loss: 0.5919 - acc: 0.6566\n",
      "Epoch 50/120\n",
      "530/530 [==============================] - 0s 160us/step - loss: 0.5945 - acc: 0.6774\n",
      "Epoch 51/120\n",
      "530/530 [==============================] - 0s 156us/step - loss: 0.5834 - acc: 0.6943\n",
      "Epoch 52/120\n",
      "530/530 [==============================] - 0s 130us/step - loss: 0.5872 - acc: 0.6811\n",
      "Epoch 53/120\n",
      "530/530 [==============================] - 0s 132us/step - loss: 0.5882 - acc: 0.6925\n",
      "Epoch 54/120\n",
      "530/530 [==============================] - 0s 133us/step - loss: 0.5788 - acc: 0.6698\n",
      "Epoch 55/120\n",
      "530/530 [==============================] - 0s 131us/step - loss: 0.5972 - acc: 0.6679\n",
      "Epoch 56/120\n",
      "530/530 [==============================] - 0s 141us/step - loss: 0.5904 - acc: 0.6925\n",
      "Epoch 57/120\n",
      "530/530 [==============================] - 0s 135us/step - loss: 0.5983 - acc: 0.6849\n",
      "Epoch 58/120\n",
      "530/530 [==============================] - 0s 130us/step - loss: 0.5838 - acc: 0.6811\n",
      "Epoch 59/120\n",
      "530/530 [==============================] - 0s 142us/step - loss: 0.5689 - acc: 0.7000\n",
      "Epoch 60/120\n",
      "530/530 [==============================] - 0s 156us/step - loss: 0.5918 - acc: 0.6623\n",
      "Epoch 61/120\n",
      "530/530 [==============================] - 0s 144us/step - loss: 0.5964 - acc: 0.6849\n",
      "Epoch 62/120\n",
      "530/530 [==============================] - 0s 130us/step - loss: 0.5880 - acc: 0.6774\n",
      "Epoch 63/120\n",
      "530/530 [==============================] - 0s 149us/step - loss: 0.5872 - acc: 0.6830\n",
      "Epoch 64/120\n",
      "530/530 [==============================] - 0s 122us/step - loss: 0.5843 - acc: 0.6849\n",
      "Epoch 65/120\n",
      "530/530 [==============================] - 0s 147us/step - loss: 0.5930 - acc: 0.6925\n",
      "Epoch 66/120\n",
      "530/530 [==============================] - 0s 134us/step - loss: 0.5961 - acc: 0.6566\n",
      "Epoch 67/120\n",
      "530/530 [==============================] - 0s 146us/step - loss: 0.5835 - acc: 0.6849\n",
      "Epoch 68/120\n",
      "530/530 [==============================] - 0s 147us/step - loss: 0.5895 - acc: 0.6717\n",
      "Epoch 69/120\n",
      "530/530 [==============================] - 0s 139us/step - loss: 0.5703 - acc: 0.6868\n",
      "Epoch 70/120\n",
      "530/530 [==============================] - 0s 141us/step - loss: 0.5878 - acc: 0.6906\n",
      "Epoch 71/120\n",
      "530/530 [==============================] - 0s 133us/step - loss: 0.6000 - acc: 0.6868\n",
      "Epoch 72/120\n",
      "530/530 [==============================] - 0s 115us/step - loss: 0.5839 - acc: 0.6623\n",
      "Epoch 73/120\n",
      "530/530 [==============================] - 0s 132us/step - loss: 0.5962 - acc: 0.6604\n",
      "Epoch 74/120\n",
      "530/530 [==============================] - 0s 115us/step - loss: 0.5822 - acc: 0.6755\n",
      "Epoch 75/120\n",
      "530/530 [==============================] - 0s 143us/step - loss: 0.5794 - acc: 0.6868\n",
      "Epoch 76/120\n",
      "530/530 [==============================] - 0s 144us/step - loss: 0.5814 - acc: 0.6981\n",
      "Epoch 77/120\n",
      "530/530 [==============================] - 0s 114us/step - loss: 0.5872 - acc: 0.6887\n",
      "Epoch 78/120\n",
      "530/530 [==============================] - 0s 153us/step - loss: 0.5877 - acc: 0.6868\n",
      "Epoch 79/120\n",
      "530/530 [==============================] - 0s 131us/step - loss: 0.5737 - acc: 0.7075\n",
      "Epoch 80/120\n",
      "530/530 [==============================] - 0s 142us/step - loss: 0.5915 - acc: 0.6679\n",
      "Epoch 81/120\n",
      "530/530 [==============================] - 0s 128us/step - loss: 0.5759 - acc: 0.6774\n",
      "Epoch 82/120\n",
      "530/530 [==============================] - 0s 156us/step - loss: 0.5856 - acc: 0.6830\n",
      "Epoch 83/120\n"
     ]
    },
    {
     "name": "stdout",
     "output_type": "stream",
     "text": [
      "530/530 [==============================] - 0s 141us/step - loss: 0.5886 - acc: 0.6774\n",
      "Epoch 84/120\n",
      "530/530 [==============================] - 0s 114us/step - loss: 0.5815 - acc: 0.6849\n",
      "Epoch 85/120\n",
      "530/530 [==============================] - 0s 144us/step - loss: 0.5751 - acc: 0.7113\n",
      "Epoch 86/120\n",
      "530/530 [==============================] - 0s 131us/step - loss: 0.5743 - acc: 0.7113\n",
      "Epoch 87/120\n",
      "530/530 [==============================] - 0s 143us/step - loss: 0.5781 - acc: 0.6792\n",
      "Epoch 88/120\n",
      "530/530 [==============================] - 0s 170us/step - loss: 0.5787 - acc: 0.6774\n",
      "Epoch 89/120\n",
      "530/530 [==============================] - 0s 174us/step - loss: 0.5766 - acc: 0.6981\n",
      "Epoch 90/120\n",
      "530/530 [==============================] - 0s 172us/step - loss: 0.5744 - acc: 0.6868\n",
      "Epoch 91/120\n",
      "530/530 [==============================] - 0s 145us/step - loss: 0.5850 - acc: 0.6811\n",
      "Epoch 92/120\n",
      "530/530 [==============================] - 0s 133us/step - loss: 0.5862 - acc: 0.6811\n",
      "Epoch 93/120\n",
      "530/530 [==============================] - 0s 149us/step - loss: 0.5654 - acc: 0.7019\n",
      "Epoch 94/120\n",
      "530/530 [==============================] - 0s 154us/step - loss: 0.5845 - acc: 0.6943\n",
      "Epoch 95/120\n",
      "530/530 [==============================] - 0s 154us/step - loss: 0.5949 - acc: 0.6604\n",
      "Epoch 96/120\n",
      "530/530 [==============================] - 0s 149us/step - loss: 0.5757 - acc: 0.6830\n",
      "Epoch 97/120\n",
      "530/530 [==============================] - 0s 132us/step - loss: 0.5899 - acc: 0.6679\n",
      "Epoch 98/120\n",
      "530/530 [==============================] - 0s 146us/step - loss: 0.5967 - acc: 0.6642\n",
      "Epoch 99/120\n",
      "530/530 [==============================] - 0s 148us/step - loss: 0.5801 - acc: 0.6830\n",
      "Epoch 100/120\n",
      "530/530 [==============================] - 0s 149us/step - loss: 0.5796 - acc: 0.7075\n",
      "Epoch 101/120\n",
      "530/530 [==============================] - 0s 128us/step - loss: 0.5830 - acc: 0.6868\n",
      "Epoch 102/120\n",
      "530/530 [==============================] - 0s 120us/step - loss: 0.5770 - acc: 0.7113\n",
      "Epoch 103/120\n",
      "530/530 [==============================] - 0s 151us/step - loss: 0.5825 - acc: 0.6925\n",
      "Epoch 104/120\n",
      "530/530 [==============================] - 0s 125us/step - loss: 0.5891 - acc: 0.6660\n",
      "Epoch 105/120\n",
      "530/530 [==============================] - 0s 142us/step - loss: 0.5853 - acc: 0.6830\n",
      "Epoch 106/120\n",
      "530/530 [==============================] - 0s 139us/step - loss: 0.5782 - acc: 0.6925\n",
      "Epoch 107/120\n",
      "530/530 [==============================] - 0s 136us/step - loss: 0.5856 - acc: 0.6642\n",
      "Epoch 108/120\n",
      "530/530 [==============================] - 0s 133us/step - loss: 0.5791 - acc: 0.6925\n",
      "Epoch 109/120\n",
      "530/530 [==============================] - 0s 140us/step - loss: 0.5756 - acc: 0.7000\n",
      "Epoch 110/120\n",
      "530/530 [==============================] - 0s 135us/step - loss: 0.5847 - acc: 0.6660\n",
      "Epoch 111/120\n",
      "530/530 [==============================] - 0s 136us/step - loss: 0.5850 - acc: 0.6981\n",
      "Epoch 112/120\n",
      "530/530 [==============================] - 0s 139us/step - loss: 0.5799 - acc: 0.6887\n",
      "Epoch 113/120\n",
      "530/530 [==============================] - 0s 134us/step - loss: 0.5745 - acc: 0.6849\n",
      "Epoch 114/120\n",
      "530/530 [==============================] - 0s 144us/step - loss: 0.5898 - acc: 0.6623\n",
      "Epoch 115/120\n",
      "530/530 [==============================] - 0s 115us/step - loss: 0.5879 - acc: 0.6774\n",
      "Epoch 116/120\n",
      "530/530 [==============================] - 0s 140us/step - loss: 0.5862 - acc: 0.6887\n",
      "Epoch 117/120\n",
      "530/530 [==============================] - 0s 125us/step - loss: 0.5835 - acc: 0.6717\n",
      "Epoch 118/120\n",
      "530/530 [==============================] - 0s 126us/step - loss: 0.5806 - acc: 0.6755\n",
      "Epoch 119/120\n",
      "530/530 [==============================] - 0s 137us/step - loss: 0.5789 - acc: 0.6830\n",
      "Epoch 120/120\n",
      "530/530 [==============================] - 0s 115us/step - loss: 0.5772 - acc: 0.6830\n"
     ]
    },
    {
     "data": {
      "text/plain": [
       "<keras.callbacks.History at 0x2633f4a8ac8>"
      ]
     },
     "execution_count": 65,
     "metadata": {},
     "output_type": "execute_result"
    }
   ],
   "source": [
    "# TB = TensorBoard(log_dir=\"logs/{}_{}{}\".format(MLP.name, localtime().tm_hour, localtime().tm_min))\n",
    "# MLP.fit(X, y, validation_split = 0.2, epochs=numEpoch, batch_size=numBatch, verbose=0, callbacks = [TB])\n",
    "MLP.fit(X_train, y_train, epochs=numEpoch, batch_size=numBatch, verbose=1)\n"
   ]
  },
  {
   "cell_type": "code",
   "execution_count": 66,
   "metadata": {},
   "outputs": [
    {
     "name": "stdout",
     "output_type": "stream",
     "text": [
      "402/402 [==============================] - 0s 466us/step\n"
     ]
    },
    {
     "data": {
      "text/plain": [
       "[0.5473488124448862, 0.71393034796216592]"
      ]
     },
     "execution_count": 66,
     "metadata": {},
     "output_type": "execute_result"
    }
   ],
   "source": [
    "MLP.evaluate(X_test, y_test)"
   ]
  },
  {
   "cell_type": "code",
   "execution_count": 28,
   "metadata": {
    "collapsed": true
   },
   "outputs": [],
   "source": [
    "# cvresults = cross_val_score(MLP, X, y, cv=kfold ,scoring='neg_log_loss', verbose=0)\n",
    "# print('Log-Loss Mean :{:.3} ({:.3})'.format(np.mean(cvresults), np.std(cvresults)))"
   ]
  },
  {
   "cell_type": "markdown",
   "metadata": {},
   "source": [
    "## SVM"
   ]
  },
  {
   "cell_type": "code",
   "execution_count": 29,
   "metadata": {},
   "outputs": [
    {
     "name": "stdout",
     "output_type": "stream",
     "text": [
      "Best MSE: -0.6222, with best C: 1 and best gamma: 0.001\n",
      "Log-Loss Mean :-0.625 (0.0208)\n",
      "Training set score: -0.594015\n",
      "Validation set score: -0.584290\n"
     ]
    }
   ],
   "source": [
    "\n",
    "# svc = SVC(C = .01, kernel = 'linear', probability = True)\n",
    "svm = SVC(probability=True)\n",
    "svc = GridSearchCV(svm, param_grid={\n",
    "     'C': [0.001, 0.01, 0.1, 1, 10],\n",
    "      'gamma': [0.001, 0.01, 0.1, 1, 10]},\n",
    "      scoring ='neg_log_loss', refit=True)\n",
    "\n",
    "svc.fit(X_train,y_train)\n",
    "print('Best MSE: {:.4}, with best C: {} and best gamma: {}'.format(svc.best_score_, \n",
    "                                                                        svc.best_params_['C'], svc.best_params_['gamma']))\n",
    "cvresults = cross_val_score(svc, X_train, y_train, cv=kfold ,scoring='neg_log_loss', verbose=0)\n",
    "print('Log-Loss Mean :{:.3} ({:.3})'.format(np.mean(cvresults), np.std(cvresults)))\n",
    "\n",
    "print(\"Training set score: %f\" % svc.score(X_train, y_train))\n",
    "print(\"Validation set score: %f\" % svc.score(X_test, y_test))"
   ]
  },
  {
   "cell_type": "markdown",
   "metadata": {},
   "source": [
    "## Making predictions with desired model"
   ]
  },
  {
   "cell_type": "markdown",
   "metadata": {},
   "source": [
    "### Extract data desired"
   ]
  },
  {
   "cell_type": "code",
   "execution_count": 30,
   "metadata": {
    "collapsed": true
   },
   "outputs": [],
   "source": [
    "data_dir = '../NCAA/Data/'\n",
    "df_sample_sub = pd.read_csv(data_dir + 'SampleSubmissionStage1.csv')\n",
    "data_file = data_dir + 'MarchMadnessAdvStats.csv'\n",
    "df_adv = pd.read_csv(data_file)\n",
    "df_seeds = pd.read_csv(data_dir + 'NCAATourneySeeds.csv')\n",
    "\n",
    "\n",
    "n_test_games = len(df_sample_sub)\n",
    "\n",
    "def get_year_t1_t2(ID):\n",
    "    \"\"\"Return a tuple with ints `year`, `team1` and `team2`.\"\"\"\n",
    "    return (int(x) for x in ID.split('_'))\n",
    "\n",
    "def seed_to_int(seed):\n",
    "    '''Get just the digits from the seeding. Return as int'''\n",
    "    s_int = int(seed[1:3])\n",
    "    return s_int"
   ]
  },
  {
   "cell_type": "code",
   "execution_count": null,
   "metadata": {
    "collapsed": true
   },
   "outputs": [],
   "source": [
    "print('Loading data for submission test')\n",
    "\n",
    "# Make the seeding an integer\n",
    "df_seeds['seed_int'] = df_seeds.Seed.apply(seed_to_int)\n",
    "df_seeds.drop(columns=['Seed'], inplace=True) # This is the string label\n",
    "df_seeds.head()\n",
    "\n",
    "\n",
    "T1_seed = []\n",
    "T1_adv = []\n",
    "T2_adv = []\n",
    "T2_seed = []\n",
    "for ii, row in df_sample_sub.iterrows():\n",
    "    year, t1, t2 = get_year_t1_t2(row.ID)\n",
    "    t1_seed = df_seeds[(df_seeds.TeamID == t1) & (df_seeds.Season == year)].seed_int.values[0]\n",
    "    t2_seed = df_seeds[(df_seeds.TeamID == t2) & (df_seeds.Season == year)].seed_int.values[0]\n",
    "    t1_adv = df_adv[(df_adv.TeamID == t1) & (df_adv.Season == year)].values[0]\n",
    "    t2_adv = df_adv[(df_adv.TeamID == t2) & (df_adv.Season == year)].values[0]\n",
    "    T1_seed.append(t1_seed)\n",
    "    T1_adv.append(t1_adv)\n",
    "    T2_seed.append(t2_seed)\n",
    "    T2_adv.append(t2_adv)\n",
    "\n",
    "T1_adv = [row[2:] for row in T1_adv]\n",
    "T2_adv = [row[2:] for row in T2_adv]\n",
    "T1_seed = np.reshape(T1_seed, [n_test_games,-1]).tolist()\n",
    "T2_seed = np.reshape(T2_seed, [n_test_games, -1]).tolist()\n",
    "X_pred = np.concatenate((T1_seed, T1_adv, T2_seed, T2_adv), axis=1)\n",
    "\n",
    "df_subData = pd.DataFrame(np.array(X_pred).reshape(np.shape(X_pred)[0], np.shape(X_pred)[1]))\n",
    "\n",
    "xDim = np.shape(df_subData)[1]\n",
    "X_pred = df_subData.values.reshape(-1,xDim)"
   ]
  },
  {
   "cell_type": "code",
   "execution_count": 36,
   "metadata": {},
   "outputs": [
    {
     "data": {
      "text/plain": [
       "(9112, 1)"
      ]
     },
     "execution_count": 36,
     "metadata": {},
     "output_type": "execute_result"
    }
   ],
   "source": [
    "np.shape(T1_seed)"
   ]
  },
  {
   "cell_type": "code",
   "execution_count": 33,
   "metadata": {},
   "outputs": [
    {
     "data": {
      "text/plain": [
       "(9112, 2)"
      ]
     },
     "execution_count": 33,
     "metadata": {},
     "output_type": "execute_result"
    }
   ],
   "source": [
    "# X_test = scaler.fit_transform(X_test)\n",
    "\n",
    "#s*************Check if this works!!!\n",
    "preds = MLP.predict_proba(X_pred)\n",
    "\n",
    "# df_sample_sub = pd.DataFrame()\n",
    "# clipped_preds = np.clip(preds, 0.05, 0.95)\n",
    "df_sample_sub.Pred = preds\n",
    "df_sample_sub.shape"
   ]
  },
  {
   "cell_type": "code",
   "execution_count": 26,
   "metadata": {
    "collapsed": true
   },
   "outputs": [],
   "source": [
    "filename = 'MLP'\n",
    "save_dir = '../NCAA/Submissions/'\n",
    "c=0\n",
    "ext = '.csv'\n",
    "if os.path.exists(save_dir+filename+ext):\n",
    "    while os.path.exists(filename+ext):\n",
    "        c+=1\n",
    "    filename = filename+'_'+str(c)\n",
    "    df_sample_sub.to_csv(save_dir+filename+ext, index=False)\n",
    "else:\n",
    "    df_sample_sub.to_csv(save_dir+filename+ext, index=False)"
   ]
  },
  {
   "cell_type": "code",
   "execution_count": null,
   "metadata": {
    "collapsed": true
   },
   "outputs": [],
   "source": []
  },
  {
   "cell_type": "code",
   "execution_count": null,
   "metadata": {
    "collapsed": true
   },
   "outputs": [],
   "source": []
  }
 ],
 "metadata": {
  "kernelspec": {
   "display_name": "Python 3",
   "language": "python",
   "name": "python3"
  },
  "language_info": {
   "codemirror_mode": {
    "name": "ipython",
    "version": 3
   },
   "file_extension": ".py",
   "mimetype": "text/x-python",
   "name": "python",
   "nbconvert_exporter": "python",
   "pygments_lexer": "ipython3",
   "version": "3.6.4"
  }
 },
 "nbformat": 4,
 "nbformat_minor": 2
}
