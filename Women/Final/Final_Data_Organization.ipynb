{
 "cells": [
  {
   "cell_type": "markdown",
   "metadata": {
    "_cell_guid": "ec7cb961-f53c-472b-9a15-6e92b0296082",
    "_uuid": "9853586a0dc75ce39e7c7ffcde1eb4d47c6fb02e"
   },
   "source": [
    "# Data Organization Script # "
   ]
  },
  {
   "cell_type": "code",
   "execution_count": 1,
   "metadata": {
    "_cell_guid": "0c233e05-c63d-4866-96dc-bb38d444bf84",
    "_uuid": "5464dc4b196dc4c8dd0323bbd71b75724113e2af",
    "scrolled": true
   },
   "outputs": [
    {
     "name": "stdout",
     "output_type": "stream",
     "text": [
      "Final_Data_Organization.ipynb\n",
      "Final MLP.ipynb\n",
      "wModel.py\n",
      "WNCAATourneyCompactResults.csv\n",
      "WNCAATourneyDetailedResults.csv\n",
      "WNCAATourneySeeds.csv\n",
      "WNCAATourneySlots.csv\n",
      "WRegularSeasonCompactResults.csv\n",
      "WRegularSeasonDetailedResults.csv\n",
      "WSampleSubmissionStage2.csv\n",
      "WSeasons.csv\n",
      "WTeams.csv\n",
      "WTeamSpellings.csv\n",
      "\n"
     ]
    }
   ],
   "source": [
    "# This Python 3 environment comes with many helpful analytics libraries installed\n",
    "# It is defined by the kaggle/python docker image: https://github.com/kaggle/docker-python\n",
    "# For example, here's several helpful packages to load in \n",
    "import numpy as np # linear algebra\n",
    "import pandas as pd # data processing, CSV file I/O (e.g. pd.read_csv)\n",
    "from math import pi\n",
    "# import seaborn as sns\n",
    "# import matplotlib as plt\n",
    "\n",
    "# Input data files are available in the \"../input/\" directory.\n",
    "# For example, running this (by clicking run or pressing Shift+Enter) will list the files in the input directory\n",
    "\n",
    "from subprocess import check_output\n",
    "print(check_output([\"ls\", \"../Final\"]).decode(\"utf8\"))\n",
    "\n",
    "# Any results you write to the current directory are saved as output.\n"
   ]
  },
  {
   "cell_type": "markdown",
   "metadata": {
    "_cell_guid": "11333bea-8d7c-47b2-b24b-97a8f38db6ae",
    "_uuid": "819472385a23f3fd5aaf4172b4f8db227cf5271f"
   },
   "source": [
    "# Load and Organize Training data\n"
   ]
  },
  {
   "cell_type": "code",
   "execution_count": 3,
   "metadata": {
    "_cell_guid": "ec1d5ab6-5977-4246-b355-8afd9101a405",
    "_uuid": "bf8ee168a0372e883332d6bb0ce5c89c13143650"
   },
   "outputs": [],
   "source": [
    "data_dir = '../Final/'\n",
    "df_seeds = pd.read_csv(data_dir + 'WNCAATourneySeeds.csv')\n",
    "# sdf_tour.head()"
   ]
  },
  {
   "cell_type": "markdown",
   "metadata": {},
   "source": [
    "Add advanced stats from https://www.kaggle.com/lnatml/feature-engineering-with-advanced-stats/notebook"
   ]
  },
  {
   "cell_type": "code",
   "execution_count": 4,
   "metadata": {},
   "outputs": [],
   "source": [
    "df = pd.read_csv(data_dir+'WRegularSeasonDetailedResults.csv')\n",
    "df = df[df.Season==2018]"
   ]
  },
  {
   "cell_type": "code",
   "execution_count": 5,
   "metadata": {},
   "outputs": [],
   "source": [
    "#Points Winning/Losing Team\n",
    "df['WPts'] = df.apply(lambda row: 2*(row.WFGM-row.WFGM3) + 3*row.WFGM3 + row.WFTM, axis=1)\n",
    "df['LPts'] = df.apply(lambda row: 2*(row.LFGM-row.WFGM3) + 3*row.LFGM3 + row.LFTM, axis=1)\n",
    "\n",
    "#Calculate Winning/losing Team Possesion Feature\n",
    "wPos = df.apply(lambda row: 0.96*(row.WFGA + row.WTO + 0.44*row.WFTA - row.WOR), axis=1)\n",
    "lPos = df.apply(lambda row: 0.96*(row.LFGA + row.LTO + 0.44*row.LFTA - row.LOR), axis=1)\n",
    "#two teams use almost the same number of possessions in a game\n",
    "#(plus/minus one or two - depending on how quarters end)\n",
    "#so let's just take the average\n",
    "df['Pos'] = (wPos+lPos)/2\n",
    "\n",
    "#Offensive efficiency (OffRtg) = 100 x (Points / Possessions)\n",
    "df['WOffRtg'] = df.apply(lambda row: 100 * (row.WPts / row.Pos), axis=1)\n",
    "df['LOffRtg'] = df.apply(lambda row: 100 * (row.LPts / row.Pos), axis=1)\n",
    "#Defensive efficiency (DefRtg) = 100 x (Opponent points / Opponent possessions)\n",
    "df['WDefRtg'] = df.LOffRtg\n",
    "df['LDefRtg'] = df.WOffRtg\n",
    "#Net Rating = Off.eff - Def.eff\n",
    "df['WNetRtg'] = df.apply(lambda row:(row.WOffRtg - row.LDefRtg), axis=1)\n",
    "df['LNetRtg'] = df.apply(lambda row:(row.LOffRtg - row.LDefRtg), axis=1)\n",
    "                         \n",
    "#Assist Ratio : Percentage of team possessions that end in assists\n",
    "df['WAstR'] = df.apply(lambda row: 100 * row.WAst / (row.WFGA + 0.44*row.WFTA + row.WAst + row.WTO), axis=1)\n",
    "df['LAstR'] = df.apply(lambda row: 100 * row.LAst / (row.LFGA + 0.44*row.LFTA + row.LAst + row.LTO), axis=1)\n",
    "#Turnover Ratio: Number of turnovers of a team per 100 possessions used.\n",
    "#(TO * 100) / (FGA + (FTA * 0.44) + AST + TO\n",
    "df['WTOR'] = df.apply(lambda row: 100 * row.LAst / (row.LFGA + 0.44*row.LFTA + row.LAst + row.LTO), axis=1)\n",
    "df['LTOR'] = df.apply(lambda row: 100 * row.LAst / (row.LFGA + 0.44*row.LFTA + row.LAst + row.LTO), axis=1)\n",
    "                    \n",
    "#The Shooting Percentage : Measure of Shooting Efficiency (FGA/FGA3, FTA)\n",
    "df['WTSP'] = df.apply(lambda row: 100 * row.WPts / (2 * (row.WFGA + 0.44 * row.WFTA)), axis=1)\n",
    "df['LTSP'] = df.apply(lambda row: 100 * row.LPts / (2 * (row.LFGA + 0.44 * row.LFTA)), axis=1)\n",
    "#eFG% : Effective Field Goal Percentage adjusting for the fact that 3pt shots are more valuable \n",
    "df['WeFGP'] = df.apply(lambda row:(row.WFGM + 0.5 * row.WFGM3) / row.WFGA, axis=1)      \n",
    "df['LeFGP'] = df.apply(lambda row:(row.LFGM + 0.5 * row.LFGM3) / row.LFGA, axis=1)   \n",
    "#FTA Rate : How good a team is at drawing fouls.\n",
    "df['WFTAR'] = df.apply(lambda row: row.WFTA / row.WFGA, axis=1)\n",
    "df['LFTAR'] = df.apply(lambda row: row.LFTA / row.LFGA, axis=1)\n",
    "                         \n",
    "#OREB% : Percentage of team offensive rebounds\n",
    "df['WORP'] = df.apply(lambda row: row.WOR / (row.WOR + row.LDR), axis=1)\n",
    "df['LORP'] = df.apply(lambda row: row.LOR / (row.LOR + row.WDR), axis=1)\n",
    "#DREB% : Percentage of team defensive rebounds\n",
    "df['WDRP'] = df.apply(lambda row: row.WDR / (row.WDR + row.LOR), axis=1)\n",
    "df['LDRP'] = df.apply(lambda row: row.LDR / (row.LDR + row.WOR), axis=1)                                      \n",
    "#REB% : Percentage of team total rebounds\n",
    "df['WRP'] = df.apply(lambda row: (row.WDR + row.WOR) / (row.WDR + row.WOR + row.LDR + row.LOR), axis=1)\n",
    "df['LRP'] = df.apply(lambda row: (row.LDR + row.WOR) / (row.WDR + row.WOR + row.LDR + row.LOR), axis=1)"
   ]
  },
  {
   "cell_type": "markdown",
   "metadata": {},
   "source": [
    "After creating adv stats, now we need to split the winning and losing team stats for a more overall picture"
   ]
  },
  {
   "cell_type": "code",
   "execution_count": 6,
   "metadata": {},
   "outputs": [
    {
     "name": "stdout",
     "output_type": "stream",
     "text": [
      "['Season' 'WTeamID' 'LTeamID' 'WPts' 'LPts' 'Pos' 'WOffRtg' 'LOffRtg'\n",
      " 'WDefRtg' 'LDefRtg' 'WNetRtg' 'LNetRtg' 'WAstR' 'LAstR' 'WTOR' 'LTOR'\n",
      " 'WTSP' 'LTSP' 'WeFGP' 'LeFGP' 'WFTAR' 'LFTAR' 'WORP' 'LORP' 'WDRP' 'LDRP'\n",
      " 'WRP' 'LRP']\n"
     ]
    }
   ],
   "source": [
    "df_TeamID = pd.concat((df['WTeamID'], df['LTeamID']), axis=1)\n",
    "df_adv2 = df.iloc[:, 34:].copy()\n",
    "df_adv = pd.concat((df_TeamID, df_adv2), axis=1)\n",
    "df_adv = pd.concat((df['Season'], df_adv), axis=1)\n",
    "# df_adv.head()\n",
    "names = df_adv.columns.values \n",
    "print(names)\n"
   ]
  },
  {
   "cell_type": "code",
   "execution_count": 7,
   "metadata": {},
   "outputs": [],
   "source": [
    "Wnames = ['Season', 'WTeamID','WPts','Pos', 'WOffRtg' ,'WDefRtg',\n",
    "          'WNetRtg', 'WAstR', 'WTOR', 'WTSP','WeFGP','WFTAR', 'WORP', 'WDRP','WRP']\n",
    "Lnames = ['Season', 'LTeamID', 'LPts', 'Pos', 'LOffRtg','LDefRtg',\n",
    "          'LNetRtg', 'LAstR', 'LTOR','LTSP', 'LeFGP','LFTAR', 'LORP', 'LDRP', 'LRP' ]\n",
    "df_advW = df_adv.loc[:,Wnames].copy()\n",
    "df_advL = df_adv.loc[:,Lnames].copy()\n",
    "df_advW.rename(columns={'WTeamID':'TeamID'}, inplace=True)\n",
    "df_advL.rename(columns={'LTeamID':'TeamID'}, inplace=True)"
   ]
  },
  {
   "cell_type": "markdown",
   "metadata": {},
   "source": [
    "Must concat then group the advanced stats to get season averages for each team"
   ]
  },
  {
   "cell_type": "code",
   "execution_count": 8,
   "metadata": {},
   "outputs": [],
   "source": [
    "names = ['Season', 'TeamID', 'Pts', 'Pos', 'OffRtg','DefRtg',\n",
    "          'NetRtg', 'AstR', 'TOR','TSP', 'eFGP','FTAR', 'ORP', 'DRP', 'RP' ]\n",
    "df_advL.columns = names\n",
    "df_advW.columns = names\n",
    "df_A = pd.concat((df_advL, df_advW), axis=0, ignore_index=True)\n",
    "groupedA = df_A.groupby(['Season', 'TeamID'], as_index=False)\n",
    "df_A = groupedA.agg(np.mean)\n",
    "# df_A.shape\n",
    "df_advL = df_A.copy()\n",
    "df_advW = df_A.copy()\n"
   ]
  },
  {
   "cell_type": "code",
   "execution_count": 9,
   "metadata": {},
   "outputs": [
    {
     "data": {
      "text/html": [
       "<div>\n",
       "<style scoped>\n",
       "    .dataframe tbody tr th:only-of-type {\n",
       "        vertical-align: middle;\n",
       "    }\n",
       "\n",
       "    .dataframe tbody tr th {\n",
       "        vertical-align: top;\n",
       "    }\n",
       "\n",
       "    .dataframe thead th {\n",
       "        text-align: right;\n",
       "    }\n",
       "</style>\n",
       "<table border=\"1\" class=\"dataframe\">\n",
       "  <thead>\n",
       "    <tr style=\"text-align: right;\">\n",
       "      <th></th>\n",
       "      <th>Season</th>\n",
       "      <th>TeamID</th>\n",
       "      <th>Pts</th>\n",
       "      <th>Pos</th>\n",
       "      <th>OffRtg</th>\n",
       "      <th>DefRtg</th>\n",
       "      <th>NetRtg</th>\n",
       "      <th>AstR</th>\n",
       "      <th>TOR</th>\n",
       "      <th>TSP</th>\n",
       "      <th>eFGP</th>\n",
       "      <th>FTAR</th>\n",
       "      <th>ORP</th>\n",
       "      <th>DRP</th>\n",
       "      <th>RP</th>\n",
       "    </tr>\n",
       "  </thead>\n",
       "  <tbody>\n",
       "    <tr>\n",
       "      <th>344</th>\n",
       "      <td>2018</td>\n",
       "      <td>3460</td>\n",
       "      <td>70.548387</td>\n",
       "      <td>66.005265</td>\n",
       "      <td>106.589342</td>\n",
       "      <td>93.116864</td>\n",
       "      <td>-4.698713</td>\n",
       "      <td>12.816905</td>\n",
       "      <td>11.289681</td>\n",
       "      <td>48.246051</td>\n",
       "      <td>0.440026</td>\n",
       "      <td>0.328681</td>\n",
       "      <td>0.393259</td>\n",
       "      <td>0.699035</td>\n",
       "      <td>0.507456</td>\n",
       "    </tr>\n",
       "    <tr>\n",
       "      <th>345</th>\n",
       "      <td>2018</td>\n",
       "      <td>3461</td>\n",
       "      <td>61.310345</td>\n",
       "      <td>59.802041</td>\n",
       "      <td>102.791828</td>\n",
       "      <td>89.322779</td>\n",
       "      <td>-4.766990</td>\n",
       "      <td>15.955198</td>\n",
       "      <td>11.579984</td>\n",
       "      <td>53.411961</td>\n",
       "      <td>0.487196</td>\n",
       "      <td>0.307635</td>\n",
       "      <td>0.271120</td>\n",
       "      <td>0.746692</td>\n",
       "      <td>0.516928</td>\n",
       "    </tr>\n",
       "    <tr>\n",
       "      <th>346</th>\n",
       "      <td>2018</td>\n",
       "      <td>3462</td>\n",
       "      <td>56.833333</td>\n",
       "      <td>63.474560</td>\n",
       "      <td>89.336018</td>\n",
       "      <td>99.979243</td>\n",
       "      <td>-19.984408</td>\n",
       "      <td>13.789852</td>\n",
       "      <td>13.103158</td>\n",
       "      <td>48.409972</td>\n",
       "      <td>0.467221</td>\n",
       "      <td>0.299154</td>\n",
       "      <td>0.254764</td>\n",
       "      <td>0.690159</td>\n",
       "      <td>0.506806</td>\n",
       "    </tr>\n",
       "    <tr>\n",
       "      <th>347</th>\n",
       "      <td>2018</td>\n",
       "      <td>3463</td>\n",
       "      <td>64.928571</td>\n",
       "      <td>70.439314</td>\n",
       "      <td>92.077836</td>\n",
       "      <td>90.863108</td>\n",
       "      <td>-10.824932</td>\n",
       "      <td>12.735682</td>\n",
       "      <td>12.382035</td>\n",
       "      <td>46.392436</td>\n",
       "      <td>0.448651</td>\n",
       "      <td>0.287338</td>\n",
       "      <td>0.297958</td>\n",
       "      <td>0.694608</td>\n",
       "      <td>0.492131</td>\n",
       "    </tr>\n",
       "    <tr>\n",
       "      <th>348</th>\n",
       "      <td>2018</td>\n",
       "      <td>3464</td>\n",
       "      <td>63.862069</td>\n",
       "      <td>64.343172</td>\n",
       "      <td>98.964329</td>\n",
       "      <td>95.303133</td>\n",
       "      <td>-9.654426</td>\n",
       "      <td>14.956915</td>\n",
       "      <td>13.176745</td>\n",
       "      <td>52.445229</td>\n",
       "      <td>0.479859</td>\n",
       "      <td>0.255965</td>\n",
       "      <td>0.255406</td>\n",
       "      <td>0.675553</td>\n",
       "      <td>0.510688</td>\n",
       "    </tr>\n",
       "  </tbody>\n",
       "</table>\n",
       "</div>"
      ],
      "text/plain": [
       "     Season  TeamID        Pts        Pos      OffRtg     DefRtg     NetRtg  \\\n",
       "344    2018    3460  70.548387  66.005265  106.589342  93.116864  -4.698713   \n",
       "345    2018    3461  61.310345  59.802041  102.791828  89.322779  -4.766990   \n",
       "346    2018    3462  56.833333  63.474560   89.336018  99.979243 -19.984408   \n",
       "347    2018    3463  64.928571  70.439314   92.077836  90.863108 -10.824932   \n",
       "348    2018    3464  63.862069  64.343172   98.964329  95.303133  -9.654426   \n",
       "\n",
       "          AstR        TOR        TSP      eFGP      FTAR       ORP       DRP  \\\n",
       "344  12.816905  11.289681  48.246051  0.440026  0.328681  0.393259  0.699035   \n",
       "345  15.955198  11.579984  53.411961  0.487196  0.307635  0.271120  0.746692   \n",
       "346  13.789852  13.103158  48.409972  0.467221  0.299154  0.254764  0.690159   \n",
       "347  12.735682  12.382035  46.392436  0.448651  0.287338  0.297958  0.694608   \n",
       "348  14.956915  13.176745  52.445229  0.479859  0.255965  0.255406  0.675553   \n",
       "\n",
       "           RP  \n",
       "344  0.507456  \n",
       "345  0.516928  \n",
       "346  0.506806  \n",
       "347  0.492131  \n",
       "348  0.510688  "
      ]
     },
     "execution_count": 9,
     "metadata": {},
     "output_type": "execute_result"
    }
   ],
   "source": [
    "df_Adv= df_A\n",
    "df_Adv.tail()"
   ]
  },
  {
   "cell_type": "markdown",
   "metadata": {
    "_cell_guid": "79186b24-985b-40da-8ae6-f4f4b44f05a2",
    "_uuid": "42f99f53dd385e23b09378e0de9d3fce5eb1a2e9"
   },
   "source": [
    "Cut off the region identifier from the seed number"
   ]
  },
  {
   "cell_type": "code",
   "execution_count": 10,
   "metadata": {
    "_cell_guid": "da1a44b9-1a31-4fbb-bcaf-e18bd9585e13",
    "_uuid": "fcb18269a41cfa257bd97c40664e43e701251bed"
   },
   "outputs": [],
   "source": [
    "def seed_to_int(seed):\n",
    "    #Get just the digits from the seeding. Return as int\n",
    "    s_int = int(seed[1:3])\n",
    "    return s_int\n",
    "df_seeds['seed_int'] = df_seeds.Seed.apply(seed_to_int)\n",
    "df_seeds.drop(columns=['Seed'], inplace=True) # This is the string label\n"
   ]
  },
  {
   "cell_type": "code",
   "execution_count": 12,
   "metadata": {},
   "outputs": [],
   "source": [
    "df_Adv.to_csv(data_dir+'FinalMarchMadnessAdvStats.csv', index=False)"
   ]
  },
  {
   "cell_type": "code",
   "execution_count": null,
   "metadata": {},
   "outputs": [],
   "source": []
  },
  {
   "cell_type": "code",
   "execution_count": null,
   "metadata": {},
   "outputs": [],
   "source": []
  }
 ],
 "metadata": {
  "kernelspec": {
   "display_name": "Python 3",
   "language": "python",
   "name": "python3"
  },
  "language_info": {
   "codemirror_mode": {
    "name": "ipython",
    "version": 3
   },
   "file_extension": ".py",
   "mimetype": "text/x-python",
   "name": "python",
   "nbconvert_exporter": "python",
   "pygments_lexer": "ipython3",
   "version": "3.5.2"
  }
 },
 "nbformat": 4,
 "nbformat_minor": 1
}
