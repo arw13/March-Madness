{
 "cells": [
  {
   "cell_type": "markdown",
   "metadata": {
    "_cell_guid": "ec7cb961-f53c-472b-9a15-6e92b0296082",
    "_uuid": "9853586a0dc75ce39e7c7ffcde1eb4d47c6fb02e"
   },
   "source": [
    "# Data Organization Script # "
   ]
  },
  {
   "cell_type": "code",
   "execution_count": 2,
   "metadata": {
    "_cell_guid": "0c233e05-c63d-4866-96dc-bb38d444bf84",
    "_uuid": "5464dc4b196dc4c8dd0323bbd71b75724113e2af"
   },
   "outputs": [
    {
     "name": "stdout",
     "output_type": "stream",
     "text": [
      "Data_Organization.ipynb\n",
      "Final_Data_Organization.ipynb\n",
      "FinalMarchMadnessAdvStats.csv\n",
      "Final MLP.ipynb\n",
      "MarchMadnessAdvStats.csv\n",
      "OldWNCAATourneyCompactResults.csv\n",
      "OldWNCAATourneySeeds.csv\n",
      "wModel.py\n",
      "WNCAATourneyCompactResults.csv\n",
      "WNCAATourneyDetailedResults.csv\n",
      "WNCAATourneySeeds.csv\n",
      "WNCAATourneySlots.csv\n",
      "WRegularSeasonCompactResults.csv\n",
      "WRegularSeasonDetailedResults.csv\n",
      "WSampleSubmissionStage2.csv\n",
      "WSeasons.csv\n",
      "WTeams.csv\n",
      "WTeamSpellings.csv\n",
      "\n"
     ]
    }
   ],
   "source": [
    "# This Python 3 environment comes with many helpful analytics libraries installed\n",
    "# It is defined by the kaggle/python docker image: https://github.com/kaggle/docker-python\n",
    "# For example, here's several helpful packages to load in \n",
    "import numpy as np # linear algebra\n",
    "import pandas as pd # data processing, CSV file I/O (e.g. pd.read_csv)\n",
    "from math import pi\n",
    "# import seaborn as sns\n",
    "# import matplotlib as plt\n",
    "\n",
    "# Input data files are available in the \"../input/\" directory.\n",
    "# For example, running this (by clicking run or pressing Shift+Enter) will list the files in the input directory\n",
    "\n",
    "from subprocess import check_output\n",
    "print(check_output([\"ls\", \"../Final\"]).decode(\"utf8\"))\n",
    "\n",
    "# Any results you write to the current directory are saved as output.\n"
   ]
  },
  {
   "cell_type": "markdown",
   "metadata": {
    "_cell_guid": "11333bea-8d7c-47b2-b24b-97a8f38db6ae",
    "_uuid": "819472385a23f3fd5aaf4172b4f8db227cf5271f"
   },
   "source": [
    "# Load and Organize Training data\n"
   ]
  },
  {
   "cell_type": "code",
   "execution_count": 33,
   "metadata": {
    "_cell_guid": "ec1d5ab6-5977-4246-b355-8afd9101a405",
    "_uuid": "bf8ee168a0372e883332d6bb0ce5c89c13143650"
   },
   "outputs": [
    {
     "data": {
      "text/html": [
       "<div>\n",
       "<style scoped>\n",
       "    .dataframe tbody tr th:only-of-type {\n",
       "        vertical-align: middle;\n",
       "    }\n",
       "\n",
       "    .dataframe tbody tr th {\n",
       "        vertical-align: top;\n",
       "    }\n",
       "\n",
       "    .dataframe thead th {\n",
       "        text-align: right;\n",
       "    }\n",
       "</style>\n",
       "<table border=\"1\" class=\"dataframe\">\n",
       "  <thead>\n",
       "    <tr style=\"text-align: right;\">\n",
       "      <th></th>\n",
       "      <th>Season</th>\n",
       "      <th>DayNum</th>\n",
       "      <th>WTeamID</th>\n",
       "      <th>WScore</th>\n",
       "      <th>LTeamID</th>\n",
       "      <th>LScore</th>\n",
       "      <th>WLoc</th>\n",
       "      <th>NumOT</th>\n",
       "    </tr>\n",
       "  </thead>\n",
       "  <tbody>\n",
       "    <tr>\n",
       "      <th>0</th>\n",
       "      <td>1998</td>\n",
       "      <td>137</td>\n",
       "      <td>3104</td>\n",
       "      <td>94</td>\n",
       "      <td>3422</td>\n",
       "      <td>46</td>\n",
       "      <td>H</td>\n",
       "      <td>0</td>\n",
       "    </tr>\n",
       "    <tr>\n",
       "      <th>1</th>\n",
       "      <td>1998</td>\n",
       "      <td>137</td>\n",
       "      <td>3112</td>\n",
       "      <td>75</td>\n",
       "      <td>3365</td>\n",
       "      <td>63</td>\n",
       "      <td>H</td>\n",
       "      <td>0</td>\n",
       "    </tr>\n",
       "    <tr>\n",
       "      <th>2</th>\n",
       "      <td>1998</td>\n",
       "      <td>137</td>\n",
       "      <td>3163</td>\n",
       "      <td>93</td>\n",
       "      <td>3193</td>\n",
       "      <td>52</td>\n",
       "      <td>H</td>\n",
       "      <td>0</td>\n",
       "    </tr>\n",
       "    <tr>\n",
       "      <th>3</th>\n",
       "      <td>1998</td>\n",
       "      <td>137</td>\n",
       "      <td>3198</td>\n",
       "      <td>59</td>\n",
       "      <td>3266</td>\n",
       "      <td>45</td>\n",
       "      <td>H</td>\n",
       "      <td>0</td>\n",
       "    </tr>\n",
       "    <tr>\n",
       "      <th>4</th>\n",
       "      <td>1998</td>\n",
       "      <td>137</td>\n",
       "      <td>3203</td>\n",
       "      <td>74</td>\n",
       "      <td>3208</td>\n",
       "      <td>72</td>\n",
       "      <td>A</td>\n",
       "      <td>0</td>\n",
       "    </tr>\n",
       "  </tbody>\n",
       "</table>\n",
       "</div>"
      ],
      "text/plain": [
       "   Season  DayNum  WTeamID  WScore  LTeamID  LScore WLoc  NumOT\n",
       "0    1998     137     3104      94     3422      46    H      0\n",
       "1    1998     137     3112      75     3365      63    H      0\n",
       "2    1998     137     3163      93     3193      52    H      0\n",
       "3    1998     137     3198      59     3266      45    H      0\n",
       "4    1998     137     3203      74     3208      72    A      0"
      ]
     },
     "execution_count": 33,
     "metadata": {},
     "output_type": "execute_result"
    }
   ],
   "source": [
    "data_dir = '../Final/'\n",
    "df_seeds = pd.read_csv(data_dir + 'OldWNCAATourneySeeds.csv')\n",
    "df_tour = pd.read_csv(data_dir + 'OldWNCAATourneyCompactResults.csv')\n",
    "df_tour.head()"
   ]
  },
  {
   "cell_type": "markdown",
   "metadata": {},
   "source": [
    "Add advanced stats from https://www.kaggle.com/lnatml/feature-engineering-with-advanced-stats/notebook"
   ]
  },
  {
   "cell_type": "code",
   "execution_count": 34,
   "metadata": {},
   "outputs": [],
   "source": [
    "df = pd.read_csv(data_dir+'WRegularSeasonDetailedResults.csv')\n"
   ]
  },
  {
   "cell_type": "code",
   "execution_count": 35,
   "metadata": {},
   "outputs": [],
   "source": [
    "#Points Winning/Losing Team\n",
    "df['WPts'] = df.apply(lambda row: 2*(row.WFGM-row.WFGM3) + 3*row.WFGM3 + row.WFTM, axis=1)\n",
    "df['LPts'] = df.apply(lambda row: 2*(row.LFGM-row.WFGM3) + 3*row.LFGM3 + row.LFTM, axis=1)\n",
    "\n",
    "#Calculate Winning/losing Team Possesion Feature\n",
    "wPos = df.apply(lambda row: 0.96*(row.WFGA + row.WTO + 0.44*row.WFTA - row.WOR), axis=1)\n",
    "lPos = df.apply(lambda row: 0.96*(row.LFGA + row.LTO + 0.44*row.LFTA - row.LOR), axis=1)\n",
    "#two teams use almost the same number of possessions in a game\n",
    "#(plus/minus one or two - depending on how quarters end)\n",
    "#so let's just take the average\n",
    "df['Pos'] = (wPos+lPos)/2\n",
    "\n",
    "#Offensive efficiency (OffRtg) = 100 x (Points / Possessions)\n",
    "df['WOffRtg'] = df.apply(lambda row: 100 * (row.WPts / row.Pos), axis=1)\n",
    "df['LOffRtg'] = df.apply(lambda row: 100 * (row.LPts / row.Pos), axis=1)\n",
    "#Defensive efficiency (DefRtg) = 100 x (Opponent points / Opponent possessions)\n",
    "df['WDefRtg'] = df.LOffRtg\n",
    "df['LDefRtg'] = df.WOffRtg\n",
    "#Net Rating = Off.eff - Def.eff\n",
    "df['WNetRtg'] = df.apply(lambda row:(row.WOffRtg - row.LDefRtg), axis=1)\n",
    "df['LNetRtg'] = df.apply(lambda row:(row.LOffRtg - row.LDefRtg), axis=1)\n",
    "                         \n",
    "#Assist Ratio : Percentage of team possessions that end in assists\n",
    "df['WAstR'] = df.apply(lambda row: 100 * row.WAst / (row.WFGA + 0.44*row.WFTA + row.WAst + row.WTO), axis=1)\n",
    "df['LAstR'] = df.apply(lambda row: 100 * row.LAst / (row.LFGA + 0.44*row.LFTA + row.LAst + row.LTO), axis=1)\n",
    "#Turnover Ratio: Number of turnovers of a team per 100 possessions used.\n",
    "#(TO * 100) / (FGA + (FTA * 0.44) + AST + TO\n",
    "df['WTOR'] = df.apply(lambda row: 100 * row.LAst / (row.LFGA + 0.44*row.LFTA + row.LAst + row.LTO), axis=1)\n",
    "df['LTOR'] = df.apply(lambda row: 100 * row.LAst / (row.LFGA + 0.44*row.LFTA + row.LAst + row.LTO), axis=1)\n",
    "                    \n",
    "#The Shooting Percentage : Measure of Shooting Efficiency (FGA/FGA3, FTA)\n",
    "df['WTSP'] = df.apply(lambda row: 100 * row.WPts / (2 * (row.WFGA + 0.44 * row.WFTA)), axis=1)\n",
    "df['LTSP'] = df.apply(lambda row: 100 * row.LPts / (2 * (row.LFGA + 0.44 * row.LFTA)), axis=1)\n",
    "#eFG% : Effective Field Goal Percentage adjusting for the fact that 3pt shots are more valuable \n",
    "df['WeFGP'] = df.apply(lambda row:(row.WFGM + 0.5 * row.WFGM3) / row.WFGA, axis=1)      \n",
    "df['LeFGP'] = df.apply(lambda row:(row.LFGM + 0.5 * row.LFGM3) / row.LFGA, axis=1)   \n",
    "#FTA Rate : How good a team is at drawing fouls.\n",
    "df['WFTAR'] = df.apply(lambda row: row.WFTA / row.WFGA, axis=1)\n",
    "df['LFTAR'] = df.apply(lambda row: row.LFTA / row.LFGA, axis=1)\n",
    "                         \n",
    "#OREB% : Percentage of team offensive rebounds\n",
    "df['WORP'] = df.apply(lambda row: row.WOR / (row.WOR + row.LDR), axis=1)\n",
    "df['LORP'] = df.apply(lambda row: row.LOR / (row.LOR + row.WDR), axis=1)\n",
    "#DREB% : Percentage of team defensive rebounds\n",
    "df['WDRP'] = df.apply(lambda row: row.WDR / (row.WDR + row.LOR), axis=1)\n",
    "df['LDRP'] = df.apply(lambda row: row.LDR / (row.LDR + row.WOR), axis=1)                                      \n",
    "#REB% : Percentage of team total rebounds\n",
    "df['WRP'] = df.apply(lambda row: (row.WDR + row.WOR) / (row.WDR + row.WOR + row.LDR + row.LOR), axis=1)\n",
    "df['LRP'] = df.apply(lambda row: (row.LDR + row.WOR) / (row.WDR + row.WOR + row.LDR + row.LOR), axis=1)"
   ]
  },
  {
   "cell_type": "markdown",
   "metadata": {},
   "source": [
    "After creating adv stats, now we need to split the winning and losing team stats for a more overall picture"
   ]
  },
  {
   "cell_type": "code",
   "execution_count": 36,
   "metadata": {},
   "outputs": [
    {
     "name": "stdout",
     "output_type": "stream",
     "text": [
      "['Season' 'WTeamID' 'LTeamID' 'WPts' 'LPts' 'Pos' 'WOffRtg' 'LOffRtg'\n",
      " 'WDefRtg' 'LDefRtg' 'WNetRtg' 'LNetRtg' 'WAstR' 'LAstR' 'WTOR' 'LTOR'\n",
      " 'WTSP' 'LTSP' 'WeFGP' 'LeFGP' 'WFTAR' 'LFTAR' 'WORP' 'LORP' 'WDRP' 'LDRP'\n",
      " 'WRP' 'LRP']\n"
     ]
    }
   ],
   "source": [
    "df_TeamID = pd.concat((df['WTeamID'], df['LTeamID']), axis=1)\n",
    "df_adv2 = df.iloc[:, 34:].copy()\n",
    "df_adv = pd.concat((df_TeamID, df_adv2), axis=1)\n",
    "df_adv = pd.concat((df['Season'], df_adv), axis=1)\n",
    "# df_adv.head()\n",
    "names = df_adv.columns.values \n",
    "print(names)\n"
   ]
  },
  {
   "cell_type": "code",
   "execution_count": 37,
   "metadata": {},
   "outputs": [],
   "source": [
    "Wnames = ['Season', 'WTeamID','WPts','Pos', 'WOffRtg' ,'WDefRtg',\n",
    "          'WNetRtg', 'WAstR', 'WTOR', 'WTSP','WeFGP','WFTAR', 'WORP', 'WDRP','WRP']\n",
    "Lnames = ['Season', 'LTeamID', 'LPts', 'Pos', 'LOffRtg','LDefRtg',\n",
    "          'LNetRtg', 'LAstR', 'LTOR','LTSP', 'LeFGP','LFTAR', 'LORP', 'LDRP', 'LRP' ]\n",
    "df_advW = df_adv.loc[:,Wnames].copy()\n",
    "df_advL = df_adv.loc[:,Lnames].copy()\n",
    "df_advW.rename(columns={'WTeamID':'TeamID'}, inplace=True)\n",
    "df_advL.rename(columns={'LTeamID':'TeamID'}, inplace=True)"
   ]
  },
  {
   "cell_type": "markdown",
   "metadata": {},
   "source": [
    "Must concat then group the advanced stats to get season averages for each team"
   ]
  },
  {
   "cell_type": "code",
   "execution_count": 51,
   "metadata": {},
   "outputs": [
    {
     "data": {
      "text/html": [
       "<div>\n",
       "<style scoped>\n",
       "    .dataframe tbody tr th:only-of-type {\n",
       "        vertical-align: middle;\n",
       "    }\n",
       "\n",
       "    .dataframe tbody tr th {\n",
       "        vertical-align: top;\n",
       "    }\n",
       "\n",
       "    .dataframe thead th {\n",
       "        text-align: right;\n",
       "    }\n",
       "</style>\n",
       "<table border=\"1\" class=\"dataframe\">\n",
       "  <thead>\n",
       "    <tr style=\"text-align: right;\">\n",
       "      <th></th>\n",
       "      <th>Season</th>\n",
       "      <th>TeamID</th>\n",
       "      <th>Pts</th>\n",
       "      <th>Pos</th>\n",
       "      <th>OffRtg</th>\n",
       "      <th>DefRtg</th>\n",
       "      <th>NetRtg</th>\n",
       "      <th>AstR</th>\n",
       "      <th>TOR</th>\n",
       "      <th>TSP</th>\n",
       "      <th>eFGP</th>\n",
       "      <th>FTAR</th>\n",
       "      <th>ORP</th>\n",
       "      <th>DRP</th>\n",
       "      <th>RP</th>\n",
       "    </tr>\n",
       "  </thead>\n",
       "  <tbody>\n",
       "    <tr>\n",
       "      <th>3113</th>\n",
       "      <td>2018</td>\n",
       "      <td>3460</td>\n",
       "      <td>70.548387</td>\n",
       "      <td>66.005265</td>\n",
       "      <td>106.589342</td>\n",
       "      <td>93.116864</td>\n",
       "      <td>-4.698713</td>\n",
       "      <td>12.816905</td>\n",
       "      <td>11.289681</td>\n",
       "      <td>48.246051</td>\n",
       "      <td>0.440026</td>\n",
       "      <td>0.328681</td>\n",
       "      <td>0.393259</td>\n",
       "      <td>0.699035</td>\n",
       "      <td>0.507456</td>\n",
       "    </tr>\n",
       "    <tr>\n",
       "      <th>3114</th>\n",
       "      <td>2018</td>\n",
       "      <td>3461</td>\n",
       "      <td>61.310345</td>\n",
       "      <td>59.802041</td>\n",
       "      <td>102.791828</td>\n",
       "      <td>89.322779</td>\n",
       "      <td>-4.766990</td>\n",
       "      <td>15.955198</td>\n",
       "      <td>11.579984</td>\n",
       "      <td>53.411961</td>\n",
       "      <td>0.487196</td>\n",
       "      <td>0.307635</td>\n",
       "      <td>0.271120</td>\n",
       "      <td>0.746692</td>\n",
       "      <td>0.516928</td>\n",
       "    </tr>\n",
       "    <tr>\n",
       "      <th>3115</th>\n",
       "      <td>2018</td>\n",
       "      <td>3462</td>\n",
       "      <td>56.833333</td>\n",
       "      <td>63.474560</td>\n",
       "      <td>89.336018</td>\n",
       "      <td>99.979243</td>\n",
       "      <td>-19.984408</td>\n",
       "      <td>13.789852</td>\n",
       "      <td>13.103158</td>\n",
       "      <td>48.409972</td>\n",
       "      <td>0.467221</td>\n",
       "      <td>0.299154</td>\n",
       "      <td>0.254764</td>\n",
       "      <td>0.690159</td>\n",
       "      <td>0.506806</td>\n",
       "    </tr>\n",
       "    <tr>\n",
       "      <th>3116</th>\n",
       "      <td>2018</td>\n",
       "      <td>3463</td>\n",
       "      <td>64.928571</td>\n",
       "      <td>70.439314</td>\n",
       "      <td>92.077836</td>\n",
       "      <td>90.863108</td>\n",
       "      <td>-10.824932</td>\n",
       "      <td>12.735682</td>\n",
       "      <td>12.382035</td>\n",
       "      <td>46.392436</td>\n",
       "      <td>0.448651</td>\n",
       "      <td>0.287338</td>\n",
       "      <td>0.297958</td>\n",
       "      <td>0.694608</td>\n",
       "      <td>0.492131</td>\n",
       "    </tr>\n",
       "    <tr>\n",
       "      <th>3117</th>\n",
       "      <td>2018</td>\n",
       "      <td>3464</td>\n",
       "      <td>63.862069</td>\n",
       "      <td>64.343172</td>\n",
       "      <td>98.964329</td>\n",
       "      <td>95.303133</td>\n",
       "      <td>-9.654426</td>\n",
       "      <td>14.956915</td>\n",
       "      <td>13.176745</td>\n",
       "      <td>52.445229</td>\n",
       "      <td>0.479859</td>\n",
       "      <td>0.255965</td>\n",
       "      <td>0.255406</td>\n",
       "      <td>0.675553</td>\n",
       "      <td>0.510688</td>\n",
       "    </tr>\n",
       "  </tbody>\n",
       "</table>\n",
       "</div>"
      ],
      "text/plain": [
       "      Season  TeamID        Pts        Pos      OffRtg     DefRtg     NetRtg  \\\n",
       "3113    2018    3460  70.548387  66.005265  106.589342  93.116864  -4.698713   \n",
       "3114    2018    3461  61.310345  59.802041  102.791828  89.322779  -4.766990   \n",
       "3115    2018    3462  56.833333  63.474560   89.336018  99.979243 -19.984408   \n",
       "3116    2018    3463  64.928571  70.439314   92.077836  90.863108 -10.824932   \n",
       "3117    2018    3464  63.862069  64.343172   98.964329  95.303133  -9.654426   \n",
       "\n",
       "           AstR        TOR        TSP      eFGP      FTAR       ORP       DRP  \\\n",
       "3113  12.816905  11.289681  48.246051  0.440026  0.328681  0.393259  0.699035   \n",
       "3114  15.955198  11.579984  53.411961  0.487196  0.307635  0.271120  0.746692   \n",
       "3115  13.789852  13.103158  48.409972  0.467221  0.299154  0.254764  0.690159   \n",
       "3116  12.735682  12.382035  46.392436  0.448651  0.287338  0.297958  0.694608   \n",
       "3117  14.956915  13.176745  52.445229  0.479859  0.255965  0.255406  0.675553   \n",
       "\n",
       "            RP  \n",
       "3113  0.507456  \n",
       "3114  0.516928  \n",
       "3115  0.506806  \n",
       "3116  0.492131  \n",
       "3117  0.510688  "
      ]
     },
     "execution_count": 51,
     "metadata": {},
     "output_type": "execute_result"
    }
   ],
   "source": [
    "names = ['Season', 'TeamID', 'Pts', 'Pos', 'OffRtg','DefRtg',\n",
    "          'NetRtg', 'AstR', 'TOR','TSP', 'eFGP','FTAR', 'ORP', 'DRP', 'RP' ]\n",
    "df_advL.columns = names\n",
    "df_advW.columns = names\n",
    "df_A = pd.concat((df_advL, df_advW), axis=0, ignore_index=True)\n",
    "groupedA = df_A.groupby(['Season', 'TeamID'], as_index=False)\n",
    "df_A = groupedA.agg(np.mean)\n",
    "# df_A.shape\n",
    "df_advL = df_A.copy()\n",
    "df_advW = df_A.copy()\n"
   ]
  },
  {
   "cell_type": "code",
   "execution_count": 39,
   "metadata": {},
   "outputs": [
    {
     "data": {
      "text/html": [
       "<div>\n",
       "<style scoped>\n",
       "    .dataframe tbody tr th:only-of-type {\n",
       "        vertical-align: middle;\n",
       "    }\n",
       "\n",
       "    .dataframe tbody tr th {\n",
       "        vertical-align: top;\n",
       "    }\n",
       "\n",
       "    .dataframe thead th {\n",
       "        text-align: right;\n",
       "    }\n",
       "</style>\n",
       "<table border=\"1\" class=\"dataframe\">\n",
       "  <thead>\n",
       "    <tr style=\"text-align: right;\">\n",
       "      <th></th>\n",
       "      <th>Season</th>\n",
       "      <th>TeamID</th>\n",
       "      <th>Pts</th>\n",
       "      <th>Pos</th>\n",
       "      <th>OffRtg</th>\n",
       "      <th>DefRtg</th>\n",
       "      <th>NetRtg</th>\n",
       "      <th>AstR</th>\n",
       "      <th>TOR</th>\n",
       "      <th>TSP</th>\n",
       "      <th>eFGP</th>\n",
       "      <th>FTAR</th>\n",
       "      <th>ORP</th>\n",
       "      <th>DRP</th>\n",
       "      <th>RP</th>\n",
       "    </tr>\n",
       "  </thead>\n",
       "  <tbody>\n",
       "    <tr>\n",
       "      <th>2764</th>\n",
       "      <td>2017</td>\n",
       "      <td>3460</td>\n",
       "      <td>66.833333</td>\n",
       "      <td>65.901440</td>\n",
       "      <td>101.458107</td>\n",
       "      <td>94.199399</td>\n",
       "      <td>-6.155488</td>\n",
       "      <td>11.759383</td>\n",
       "      <td>12.002533</td>\n",
       "      <td>47.092966</td>\n",
       "      <td>0.427063</td>\n",
       "      <td>0.327959</td>\n",
       "      <td>0.342786</td>\n",
       "      <td>0.691388</td>\n",
       "      <td>0.496938</td>\n",
       "    </tr>\n",
       "    <tr>\n",
       "      <th>2765</th>\n",
       "      <td>2017</td>\n",
       "      <td>3461</td>\n",
       "      <td>64.678571</td>\n",
       "      <td>60.790629</td>\n",
       "      <td>106.321271</td>\n",
       "      <td>83.375404</td>\n",
       "      <td>-2.751090</td>\n",
       "      <td>17.119476</td>\n",
       "      <td>11.449986</td>\n",
       "      <td>55.035055</td>\n",
       "      <td>0.507625</td>\n",
       "      <td>0.281937</td>\n",
       "      <td>0.278874</td>\n",
       "      <td>0.732086</td>\n",
       "      <td>0.529966</td>\n",
       "    </tr>\n",
       "    <tr>\n",
       "      <th>2766</th>\n",
       "      <td>2017</td>\n",
       "      <td>3462</td>\n",
       "      <td>60.266667</td>\n",
       "      <td>65.955200</td>\n",
       "      <td>91.326938</td>\n",
       "      <td>94.694173</td>\n",
       "      <td>-14.847354</td>\n",
       "      <td>13.817762</td>\n",
       "      <td>12.631707</td>\n",
       "      <td>47.183942</td>\n",
       "      <td>0.452031</td>\n",
       "      <td>0.302004</td>\n",
       "      <td>0.275644</td>\n",
       "      <td>0.699656</td>\n",
       "      <td>0.532335</td>\n",
       "    </tr>\n",
       "    <tr>\n",
       "      <th>2767</th>\n",
       "      <td>2017</td>\n",
       "      <td>3463</td>\n",
       "      <td>61.370370</td>\n",
       "      <td>66.436267</td>\n",
       "      <td>92.523655</td>\n",
       "      <td>87.589066</td>\n",
       "      <td>-9.146557</td>\n",
       "      <td>11.723753</td>\n",
       "      <td>10.996659</td>\n",
       "      <td>46.928161</td>\n",
       "      <td>0.432859</td>\n",
       "      <td>0.305165</td>\n",
       "      <td>0.286041</td>\n",
       "      <td>0.715887</td>\n",
       "      <td>0.493744</td>\n",
       "    </tr>\n",
       "    <tr>\n",
       "      <th>2768</th>\n",
       "      <td>2017</td>\n",
       "      <td>3464</td>\n",
       "      <td>68.142857</td>\n",
       "      <td>69.507429</td>\n",
       "      <td>98.161594</td>\n",
       "      <td>105.665112</td>\n",
       "      <td>-13.451377</td>\n",
       "      <td>15.377787</td>\n",
       "      <td>14.064156</td>\n",
       "      <td>51.488821</td>\n",
       "      <td>0.460832</td>\n",
       "      <td>0.237699</td>\n",
       "      <td>0.228067</td>\n",
       "      <td>0.662101</td>\n",
       "      <td>0.478820</td>\n",
       "    </tr>\n",
       "  </tbody>\n",
       "</table>\n",
       "</div>"
      ],
      "text/plain": [
       "      Season  TeamID        Pts        Pos      OffRtg      DefRtg     NetRtg  \\\n",
       "2764    2017    3460  66.833333  65.901440  101.458107   94.199399  -6.155488   \n",
       "2765    2017    3461  64.678571  60.790629  106.321271   83.375404  -2.751090   \n",
       "2766    2017    3462  60.266667  65.955200   91.326938   94.694173 -14.847354   \n",
       "2767    2017    3463  61.370370  66.436267   92.523655   87.589066  -9.146557   \n",
       "2768    2017    3464  68.142857  69.507429   98.161594  105.665112 -13.451377   \n",
       "\n",
       "           AstR        TOR        TSP      eFGP      FTAR       ORP       DRP  \\\n",
       "2764  11.759383  12.002533  47.092966  0.427063  0.327959  0.342786  0.691388   \n",
       "2765  17.119476  11.449986  55.035055  0.507625  0.281937  0.278874  0.732086   \n",
       "2766  13.817762  12.631707  47.183942  0.452031  0.302004  0.275644  0.699656   \n",
       "2767  11.723753  10.996659  46.928161  0.432859  0.305165  0.286041  0.715887   \n",
       "2768  15.377787  14.064156  51.488821  0.460832  0.237699  0.228067  0.662101   \n",
       "\n",
       "            RP  \n",
       "2764  0.496938  \n",
       "2765  0.529966  \n",
       "2766  0.532335  \n",
       "2767  0.493744  \n",
       "2768  0.478820  "
      ]
     },
     "execution_count": 39,
     "metadata": {},
     "output_type": "execute_result"
    }
   ],
   "source": [
    "df_Adv= df_A[df_A.Season<2018]\n",
    "df_Adv.tail()"
   ]
  },
  {
   "cell_type": "markdown",
   "metadata": {
    "_cell_guid": "79186b24-985b-40da-8ae6-f4f4b44f05a2",
    "_uuid": "42f99f53dd385e23b09378e0de9d3fce5eb1a2e9"
   },
   "source": [
    "Cut off the region identifier from the seed number"
   ]
  },
  {
   "cell_type": "code",
   "execution_count": 40,
   "metadata": {
    "_cell_guid": "da1a44b9-1a31-4fbb-bcaf-e18bd9585e13",
    "_uuid": "fcb18269a41cfa257bd97c40664e43e701251bed"
   },
   "outputs": [],
   "source": [
    "def seed_to_int(seed):\n",
    "    #Get just the digits from the seeding. Return as int\n",
    "    s_int = int(seed[1:3])\n",
    "    return s_int\n",
    "df_seeds['seed_int'] = df_seeds.Seed.apply(seed_to_int)\n",
    "df_seeds.drop(columns=['Seed'], inplace=True) # This is the string label\n",
    "\n",
    "df_tour.drop(labels=['DayNum', 'WScore', 'LScore','WLoc', 'NumOT'], inplace=True, axis=1)\n",
    "# df_tour.head()"
   ]
  },
  {
   "cell_type": "markdown",
   "metadata": {
    "_cell_guid": "77c94357-56ed-461b-bcbf-09fcc9fcfff7",
    "_uuid": "3f223cdf4446d6e9c77ab8319237f05393d1a822"
   },
   "source": [
    "Merge the Seeds with their corresponding TeamIDs in the compact results dataframe."
   ]
  },
  {
   "cell_type": "code",
   "execution_count": 41,
   "metadata": {
    "_cell_guid": "08c9fb98-b372-408d-a748-bdbb3e50c3df",
    "_uuid": "53638c1ae27cfb24d47e02007c293d5ee19ebdac"
   },
   "outputs": [],
   "source": [
    "df_winSeeds = df_seeds.rename(columns={'TeamID':'WTeamID', 'seed_int':'WSeed'})\n",
    "df_lossSeeds = df_seeds.rename(columns={'TeamID':'LTeamID', 'seed_int':'LSeed'})\n",
    "\n",
    "\n",
    "df_dummy = pd.merge(left=df_tour, right=df_lossSeeds, how='left', on=['Season', 'LTeamID'])\n",
    "\n",
    "df_concat = pd.merge(left=df_dummy, right=df_winSeeds, how='left' ,on=['Season', 'WTeamID'])\n",
    "# df_concat['SeedDiff'] = df_concat.WSeed - df_concat.LSeed\n",
    "# df_concat.head()"
   ]
  },
  {
   "cell_type": "markdown",
   "metadata": {
    "_cell_guid": "f6e2a63e-3d1b-49d5-86ef-0af5b1f5294e",
    "_uuid": "1c82f60c02545c8c46ab090cb8cefca48e48e434"
   },
   "source": [
    " Make a winner and loser DF with seed, relative seed, and win/loss. "
   ]
  },
  {
   "cell_type": "code",
   "execution_count": 53,
   "metadata": {},
   "outputs": [],
   "source": [
    "df_wins = pd.DataFrame()\n",
    "df_wins['Seed'] = df_concat['WSeed']\n",
    "# df_wins['SeedDiff'] = df_concat['SeedDiff']\n",
    "df_wins['TeamID'] = df_concat['WTeamID']\n",
    "df_wins['Season'] = df_concat['Season']\n",
    "df_wins['Result'] = 1\n",
    "df_wins = df_wins[df_wins.Season>=2010]\n",
    "df_wins = pd.merge(left=df_wins, right=df_advW, how='left', on=['Season', 'TeamID'])\n",
    "# df_wins.tail()"
   ]
  },
  {
   "cell_type": "code",
   "execution_count": 55,
   "metadata": {},
   "outputs": [],
   "source": [
    "df_losses = pd.DataFrame()\n",
    "df_losses['Seed'] = df_concat['LSeed']\n",
    "# df_losses['SeedDiff'] = -df_concat['SeedDiff']\n",
    "df_losses['TeamID'] = df_concat['LTeamID']\n",
    "df_losses['Season'] = df_concat['Season']\n",
    "df_losses['Result'] = 0\n",
    "df_losses = df_losses[df_losses.Season>=2010]\n",
    "df_losses = pd.merge(left=df_losses, right=df_advL, how='left', on=['Season', 'TeamID'])\n",
    "# df_losses.head()"
   ]
  },
  {
   "cell_type": "markdown",
   "metadata": {},
   "source": [
    "Prefix the cols with 'Opp' in dummy frames to allow for horizontal concat in order to expand data to be\n",
    "\n",
    "| winr_stat    losr_stat |\n",
    "                     \n",
    "| losr_stat    winr_stat |"
   ]
  },
  {
   "cell_type": "code",
   "execution_count": 57,
   "metadata": {},
   "outputs": [],
   "source": [
    "df_lossesOpp = df_losses.copy()\n",
    "\n",
    "df_lossesOpp.drop(labels=['Season', 'Result'], inplace=True, axis=1)\n",
    "new_names = [(i,'Opp'+i) for i in df_lossesOpp.columns.values]\n",
    "df_lossesOpp.rename(columns = dict(new_names), inplace=True)\n",
    "# df_lossesOpp.isnull().any()"
   ]
  },
  {
   "cell_type": "code",
   "execution_count": 59,
   "metadata": {},
   "outputs": [],
   "source": [
    "df_winsOpp = df_wins.copy()\n",
    "\n",
    "df_winsOpp.drop(labels=['Season', 'Result'], inplace=True, axis=1)\n",
    "new_names = [(i,'Opp'+i) for i in df_winsOpp.columns.values]\n",
    "df_winsOpp.rename(columns = dict(new_names), inplace=True)\n",
    "# df_winsOpp.head()"
   ]
  },
  {
   "cell_type": "code",
   "execution_count": 60,
   "metadata": {},
   "outputs": [],
   "source": [
    "df_winloss = pd.concat([df_wins, df_lossesOpp], axis=1)\n",
    "df_losswin = pd.concat([df_losses, df_winsOpp], axis=1)"
   ]
  },
  {
   "cell_type": "markdown",
   "metadata": {},
   "source": [
    "Divide train and test case"
   ]
  },
  {
   "cell_type": "code",
   "execution_count": 61,
   "metadata": {},
   "outputs": [],
   "source": [
    "\n",
    "df_winlossTest = df_winloss[df_winloss.Season>2014]\n",
    "df_losswinTest = df_losswin[df_losswin.Season>2014]\n"
   ]
  },
  {
   "cell_type": "code",
   "execution_count": 62,
   "metadata": {},
   "outputs": [],
   "source": [
    "df_winloss = df_winloss[df_winloss.Season<2014]\n",
    "df_losswin = df_losswin[df_losswin.Season<2014]"
   ]
  },
  {
   "cell_type": "markdown",
   "metadata": {},
   "source": [
    "# Combine into final dataframe"
   ]
  },
  {
   "cell_type": "code",
   "execution_count": 63,
   "metadata": {
    "_cell_guid": "fefed035-2256-414b-b985-99b4c1a9f5e1",
    "_uuid": "1a40000e85c0dd9d2be6850a767acd736bf5f182"
   },
   "outputs": [
    {
     "data": {
      "text/plain": [
       "(504, 32)"
      ]
     },
     "execution_count": 63,
     "metadata": {},
     "output_type": "execute_result"
    }
   ],
   "source": [
    "df_finalData = pd.concat((df_winloss, df_losswin))\n",
    "results = df_finalData['Result']\n",
    "df_finalData.drop(labels=['Result'], inplace=True, axis=1)\n",
    "df_finalData.insert(0, 'Result', results)\n",
    "df_finalData.shape"
   ]
  },
  {
   "cell_type": "markdown",
   "metadata": {},
   "source": [
    "Remove team ID and season -> cannot be scaled and not a metric. Dummy \n",
    "\n",
    "*** Also cut data after 2014 so the model isnt trained on test data***"
   ]
  },
  {
   "cell_type": "code",
   "execution_count": 64,
   "metadata": {},
   "outputs": [],
   "source": [
    "# df_finalData = df_finalData[df_finalData<2014]\n",
    "df_finalData.drop(labels=['TeamID', 'Season', 'OppTeamID'], inplace=True, axis=1)\n",
    "# df_finalData.head()"
   ]
  },
  {
   "cell_type": "markdown",
   "metadata": {},
   "source": [
    "# Combine into test dataframe"
   ]
  },
  {
   "cell_type": "code",
   "execution_count": 65,
   "metadata": {
    "_cell_guid": "fefed035-2256-414b-b985-99b4c1a9f5e1",
    "_uuid": "1a40000e85c0dd9d2be6850a767acd736bf5f182"
   },
   "outputs": [
    {
     "data": {
      "text/plain": [
       "(378, 32)"
      ]
     },
     "execution_count": 65,
     "metadata": {},
     "output_type": "execute_result"
    }
   ],
   "source": [
    "df_finalDataTest = pd.concat((df_winlossTest, df_losswinTest))\n",
    "results = df_finalDataTest['Result']\n",
    "df_finalDataTest.drop(labels=['Result'], inplace=True, axis=1)\n",
    "df_finalDataTest.insert(0, 'Result', results)\n",
    "df_finalDataTest.shape"
   ]
  },
  {
   "cell_type": "code",
   "execution_count": 66,
   "metadata": {},
   "outputs": [],
   "source": [
    "df_finalDataTest.drop(labels=['TeamID', 'Season', 'OppTeamID'], inplace=True, axis=1)\n",
    "# df_finalData.head()"
   ]
  },
  {
   "cell_type": "code",
   "execution_count": 67,
   "metadata": {},
   "outputs": [
    {
     "data": {
      "text/plain": [
       "Result       False\n",
       "Seed         False\n",
       "Pts          False\n",
       "Pos          False\n",
       "OffRtg       False\n",
       "DefRtg       False\n",
       "NetRtg       False\n",
       "AstR         False\n",
       "TOR          False\n",
       "TSP          False\n",
       "eFGP         False\n",
       "FTAR         False\n",
       "ORP          False\n",
       "DRP          False\n",
       "RP           False\n",
       "OppSeed      False\n",
       "OppPts       False\n",
       "OppPos       False\n",
       "OppOffRtg    False\n",
       "OppDefRtg    False\n",
       "OppNetRtg    False\n",
       "OppAstR      False\n",
       "OppTOR       False\n",
       "OppTSP       False\n",
       "OppeFGP      False\n",
       "OppFTAR      False\n",
       "OppORP       False\n",
       "OppDRP       False\n",
       "OppRP        False\n",
       "dtype: bool"
      ]
     },
     "execution_count": 67,
     "metadata": {},
     "output_type": "execute_result"
    }
   ],
   "source": [
    "df_finalData.isnull().any()"
   ]
  },
  {
   "cell_type": "code",
   "execution_count": 68,
   "metadata": {},
   "outputs": [],
   "source": [
    "df_finalData.to_csv('MarchMadnessFeatures.csv', index=False)"
   ]
  },
  {
   "cell_type": "code",
   "execution_count": 69,
   "metadata": {},
   "outputs": [
    {
     "data": {
      "text/html": [
       "<div>\n",
       "<style scoped>\n",
       "    .dataframe tbody tr th:only-of-type {\n",
       "        vertical-align: middle;\n",
       "    }\n",
       "\n",
       "    .dataframe tbody tr th {\n",
       "        vertical-align: top;\n",
       "    }\n",
       "\n",
       "    .dataframe thead th {\n",
       "        text-align: right;\n",
       "    }\n",
       "</style>\n",
       "<table border=\"1\" class=\"dataframe\">\n",
       "  <thead>\n",
       "    <tr style=\"text-align: right;\">\n",
       "      <th></th>\n",
       "      <th>Result</th>\n",
       "      <th>Seed</th>\n",
       "      <th>Pts</th>\n",
       "      <th>Pos</th>\n",
       "      <th>OffRtg</th>\n",
       "      <th>DefRtg</th>\n",
       "      <th>NetRtg</th>\n",
       "      <th>AstR</th>\n",
       "      <th>TOR</th>\n",
       "      <th>TSP</th>\n",
       "      <th>...</th>\n",
       "      <th>OppDefRtg</th>\n",
       "      <th>OppNetRtg</th>\n",
       "      <th>OppAstR</th>\n",
       "      <th>OppTOR</th>\n",
       "      <th>OppTSP</th>\n",
       "      <th>OppeFGP</th>\n",
       "      <th>OppFTAR</th>\n",
       "      <th>OppORP</th>\n",
       "      <th>OppDRP</th>\n",
       "      <th>OppRP</th>\n",
       "    </tr>\n",
       "  </thead>\n",
       "  <tbody>\n",
       "    <tr>\n",
       "      <th>315</th>\n",
       "      <td>1</td>\n",
       "      <td>10</td>\n",
       "      <td>60.900000</td>\n",
       "      <td>62.540800</td>\n",
       "      <td>97.201890</td>\n",
       "      <td>86.525417</td>\n",
       "      <td>-6.424856</td>\n",
       "      <td>12.954466</td>\n",
       "      <td>10.179447</td>\n",
       "      <td>46.912114</td>\n",
       "      <td>...</td>\n",
       "      <td>89.450628</td>\n",
       "      <td>-4.486997</td>\n",
       "      <td>16.686535</td>\n",
       "      <td>13.553815</td>\n",
       "      <td>51.023183</td>\n",
       "      <td>0.476951</td>\n",
       "      <td>0.308167</td>\n",
       "      <td>0.286657</td>\n",
       "      <td>0.648582</td>\n",
       "      <td>0.484199</td>\n",
       "    </tr>\n",
       "    <tr>\n",
       "      <th>316</th>\n",
       "      <td>1</td>\n",
       "      <td>2</td>\n",
       "      <td>79.151515</td>\n",
       "      <td>69.635491</td>\n",
       "      <td>113.451728</td>\n",
       "      <td>91.972182</td>\n",
       "      <td>-2.155844</td>\n",
       "      <td>18.804983</td>\n",
       "      <td>13.626572</td>\n",
       "      <td>53.841813</td>\n",
       "      <td>...</td>\n",
       "      <td>98.674588</td>\n",
       "      <td>-19.119430</td>\n",
       "      <td>12.420589</td>\n",
       "      <td>12.098924</td>\n",
       "      <td>46.066267</td>\n",
       "      <td>0.439636</td>\n",
       "      <td>0.340404</td>\n",
       "      <td>0.252468</td>\n",
       "      <td>0.628800</td>\n",
       "      <td>0.468162</td>\n",
       "    </tr>\n",
       "    <tr>\n",
       "      <th>317</th>\n",
       "      <td>1</td>\n",
       "      <td>4</td>\n",
       "      <td>67.843750</td>\n",
       "      <td>68.841600</td>\n",
       "      <td>97.879023</td>\n",
       "      <td>89.821181</td>\n",
       "      <td>-7.302903</td>\n",
       "      <td>16.033422</td>\n",
       "      <td>11.498919</td>\n",
       "      <td>49.331381</td>\n",
       "      <td>...</td>\n",
       "      <td>82.561987</td>\n",
       "      <td>-2.316106</td>\n",
       "      <td>14.812893</td>\n",
       "      <td>10.349721</td>\n",
       "      <td>51.245087</td>\n",
       "      <td>0.474557</td>\n",
       "      <td>0.241561</td>\n",
       "      <td>0.347719</td>\n",
       "      <td>0.674043</td>\n",
       "      <td>0.508858</td>\n",
       "    </tr>\n",
       "    <tr>\n",
       "      <th>318</th>\n",
       "      <td>1</td>\n",
       "      <td>7</td>\n",
       "      <td>75.838710</td>\n",
       "      <td>69.889239</td>\n",
       "      <td>109.127255</td>\n",
       "      <td>87.313470</td>\n",
       "      <td>-2.509395</td>\n",
       "      <td>14.156045</td>\n",
       "      <td>11.441876</td>\n",
       "      <td>53.798529</td>\n",
       "      <td>...</td>\n",
       "      <td>88.883606</td>\n",
       "      <td>-5.561061</td>\n",
       "      <td>16.457164</td>\n",
       "      <td>13.678371</td>\n",
       "      <td>52.611981</td>\n",
       "      <td>0.480131</td>\n",
       "      <td>0.310966</td>\n",
       "      <td>0.307847</td>\n",
       "      <td>0.705065</td>\n",
       "      <td>0.519568</td>\n",
       "    </tr>\n",
       "    <tr>\n",
       "      <th>319</th>\n",
       "      <td>1</td>\n",
       "      <td>9</td>\n",
       "      <td>87.575758</td>\n",
       "      <td>75.760291</td>\n",
       "      <td>115.520878</td>\n",
       "      <td>78.820007</td>\n",
       "      <td>-2.027807</td>\n",
       "      <td>17.283513</td>\n",
       "      <td>12.823624</td>\n",
       "      <td>53.280106</td>\n",
       "      <td>...</td>\n",
       "      <td>100.119766</td>\n",
       "      <td>-7.512425</td>\n",
       "      <td>16.407623</td>\n",
       "      <td>16.401570</td>\n",
       "      <td>50.804305</td>\n",
       "      <td>0.478643</td>\n",
       "      <td>0.303378</td>\n",
       "      <td>0.338712</td>\n",
       "      <td>0.668999</td>\n",
       "      <td>0.518240</td>\n",
       "    </tr>\n",
       "  </tbody>\n",
       "</table>\n",
       "<p>5 rows × 29 columns</p>\n",
       "</div>"
      ],
      "text/plain": [
       "     Result  Seed        Pts        Pos      OffRtg     DefRtg    NetRtg  \\\n",
       "315       1    10  60.900000  62.540800   97.201890  86.525417 -6.424856   \n",
       "316       1     2  79.151515  69.635491  113.451728  91.972182 -2.155844   \n",
       "317       1     4  67.843750  68.841600   97.879023  89.821181 -7.302903   \n",
       "318       1     7  75.838710  69.889239  109.127255  87.313470 -2.509395   \n",
       "319       1     9  87.575758  75.760291  115.520878  78.820007 -2.027807   \n",
       "\n",
       "          AstR        TOR        TSP    ...      OppDefRtg  OppNetRtg  \\\n",
       "315  12.954466  10.179447  46.912114    ...      89.450628  -4.486997   \n",
       "316  18.804983  13.626572  53.841813    ...      98.674588 -19.119430   \n",
       "317  16.033422  11.498919  49.331381    ...      82.561987  -2.316106   \n",
       "318  14.156045  11.441876  53.798529    ...      88.883606  -5.561061   \n",
       "319  17.283513  12.823624  53.280106    ...     100.119766  -7.512425   \n",
       "\n",
       "       OppAstR     OppTOR     OppTSP   OppeFGP   OppFTAR    OppORP    OppDRP  \\\n",
       "315  16.686535  13.553815  51.023183  0.476951  0.308167  0.286657  0.648582   \n",
       "316  12.420589  12.098924  46.066267  0.439636  0.340404  0.252468  0.628800   \n",
       "317  14.812893  10.349721  51.245087  0.474557  0.241561  0.347719  0.674043   \n",
       "318  16.457164  13.678371  52.611981  0.480131  0.310966  0.307847  0.705065   \n",
       "319  16.407623  16.401570  50.804305  0.478643  0.303378  0.338712  0.668999   \n",
       "\n",
       "        OppRP  \n",
       "315  0.484199  \n",
       "316  0.468162  \n",
       "317  0.508858  \n",
       "318  0.519568  \n",
       "319  0.518240  \n",
       "\n",
       "[5 rows x 29 columns]"
      ]
     },
     "execution_count": 69,
     "metadata": {},
     "output_type": "execute_result"
    }
   ],
   "source": [
    "df_finalDataTest.head()"
   ]
  },
  {
   "cell_type": "code",
   "execution_count": 70,
   "metadata": {},
   "outputs": [],
   "source": [
    "df_finalDataTest.to_csv('MarchMadnessTest.csv', index=False)"
   ]
  },
  {
   "cell_type": "code",
   "execution_count": 32,
   "metadata": {},
   "outputs": [],
   "source": [
    "df_diffData.to_csv('MarchMadnessFeatureDifferences.csv', index=False)"
   ]
  },
  {
   "cell_type": "code",
   "execution_count": 33,
   "metadata": {},
   "outputs": [],
   "source": [
    "df_Adv.to_csv('MarchMadnessAdvStats.csv', index=False)"
   ]
  },
  {
   "cell_type": "code",
   "execution_count": null,
   "metadata": {},
   "outputs": [],
   "source": []
  },
  {
   "cell_type": "code",
   "execution_count": null,
   "metadata": {},
   "outputs": [],
   "source": []
  }
 ],
 "metadata": {
  "kernelspec": {
   "display_name": "Python 3",
   "language": "python",
   "name": "python3"
  },
  "language_info": {
   "codemirror_mode": {
    "name": "ipython",
    "version": 3
   },
   "file_extension": ".py",
   "mimetype": "text/x-python",
   "name": "python",
   "nbconvert_exporter": "python",
   "pygments_lexer": "ipython3",
   "version": "3.5.2"
  }
 },
 "nbformat": 4,
 "nbformat_minor": 1
}
