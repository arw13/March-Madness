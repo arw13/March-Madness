{
 "cells": [
  {
   "cell_type": "markdown",
   "metadata": {
    "_cell_guid": "ec7cb961-f53c-472b-9a15-6e92b0296082",
    "_uuid": "9853586a0dc75ce39e7c7ffcde1eb4d47c6fb02e"
   },
   "source": [
    "# Data Organization Script # "
   ]
  },
  {
   "cell_type": "code",
   "execution_count": 1,
   "metadata": {
    "_cell_guid": "0c233e05-c63d-4866-96dc-bb38d444bf84",
    "_uuid": "5464dc4b196dc4c8dd0323bbd71b75724113e2af"
   },
   "outputs": [
    {
     "name": "stdout",
     "output_type": "stream",
     "text": [
      "Data\n",
      "Data_Organization.ipynb\n",
      "GiantKillerInfo.txt\n",
      "logs\n",
      "MarchMadnessAdvStats.csv\n",
      "MarchMadnessFeatureDifferences.csv\n",
      "MarchMadnessFeatures.csv\n",
      "MarchMadnessTest.csv\n",
      "ModelEvaluation.ipynb\n",
      "OldNbs\n",
      "SubmissionData.py\n",
      "Submissions\n",
      "tENSORFLOW.ipynb\n",
      "tENSORFLOW.py\n",
      "tENSORFLOW-TB.ipynb\n",
      "\n"
     ]
    }
   ],
   "source": [
    "# This Python 3 environment comes with many helpful analytics libraries installed\n",
    "# It is defined by the kaggle/python docker image: https://github.com/kaggle/docker-python\n",
    "# For example, here's several helpful packages to load in \n",
    "import numpy as np # linear algebra\n",
    "import pandas as pd # data processing, CSV file I/O (e.g. pd.read_csv)\n",
    "from math import pi\n",
    "# import seaborn as sns\n",
    "# import matplotlib as plt\n",
    "\n",
    "# Input data files are available in the \"../input/\" directory.\n",
    "# For example, running this (by clicking run or pressing Shift+Enter) will list the files in the input directory\n",
    "\n",
    "from subprocess import check_output\n",
    "print(check_output([\"ls\", \"../NCAA\"]).decode(\"utf8\"))\n",
    "\n",
    "# Any results you write to the current directory are saved as output.\n"
   ]
  },
  {
   "cell_type": "markdown",
   "metadata": {},
   "source": [
    "### Lock Random Seed"
   ]
  },
  {
   "cell_type": "code",
   "execution_count": 2,
   "metadata": {},
   "outputs": [],
   "source": [
    "seed = 13\n",
    "np.random.seed(seed)"
   ]
  },
  {
   "cell_type": "markdown",
   "metadata": {
    "_cell_guid": "11333bea-8d7c-47b2-b24b-97a8f38db6ae",
    "_uuid": "819472385a23f3fd5aaf4172b4f8db227cf5271f"
   },
   "source": [
    "# Load and Organize Training data\n"
   ]
  },
  {
   "cell_type": "code",
   "execution_count": 3,
   "metadata": {
    "_cell_guid": "ec1d5ab6-5977-4246-b355-8afd9101a405",
    "_uuid": "bf8ee168a0372e883332d6bb0ce5c89c13143650"
   },
   "outputs": [
    {
     "data": {
      "text/html": [
       "<div>\n",
       "<style scoped>\n",
       "    .dataframe tbody tr th:only-of-type {\n",
       "        vertical-align: middle;\n",
       "    }\n",
       "\n",
       "    .dataframe tbody tr th {\n",
       "        vertical-align: top;\n",
       "    }\n",
       "\n",
       "    .dataframe thead th {\n",
       "        text-align: right;\n",
       "    }\n",
       "</style>\n",
       "<table border=\"1\" class=\"dataframe\">\n",
       "  <thead>\n",
       "    <tr style=\"text-align: right;\">\n",
       "      <th></th>\n",
       "      <th>Season</th>\n",
       "      <th>DayNum</th>\n",
       "      <th>WTeamID</th>\n",
       "      <th>WScore</th>\n",
       "      <th>LTeamID</th>\n",
       "      <th>LScore</th>\n",
       "      <th>WLoc</th>\n",
       "      <th>NumOT</th>\n",
       "    </tr>\n",
       "  </thead>\n",
       "  <tbody>\n",
       "    <tr>\n",
       "      <th>0</th>\n",
       "      <td>1985</td>\n",
       "      <td>136</td>\n",
       "      <td>1116</td>\n",
       "      <td>63</td>\n",
       "      <td>1234</td>\n",
       "      <td>54</td>\n",
       "      <td>N</td>\n",
       "      <td>0</td>\n",
       "    </tr>\n",
       "    <tr>\n",
       "      <th>1</th>\n",
       "      <td>1985</td>\n",
       "      <td>136</td>\n",
       "      <td>1120</td>\n",
       "      <td>59</td>\n",
       "      <td>1345</td>\n",
       "      <td>58</td>\n",
       "      <td>N</td>\n",
       "      <td>0</td>\n",
       "    </tr>\n",
       "    <tr>\n",
       "      <th>2</th>\n",
       "      <td>1985</td>\n",
       "      <td>136</td>\n",
       "      <td>1207</td>\n",
       "      <td>68</td>\n",
       "      <td>1250</td>\n",
       "      <td>43</td>\n",
       "      <td>N</td>\n",
       "      <td>0</td>\n",
       "    </tr>\n",
       "    <tr>\n",
       "      <th>3</th>\n",
       "      <td>1985</td>\n",
       "      <td>136</td>\n",
       "      <td>1229</td>\n",
       "      <td>58</td>\n",
       "      <td>1425</td>\n",
       "      <td>55</td>\n",
       "      <td>N</td>\n",
       "      <td>0</td>\n",
       "    </tr>\n",
       "    <tr>\n",
       "      <th>4</th>\n",
       "      <td>1985</td>\n",
       "      <td>136</td>\n",
       "      <td>1242</td>\n",
       "      <td>49</td>\n",
       "      <td>1325</td>\n",
       "      <td>38</td>\n",
       "      <td>N</td>\n",
       "      <td>0</td>\n",
       "    </tr>\n",
       "  </tbody>\n",
       "</table>\n",
       "</div>"
      ],
      "text/plain": [
       "   Season  DayNum  WTeamID  WScore  LTeamID  LScore WLoc  NumOT\n",
       "0    1985     136     1116      63     1234      54    N      0\n",
       "1    1985     136     1120      59     1345      58    N      0\n",
       "2    1985     136     1207      68     1250      43    N      0\n",
       "3    1985     136     1229      58     1425      55    N      0\n",
       "4    1985     136     1242      49     1325      38    N      0"
      ]
     },
     "execution_count": 3,
     "metadata": {},
     "output_type": "execute_result"
    }
   ],
   "source": [
    "data_dir = '../NCAA/Data/'\n",
    "df_seeds = pd.read_csv(data_dir + 'NCAATourneySeeds.csv')\n",
    "df_tour = pd.read_csv(data_dir + 'NCAATourneyCompactResults.csv')\n",
    "df_tour.head()"
   ]
  },
  {
   "cell_type": "markdown",
   "metadata": {},
   "source": [
    "Incorporate Massey Ordinals - MAS, SAG, POM"
   ]
  },
  {
   "cell_type": "code",
   "execution_count": 4,
   "metadata": {},
   "outputs": [],
   "source": [
    "#Load Data\n",
    "df_rank = pd.read_csv(data_dir+ 'MasseyOrdinals.csv')\n",
    "#Choose Latest Ranking \n",
    "df_rank = df_rank[df_rank.RankingDayNum>=133]\n",
    "df_rank = df_rank[df_rank.Season>=2008]\n",
    "\n",
    "#Selectr rankings of interest and make each ranking system ranking into a separate column\n",
    "df_merge = pd.merge(df_rank.loc[df_rank['SystemName']=='MAS'],\n",
    "                    df_rank.loc[df_rank['SystemName']=='SAG'], how='left', \n",
    "                    on=['Season', 'TeamID', 'RankingDayNum'])\n",
    "df_rank = pd.merge(left=df_merge, right=df_rank.loc[df_rank['SystemName']=='POM'], \n",
    "                  how='left', on=['Season', 'TeamID', 'RankingDayNum'] )\n"
   ]
  },
  {
   "cell_type": "markdown",
   "metadata": {},
   "source": [
    "Remove unnecessary cols"
   ]
  },
  {
   "cell_type": "code",
   "execution_count": 5,
   "metadata": {},
   "outputs": [],
   "source": [
    "# Drop\n",
    "df_rank.drop(labels=['SystemName_x', 'SystemName_y', 'SystemName','RankingDayNum'], inplace=True, axis =1)\n",
    "df_rank.rename(columns={'OrdinalRank_x':'MAS', 'OrdinalRank_y':'SAG', 'OrdinalRank':'POM'}, inplace=True)\n",
    "\n",
    "# df_rank.head()"
   ]
  },
  {
   "cell_type": "markdown",
   "metadata": {},
   "source": [
    "Add advanced stats from https://www.kaggle.com/lnatml/feature-engineering-with-advanced-stats/notebook"
   ]
  },
  {
   "cell_type": "code",
   "execution_count": 6,
   "metadata": {},
   "outputs": [],
   "source": [
    "df = pd.read_csv(data_dir+'RegularSeasonDetailedResults.csv')\n"
   ]
  },
  {
   "cell_type": "code",
   "execution_count": 7,
   "metadata": {},
   "outputs": [],
   "source": [
    "#Points Winning/Losing Team\n",
    "df['WPts'] = df.apply(lambda row: 2*(row.WFGM-row.WFGM3) + 3*row.WFGM3 + row.WFTM, axis=1)\n",
    "df['LPts'] = df.apply(lambda row: 2*(row.LFGM-row.WFGM3) + 3*row.LFGM3 + row.LFTM, axis=1)\n",
    "\n",
    "#Calculate Winning/losing Team Possesion Feature\n",
    "wPos = df.apply(lambda row: 0.96*(row.WFGA + row.WTO + 0.44*row.WFTA - row.WOR), axis=1)\n",
    "lPos = df.apply(lambda row: 0.96*(row.LFGA + row.LTO + 0.44*row.LFTA - row.LOR), axis=1)\n",
    "#two teams use almost the same number of possessions in a game\n",
    "#(plus/minus one or two - depending on how quarters end)\n",
    "#so let's just take the average\n",
    "df['Pos'] = (wPos+lPos)/2\n",
    "\n",
    "#Offensive efficiency (OffRtg) = 100 x (Points / Possessions)\n",
    "df['WOffRtg'] = df.apply(lambda row: 100 * (row.WPts / row.Pos), axis=1)\n",
    "df['LOffRtg'] = df.apply(lambda row: 100 * (row.LPts / row.Pos), axis=1)\n",
    "#Defensive efficiency (DefRtg) = 100 x (Opponent points / Opponent possessions)\n",
    "df['WDefRtg'] = df.LOffRtg\n",
    "df['LDefRtg'] = df.WOffRtg\n",
    "#Net Rating = Off.eff - Def.eff\n",
    "df['WNetRtg'] = df.apply(lambda row:(row.WOffRtg - row.LDefRtg), axis=1)\n",
    "df['LNetRtg'] = df.apply(lambda row:(row.LOffRtg - row.LDefRtg), axis=1)\n",
    "                         \n",
    "#Assist Ratio : Percentage of team possessions that end in assists\n",
    "df['WAstR'] = df.apply(lambda row: 100 * row.WAst / (row.WFGA + 0.44*row.WFTA + row.WAst + row.WTO), axis=1)\n",
    "df['LAstR'] = df.apply(lambda row: 100 * row.LAst / (row.LFGA + 0.44*row.LFTA + row.LAst + row.LTO), axis=1)\n",
    "#Turnover Ratio: Number of turnovers of a team per 100 possessions used.\n",
    "#(TO * 100) / (FGA + (FTA * 0.44) + AST + TO\n",
    "df['WTOR'] = df.apply(lambda row: 100 * row.LAst / (row.LFGA + 0.44*row.LFTA + row.LAst + row.LTO), axis=1)\n",
    "df['LTOR'] = df.apply(lambda row: 100 * row.LAst / (row.LFGA + 0.44*row.LFTA + row.LAst + row.LTO), axis=1)\n",
    "                    \n",
    "#The Shooting Percentage : Measure of Shooting Efficiency (FGA/FGA3, FTA)\n",
    "df['WTSP'] = df.apply(lambda row: 100 * row.WPts / (2 * (row.WFGA + 0.44 * row.WFTA)), axis=1)\n",
    "df['LTSP'] = df.apply(lambda row: 100 * row.LPts / (2 * (row.LFGA + 0.44 * row.LFTA)), axis=1)\n",
    "#eFG% : Effective Field Goal Percentage adjusting for the fact that 3pt shots are more valuable \n",
    "df['WeFGP'] = df.apply(lambda row:(row.WFGM + 0.5 * row.WFGM3) / row.WFGA, axis=1)      \n",
    "df['LeFGP'] = df.apply(lambda row:(row.LFGM + 0.5 * row.LFGM3) / row.LFGA, axis=1)   \n",
    "#FTA Rate : How good a team is at drawing fouls.\n",
    "df['WFTAR'] = df.apply(lambda row: row.WFTA / row.WFGA, axis=1)\n",
    "df['LFTAR'] = df.apply(lambda row: row.LFTA / row.LFGA, axis=1)\n",
    "                         \n",
    "#OREB% : Percentage of team offensive rebounds\n",
    "df['WORP'] = df.apply(lambda row: row.WOR / (row.WOR + row.LDR), axis=1)\n",
    "df['LORP'] = df.apply(lambda row: row.LOR / (row.LOR + row.WDR), axis=1)\n",
    "#DREB% : Percentage of team defensive rebounds\n",
    "df['WDRP'] = df.apply(lambda row: row.WDR / (row.WDR + row.LOR), axis=1)\n",
    "df['LDRP'] = df.apply(lambda row: row.LDR / (row.LDR + row.WOR), axis=1)                                      \n",
    "#REB% : Percentage of team total rebounds\n",
    "df['WRP'] = df.apply(lambda row: (row.WDR + row.WOR) / (row.WDR + row.WOR + row.LDR + row.LOR), axis=1)\n",
    "df['LRP'] = df.apply(lambda row: (row.LDR + row.WOR) / (row.WDR + row.WOR + row.LDR + row.LOR), axis=1)"
   ]
  },
  {
   "cell_type": "markdown",
   "metadata": {},
   "source": [
    "After creating adv stats, now we need to split the winning and losing team stats for a more overall picture"
   ]
  },
  {
   "cell_type": "code",
   "execution_count": 8,
   "metadata": {},
   "outputs": [
    {
     "name": "stdout",
     "output_type": "stream",
     "text": [
      "['Season' 'WTeamID' 'LTeamID' 'WPts' 'LPts' 'Pos' 'WOffRtg' 'LOffRtg'\n",
      " 'WDefRtg' 'LDefRtg' 'WNetRtg' 'LNetRtg' 'WAstR' 'LAstR' 'WTOR' 'LTOR'\n",
      " 'WTSP' 'LTSP' 'WeFGP' 'LeFGP' 'WFTAR' 'LFTAR' 'WORP' 'LORP' 'WDRP' 'LDRP'\n",
      " 'WRP' 'LRP']\n"
     ]
    }
   ],
   "source": [
    "df_TeamID = pd.concat((df['WTeamID'], df['LTeamID']), axis=1)\n",
    "df_adv2 = df.iloc[:, 34:].copy()\n",
    "df_adv = pd.concat((df_TeamID, df_adv2), axis=1)\n",
    "df_adv = pd.concat((df['Season'], df_adv), axis=1)\n",
    "# df_adv.head()\n",
    "names = df_adv.columns.values \n",
    "print(names)\n"
   ]
  },
  {
   "cell_type": "code",
   "execution_count": 9,
   "metadata": {},
   "outputs": [],
   "source": [
    "Wnames = ['Season', 'WTeamID','WPts','Pos', 'WOffRtg' ,'WDefRtg',\n",
    "          'WNetRtg', 'WAstR', 'WTOR', 'WTSP','WeFGP','WFTAR', 'WORP', 'WDRP','WRP']\n",
    "Lnames = ['Season', 'LTeamID', 'LPts', 'Pos', 'LOffRtg','LDefRtg',\n",
    "          'LNetRtg', 'LAstR', 'LTOR','LTSP', 'LeFGP','LFTAR', 'LORP', 'LDRP', 'LRP' ]\n",
    "df_advW = df_adv.loc[:,Wnames].copy()\n",
    "df_advL = df_adv.loc[:,Lnames].copy()\n",
    "df_advW.rename(columns={'WTeamID':'TeamID'}, inplace=True)\n",
    "df_advL.rename(columns={'LTeamID':'TeamID'}, inplace=True)"
   ]
  },
  {
   "cell_type": "markdown",
   "metadata": {},
   "source": [
    "Must concat then group the advanced stats to get season averages for each team"
   ]
  },
  {
   "cell_type": "code",
   "execution_count": 10,
   "metadata": {},
   "outputs": [],
   "source": [
    "names = ['Season', 'TeamID', 'Pts', 'Pos', 'OffRtg','DefRtg',\n",
    "          'NetRtg', 'AstR', 'TOR','TSP', 'eFGP','FTAR', 'ORP', 'DRP', 'RP' ]\n",
    "df_advL.columns = names\n",
    "df_advW.columns = names\n",
    "df_A = pd.concat((df_advL, df_advW), axis=0, ignore_index=True)\n",
    "groupedA = df_A.groupby(['Season', 'TeamID'], as_index=False)\n",
    "df_A = groupedA.agg(np.mean)\n",
    "# df_A.shape\n",
    "df_advL = df_A.copy()\n",
    "df_advW = df_A.copy()\n"
   ]
  },
  {
   "cell_type": "code",
   "execution_count": 11,
   "metadata": {},
   "outputs": [
    {
     "data": {
      "text/html": [
       "<div>\n",
       "<style scoped>\n",
       "    .dataframe tbody tr th:only-of-type {\n",
       "        vertical-align: middle;\n",
       "    }\n",
       "\n",
       "    .dataframe tbody tr th {\n",
       "        vertical-align: top;\n",
       "    }\n",
       "\n",
       "    .dataframe thead th {\n",
       "        text-align: right;\n",
       "    }\n",
       "</style>\n",
       "<table border=\"1\" class=\"dataframe\">\n",
       "  <thead>\n",
       "    <tr style=\"text-align: right;\">\n",
       "      <th></th>\n",
       "      <th>Season</th>\n",
       "      <th>TeamID</th>\n",
       "      <th>Pts</th>\n",
       "      <th>Pos</th>\n",
       "      <th>OffRtg</th>\n",
       "      <th>DefRtg</th>\n",
       "      <th>NetRtg</th>\n",
       "      <th>AstR</th>\n",
       "      <th>TOR</th>\n",
       "      <th>TSP</th>\n",
       "      <th>eFGP</th>\n",
       "      <th>FTAR</th>\n",
       "      <th>ORP</th>\n",
       "      <th>DRP</th>\n",
       "      <th>RP</th>\n",
       "      <th>MAS</th>\n",
       "      <th>SAG</th>\n",
       "      <th>POM</th>\n",
       "    </tr>\n",
       "  </thead>\n",
       "  <tbody>\n",
       "    <tr>\n",
       "      <th>2783</th>\n",
       "      <td>2017</td>\n",
       "      <td>1460</td>\n",
       "      <td>74.300000</td>\n",
       "      <td>68.305280</td>\n",
       "      <td>108.875974</td>\n",
       "      <td>103.867603</td>\n",
       "      <td>-8.236970</td>\n",
       "      <td>15.165959</td>\n",
       "      <td>12.723307</td>\n",
       "      <td>56.206307</td>\n",
       "      <td>0.524174</td>\n",
       "      <td>0.391122</td>\n",
       "      <td>0.295559</td>\n",
       "      <td>0.737647</td>\n",
       "      <td>0.498543</td>\n",
       "      <td>152</td>\n",
       "      <td>162</td>\n",
       "      <td>166</td>\n",
       "    </tr>\n",
       "    <tr>\n",
       "      <th>2784</th>\n",
       "      <td>2017</td>\n",
       "      <td>1461</td>\n",
       "      <td>78.933333</td>\n",
       "      <td>72.211840</td>\n",
       "      <td>109.552337</td>\n",
       "      <td>101.226318</td>\n",
       "      <td>-3.493423</td>\n",
       "      <td>14.960753</td>\n",
       "      <td>12.292200</td>\n",
       "      <td>56.646622</td>\n",
       "      <td>0.507965</td>\n",
       "      <td>0.389409</td>\n",
       "      <td>0.221667</td>\n",
       "      <td>0.727887</td>\n",
       "      <td>0.492821</td>\n",
       "      <td>167</td>\n",
       "      <td>141</td>\n",
       "      <td>146</td>\n",
       "    </tr>\n",
       "    <tr>\n",
       "      <th>2785</th>\n",
       "      <td>2017</td>\n",
       "      <td>1462</td>\n",
       "      <td>73.735294</td>\n",
       "      <td>65.164800</td>\n",
       "      <td>113.125625</td>\n",
       "      <td>109.118186</td>\n",
       "      <td>-7.885345</td>\n",
       "      <td>15.600786</td>\n",
       "      <td>14.319593</td>\n",
       "      <td>55.147677</td>\n",
       "      <td>0.517891</td>\n",
       "      <td>0.418095</td>\n",
       "      <td>0.348826</td>\n",
       "      <td>0.758134</td>\n",
       "      <td>0.522060</td>\n",
       "      <td>42</td>\n",
       "      <td>32</td>\n",
       "      <td>40</td>\n",
       "    </tr>\n",
       "    <tr>\n",
       "      <th>2786</th>\n",
       "      <td>2017</td>\n",
       "      <td>1463</td>\n",
       "      <td>71.178571</td>\n",
       "      <td>65.226514</td>\n",
       "      <td>108.207219</td>\n",
       "      <td>107.436823</td>\n",
       "      <td>-10.709853</td>\n",
       "      <td>16.074839</td>\n",
       "      <td>13.698384</td>\n",
       "      <td>54.493116</td>\n",
       "      <td>0.522992</td>\n",
       "      <td>0.344515</td>\n",
       "      <td>0.311873</td>\n",
       "      <td>0.727941</td>\n",
       "      <td>0.510952</td>\n",
       "      <td>126</td>\n",
       "      <td>134</td>\n",
       "      <td>151</td>\n",
       "    </tr>\n",
       "    <tr>\n",
       "      <th>2787</th>\n",
       "      <td>2017</td>\n",
       "      <td>1464</td>\n",
       "      <td>74.187500</td>\n",
       "      <td>71.694600</td>\n",
       "      <td>103.361054</td>\n",
       "      <td>115.307775</td>\n",
       "      <td>-14.868296</td>\n",
       "      <td>14.674567</td>\n",
       "      <td>13.705051</td>\n",
       "      <td>50.675226</td>\n",
       "      <td>0.491127</td>\n",
       "      <td>0.264800</td>\n",
       "      <td>0.261204</td>\n",
       "      <td>0.686746</td>\n",
       "      <td>0.471342</td>\n",
       "      <td>244</td>\n",
       "      <td>287</td>\n",
       "      <td>283</td>\n",
       "    </tr>\n",
       "  </tbody>\n",
       "</table>\n",
       "</div>"
      ],
      "text/plain": [
       "      Season  TeamID        Pts        Pos      OffRtg      DefRtg     NetRtg  \\\n",
       "2783    2017    1460  74.300000  68.305280  108.875974  103.867603  -8.236970   \n",
       "2784    2017    1461  78.933333  72.211840  109.552337  101.226318  -3.493423   \n",
       "2785    2017    1462  73.735294  65.164800  113.125625  109.118186  -7.885345   \n",
       "2786    2017    1463  71.178571  65.226514  108.207219  107.436823 -10.709853   \n",
       "2787    2017    1464  74.187500  71.694600  103.361054  115.307775 -14.868296   \n",
       "\n",
       "           AstR        TOR        TSP      eFGP      FTAR       ORP       DRP  \\\n",
       "2783  15.165959  12.723307  56.206307  0.524174  0.391122  0.295559  0.737647   \n",
       "2784  14.960753  12.292200  56.646622  0.507965  0.389409  0.221667  0.727887   \n",
       "2785  15.600786  14.319593  55.147677  0.517891  0.418095  0.348826  0.758134   \n",
       "2786  16.074839  13.698384  54.493116  0.522992  0.344515  0.311873  0.727941   \n",
       "2787  14.674567  13.705051  50.675226  0.491127  0.264800  0.261204  0.686746   \n",
       "\n",
       "            RP  MAS  SAG  POM  \n",
       "2783  0.498543  152  162  166  \n",
       "2784  0.492821  167  141  146  \n",
       "2785  0.522060   42   32   40  \n",
       "2786  0.510952  126  134  151  \n",
       "2787  0.471342  244  287  283  "
      ]
     },
     "execution_count": 11,
     "metadata": {},
     "output_type": "execute_result"
    }
   ],
   "source": [
    "df_Adv= pd.merge(left=df_A, right=df_rank, on=['Season', 'TeamID'])\n",
    "df_Adv.tail()"
   ]
  },
  {
   "cell_type": "markdown",
   "metadata": {},
   "source": [
    "Cut seasons prior to Max Ranking date"
   ]
  },
  {
   "cell_type": "code",
   "execution_count": 12,
   "metadata": {
    "_cell_guid": "ec1d5ab6-5977-4246-b355-8afd9101a405",
    "_uuid": "bf8ee168a0372e883332d6bb0ce5c89c13143650"
   },
   "outputs": [],
   "source": [
    "df_seeds = df_seeds[df_seeds.Season>=min(df_rank.Season) ]\n",
    "df_seeds = df_seeds[ df_seeds.Season<=max(df_rank.Season)]\n",
    "df_tour = df_tour[df_tour.Season>=min(df_rank.Season)]\n",
    "df_tour = df_tour[ df_tour.Season<=max(df_rank.Season)]\n",
    "# df_tour.head()"
   ]
  },
  {
   "cell_type": "markdown",
   "metadata": {
    "_cell_guid": "79186b24-985b-40da-8ae6-f4f4b44f05a2",
    "_uuid": "42f99f53dd385e23b09378e0de9d3fce5eb1a2e9"
   },
   "source": [
    "Cut off the region identifier from the seed number"
   ]
  },
  {
   "cell_type": "code",
   "execution_count": 13,
   "metadata": {
    "_cell_guid": "da1a44b9-1a31-4fbb-bcaf-e18bd9585e13",
    "_uuid": "fcb18269a41cfa257bd97c40664e43e701251bed"
   },
   "outputs": [],
   "source": [
    "def seed_to_int(seed):\n",
    "    #Get just the digits from the seeding. Return as int\n",
    "    s_int = int(seed[1:3])\n",
    "    return s_int\n",
    "df_seeds['seed_int'] = df_seeds.Seed.apply(seed_to_int)\n",
    "df_seeds.drop(columns=['Seed'], inplace=True) # This is the string label\n",
    "\n",
    "df_tour.drop(labels=['DayNum', 'WScore', 'LScore','WLoc', 'NumOT'], inplace=True, axis=1)\n",
    "# df_tour.head()"
   ]
  },
  {
   "cell_type": "markdown",
   "metadata": {
    "_cell_guid": "77c94357-56ed-461b-bcbf-09fcc9fcfff7",
    "_uuid": "3f223cdf4446d6e9c77ab8319237f05393d1a822"
   },
   "source": [
    "Merge the Seeds with their corresponding TeamIDs in the compact results dataframe."
   ]
  },
  {
   "cell_type": "code",
   "execution_count": 14,
   "metadata": {
    "_cell_guid": "08c9fb98-b372-408d-a748-bdbb3e50c3df",
    "_uuid": "53638c1ae27cfb24d47e02007c293d5ee19ebdac"
   },
   "outputs": [],
   "source": [
    "df_winSeeds = df_seeds.rename(columns={'TeamID':'WTeamID', 'seed_int':'WSeed'})\n",
    "df_lossSeeds = df_seeds.rename(columns={'TeamID':'LTeamID', 'seed_int':'LSeed'})\n",
    "\n",
    "\n",
    "df_dummy = pd.merge(left=df_tour, right=df_lossSeeds, how='left', on=['Season', 'LTeamID'])\n",
    "\n",
    "df_concat = pd.merge(left=df_dummy, right=df_winSeeds, how='left' ,on=['Season', 'WTeamID'])\n",
    "# df_concat['SeedDiff'] = df_concat.WSeed - df_concat.LSeed\n",
    "# df_concat.head()"
   ]
  },
  {
   "cell_type": "markdown",
   "metadata": {
    "_cell_guid": "f6e2a63e-3d1b-49d5-86ef-0af5b1f5294e",
    "_uuid": "1c82f60c02545c8c46ab090cb8cefca48e48e434"
   },
   "source": [
    " Make a winner and loser DF with seed, relative seed, and win/loss. "
   ]
  },
  {
   "cell_type": "code",
   "execution_count": 15,
   "metadata": {},
   "outputs": [],
   "source": [
    "df_wins = pd.DataFrame()\n",
    "df_wins['Seed'] = df_concat['WSeed']\n",
    "# df_wins['SeedDiff'] = df_concat['SeedDiff']\n",
    "df_wins['TeamID'] = df_concat['WTeamID']\n",
    "df_wins['Season'] = df_concat['Season']\n",
    "df_wins['Result'] = 1\n",
    "df_wins = pd.merge(left=df_wins, right=df_advW, how='left', on=['Season', 'TeamID'])\n",
    "df_wins = pd.merge(left=df_wins, right=df_rank, how='left', on=['Season', 'TeamID'])\n",
    "# df_wins.tail()"
   ]
  },
  {
   "cell_type": "code",
   "execution_count": 16,
   "metadata": {},
   "outputs": [],
   "source": [
    "df_losses = pd.DataFrame()\n",
    "df_losses['Seed'] = df_concat['LSeed']\n",
    "# df_losses['SeedDiff'] = -df_concat['SeedDiff']\n",
    "df_losses['TeamID'] = df_concat['LTeamID']\n",
    "df_losses['Season'] = df_concat['Season']\n",
    "df_losses['Result'] = 0\n",
    "df_losses = pd.merge(left=df_losses, right=df_advL, how='left', on=['Season', 'TeamID'])\n",
    "df_losses = pd.merge(left=df_losses, right=df_rank, how='left',on=['Season', 'TeamID'])\n",
    "# df_losses.tail()"
   ]
  },
  {
   "cell_type": "markdown",
   "metadata": {},
   "source": [
    "Prefix the cols with 'Opp' in dummy frames to allow for horizontal concat in order to expand data to be\n",
    "\n",
    "| winr_stat    losr_stat |\n",
    "                     \n",
    "| losr_stat    winr_stat |"
   ]
  },
  {
   "cell_type": "code",
   "execution_count": 17,
   "metadata": {},
   "outputs": [],
   "source": [
    "df_lossesOpp = df_losses.copy()\n",
    "\n",
    "df_lossesOpp.drop(labels=['Season', 'Result'], inplace=True, axis=1)\n",
    "new_names = [(i,'Opp'+i) for i in df_lossesOpp.columns.values]\n",
    "df_lossesOpp.rename(columns = dict(new_names), inplace=True)\n",
    "# df_lossesOpp.tail()"
   ]
  },
  {
   "cell_type": "code",
   "execution_count": 18,
   "metadata": {},
   "outputs": [],
   "source": [
    "df_winsOpp = df_wins.copy()\n",
    "\n",
    "df_winsOpp.drop(labels=['Season', 'Result'], inplace=True, axis=1)\n",
    "new_names = [(i,'Opp'+i) for i in df_winsOpp.columns.values]\n",
    "df_winsOpp.rename(columns = dict(new_names), inplace=True)\n",
    "# df_winsOpp.head()"
   ]
  },
  {
   "cell_type": "code",
   "execution_count": 19,
   "metadata": {},
   "outputs": [],
   "source": [
    "df_winloss = pd.concat([df_wins, df_lossesOpp], axis=1)\n",
    "df_losswin = pd.concat([df_losses, df_winsOpp], axis=1)"
   ]
  },
  {
   "cell_type": "markdown",
   "metadata": {},
   "source": [
    "Divide train and test case"
   ]
  },
  {
   "cell_type": "code",
   "execution_count": 20,
   "metadata": {},
   "outputs": [],
   "source": [
    "\n",
    "df_winlossTest = df_winloss[df_winloss.Season>2014]\n",
    "df_losswinTest = df_losswin[df_losswin.Season>2014]"
   ]
  },
  {
   "cell_type": "code",
   "execution_count": 21,
   "metadata": {},
   "outputs": [],
   "source": [
    "df_winloss = df_winloss[df_winloss.Season<2014]\n",
    "df_losswin = df_losswin[df_losswin.Season<2014]"
   ]
  },
  {
   "cell_type": "markdown",
   "metadata": {},
   "source": [
    "# Combine into final dataframe"
   ]
  },
  {
   "cell_type": "code",
   "execution_count": 22,
   "metadata": {
    "_cell_guid": "fefed035-2256-414b-b985-99b4c1a9f5e1",
    "_uuid": "1a40000e85c0dd9d2be6850a767acd736bf5f182"
   },
   "outputs": [
    {
     "data": {
      "text/plain": [
       "(530, 38)"
      ]
     },
     "execution_count": 22,
     "metadata": {},
     "output_type": "execute_result"
    }
   ],
   "source": [
    "df_finalData = pd.concat((df_winloss, df_losswin))\n",
    "results = df_finalData['Result']\n",
    "df_finalData.drop(labels=['Result'], inplace=True, axis=1)\n",
    "df_finalData.insert(0, 'Result', results)\n",
    "df_finalData.shape"
   ]
  },
  {
   "cell_type": "code",
   "execution_count": 23,
   "metadata": {},
   "outputs": [],
   "source": [
    "df_diffWin =  df_wins.loc[:,'Pts':'POM'].copy()-df_losses.loc[:,'Pts':'POM'].copy()\n",
    "df_diffWin = pd.concat((df_wins.loc[:,'Seed']-(df_losses.loc[:,'Seed']), df_diffWin), axis=1)\n",
    "new_names = [(i,i+'Diff') for i in df_diffWin.columns.values]\n",
    "df_diffWin.rename(columns = dict(new_names), inplace=True)\n",
    "df_diffLoss = -df_diffWin.copy()\n",
    "df_diffWin = pd.concat((df_wins.loc[:,'Result'], df_diffWin), axis=1)\n",
    "df_diffLoss = pd.concat((df_losses.loc[:,'Result'], df_diffLoss), axis=1)\n",
    " "
   ]
  },
  {
   "cell_type": "code",
   "execution_count": 24,
   "metadata": {},
   "outputs": [
    {
     "data": {
      "text/html": [
       "<div>\n",
       "<style scoped>\n",
       "    .dataframe tbody tr th:only-of-type {\n",
       "        vertical-align: middle;\n",
       "    }\n",
       "\n",
       "    .dataframe tbody tr th {\n",
       "        vertical-align: top;\n",
       "    }\n",
       "\n",
       "    .dataframe thead th {\n",
       "        text-align: right;\n",
       "    }\n",
       "</style>\n",
       "<table border=\"1\" class=\"dataframe\">\n",
       "  <thead>\n",
       "    <tr style=\"text-align: right;\">\n",
       "      <th></th>\n",
       "      <th>Result</th>\n",
       "      <th>SeedDiff</th>\n",
       "      <th>PtsDiff</th>\n",
       "      <th>PosDiff</th>\n",
       "      <th>OffRtgDiff</th>\n",
       "      <th>DefRtgDiff</th>\n",
       "      <th>NetRtgDiff</th>\n",
       "      <th>AstRDiff</th>\n",
       "      <th>TORDiff</th>\n",
       "      <th>TSPDiff</th>\n",
       "      <th>eFGPDiff</th>\n",
       "      <th>FTARDiff</th>\n",
       "      <th>ORPDiff</th>\n",
       "      <th>DRPDiff</th>\n",
       "      <th>RPDiff</th>\n",
       "      <th>MASDiff</th>\n",
       "      <th>SAGDiff</th>\n",
       "      <th>POMDiff</th>\n",
       "    </tr>\n",
       "  </thead>\n",
       "  <tbody>\n",
       "    <tr>\n",
       "      <th>528</th>\n",
       "      <td>1</td>\n",
       "      <td>-1</td>\n",
       "      <td>-2.704100</td>\n",
       "      <td>-2.474267</td>\n",
       "      <td>0.169129</td>\n",
       "      <td>6.263033</td>\n",
       "      <td>-3.408628</td>\n",
       "      <td>2.340995</td>\n",
       "      <td>1.542610</td>\n",
       "      <td>-2.466236</td>\n",
       "      <td>-0.009512</td>\n",
       "      <td>-0.099510</td>\n",
       "      <td>0.074700</td>\n",
       "      <td>0.023729</td>\n",
       "      <td>0.033788</td>\n",
       "      <td>6</td>\n",
       "      <td>-2</td>\n",
       "      <td>-1</td>\n",
       "    </tr>\n",
       "    <tr>\n",
       "      <th>529</th>\n",
       "      <td>1</td>\n",
       "      <td>3</td>\n",
       "      <td>-6.759073</td>\n",
       "      <td>-0.284497</td>\n",
       "      <td>-8.823666</td>\n",
       "      <td>-0.243991</td>\n",
       "      <td>-1.950864</td>\n",
       "      <td>-0.264810</td>\n",
       "      <td>-0.190002</td>\n",
       "      <td>-4.362310</td>\n",
       "      <td>-0.046102</td>\n",
       "      <td>-0.005965</td>\n",
       "      <td>0.021077</td>\n",
       "      <td>-0.021970</td>\n",
       "      <td>-0.009347</td>\n",
       "      <td>29</td>\n",
       "      <td>21</td>\n",
       "      <td>22</td>\n",
       "    </tr>\n",
       "    <tr>\n",
       "      <th>530</th>\n",
       "      <td>1</td>\n",
       "      <td>-6</td>\n",
       "      <td>13.502444</td>\n",
       "      <td>0.198006</td>\n",
       "      <td>19.259922</td>\n",
       "      <td>-5.199333</td>\n",
       "      <td>4.576883</td>\n",
       "      <td>3.570702</td>\n",
       "      <td>0.783395</td>\n",
       "      <td>10.349764</td>\n",
       "      <td>0.110787</td>\n",
       "      <td>-0.008690</td>\n",
       "      <td>-0.049340</td>\n",
       "      <td>0.068995</td>\n",
       "      <td>0.059622</td>\n",
       "      <td>-47</td>\n",
       "      <td>-30</td>\n",
       "      <td>-30</td>\n",
       "    </tr>\n",
       "    <tr>\n",
       "      <th>531</th>\n",
       "      <td>1</td>\n",
       "      <td>-2</td>\n",
       "      <td>4.333333</td>\n",
       "      <td>3.113891</td>\n",
       "      <td>0.691008</td>\n",
       "      <td>9.184635</td>\n",
       "      <td>-3.448849</td>\n",
       "      <td>0.230558</td>\n",
       "      <td>0.478670</td>\n",
       "      <td>-4.190819</td>\n",
       "      <td>-0.033373</td>\n",
       "      <td>-0.019899</td>\n",
       "      <td>0.098608</td>\n",
       "      <td>0.051604</td>\n",
       "      <td>0.051163</td>\n",
       "      <td>-2</td>\n",
       "      <td>-10</td>\n",
       "      <td>-13</td>\n",
       "    </tr>\n",
       "    <tr>\n",
       "      <th>532</th>\n",
       "      <td>1</td>\n",
       "      <td>0</td>\n",
       "      <td>-1.151515</td>\n",
       "      <td>1.408000</td>\n",
       "      <td>-4.634516</td>\n",
       "      <td>17.866139</td>\n",
       "      <td>-4.307334</td>\n",
       "      <td>0.644280</td>\n",
       "      <td>2.083128</td>\n",
       "      <td>-6.789446</td>\n",
       "      <td>-0.058145</td>\n",
       "      <td>-0.061850</td>\n",
       "      <td>0.124211</td>\n",
       "      <td>0.000723</td>\n",
       "      <td>0.016367</td>\n",
       "      <td>9</td>\n",
       "      <td>2</td>\n",
       "      <td>2</td>\n",
       "    </tr>\n",
       "  </tbody>\n",
       "</table>\n",
       "</div>"
      ],
      "text/plain": [
       "     Result  SeedDiff    PtsDiff   PosDiff  OffRtgDiff  DefRtgDiff  \\\n",
       "528       1        -1  -2.704100 -2.474267    0.169129    6.263033   \n",
       "529       1         3  -6.759073 -0.284497   -8.823666   -0.243991   \n",
       "530       1        -6  13.502444  0.198006   19.259922   -5.199333   \n",
       "531       1        -2   4.333333  3.113891    0.691008    9.184635   \n",
       "532       1         0  -1.151515  1.408000   -4.634516   17.866139   \n",
       "\n",
       "     NetRtgDiff  AstRDiff   TORDiff    TSPDiff  eFGPDiff  FTARDiff   ORPDiff  \\\n",
       "528   -3.408628  2.340995  1.542610  -2.466236 -0.009512 -0.099510  0.074700   \n",
       "529   -1.950864 -0.264810 -0.190002  -4.362310 -0.046102 -0.005965  0.021077   \n",
       "530    4.576883  3.570702  0.783395  10.349764  0.110787 -0.008690 -0.049340   \n",
       "531   -3.448849  0.230558  0.478670  -4.190819 -0.033373 -0.019899  0.098608   \n",
       "532   -4.307334  0.644280  2.083128  -6.789446 -0.058145 -0.061850  0.124211   \n",
       "\n",
       "      DRPDiff    RPDiff  MASDiff  SAGDiff  POMDiff  \n",
       "528  0.023729  0.033788        6       -2       -1  \n",
       "529 -0.021970 -0.009347       29       21       22  \n",
       "530  0.068995  0.059622      -47      -30      -30  \n",
       "531  0.051604  0.051163       -2      -10      -13  \n",
       "532  0.000723  0.016367        9        2        2  "
      ]
     },
     "execution_count": 24,
     "metadata": {},
     "output_type": "execute_result"
    }
   ],
   "source": [
    "   \n",
    "df_diffData = pd.concat((df_diffWin, df_diffLoss))\n",
    "df_diffWin.tail()"
   ]
  },
  {
   "cell_type": "markdown",
   "metadata": {},
   "source": [
    "Remove team ID and season -> cannot be scaled and not a metric. Dummy \n",
    "\n",
    "*** Also cut data after 2014 so the model isnt trained on test data***"
   ]
  },
  {
   "cell_type": "code",
   "execution_count": 25,
   "metadata": {},
   "outputs": [],
   "source": [
    "# df_finalData = df_finalData[df_finalData<2014]\n",
    "df_finalData.drop(labels=['TeamID', 'Season', 'OppTeamID'], inplace=True, axis=1)\n",
    "# df_finalData.head()"
   ]
  },
  {
   "cell_type": "markdown",
   "metadata": {},
   "source": [
    "# Combine into test dataframe"
   ]
  },
  {
   "cell_type": "code",
   "execution_count": 26,
   "metadata": {
    "_cell_guid": "fefed035-2256-414b-b985-99b4c1a9f5e1",
    "_uuid": "1a40000e85c0dd9d2be6850a767acd736bf5f182"
   },
   "outputs": [
    {
     "data": {
      "text/plain": [
       "(402, 38)"
      ]
     },
     "execution_count": 26,
     "metadata": {},
     "output_type": "execute_result"
    }
   ],
   "source": [
    "df_finalDataTest = pd.concat((df_winlossTest, df_losswinTest))\n",
    "results = df_finalDataTest['Result']\n",
    "df_finalDataTest.drop(labels=['Result'], inplace=True, axis=1)\n",
    "df_finalDataTest.insert(0, 'Result', results)\n",
    "df_finalDataTest.shape"
   ]
  },
  {
   "cell_type": "code",
   "execution_count": 27,
   "metadata": {},
   "outputs": [],
   "source": [
    "df_finalDataTest.drop(labels=['TeamID', 'Season', 'OppTeamID'], inplace=True, axis=1)\n",
    "# df_finalData.head()"
   ]
  },
  {
   "cell_type": "code",
   "execution_count": 28,
   "metadata": {},
   "outputs": [
    {
     "data": {
      "text/plain": [
       "Result       False\n",
       "Seed         False\n",
       "Pts          False\n",
       "Pos          False\n",
       "OffRtg       False\n",
       "DefRtg       False\n",
       "NetRtg       False\n",
       "AstR         False\n",
       "TOR          False\n",
       "TSP          False\n",
       "eFGP         False\n",
       "FTAR         False\n",
       "ORP          False\n",
       "DRP          False\n",
       "RP           False\n",
       "MAS          False\n",
       "SAG          False\n",
       "POM          False\n",
       "OppSeed      False\n",
       "OppPts       False\n",
       "OppPos       False\n",
       "OppOffRtg    False\n",
       "OppDefRtg    False\n",
       "OppNetRtg    False\n",
       "OppAstR      False\n",
       "OppTOR       False\n",
       "OppTSP       False\n",
       "OppeFGP      False\n",
       "OppFTAR      False\n",
       "OppORP       False\n",
       "OppDRP       False\n",
       "OppRP        False\n",
       "OppMAS       False\n",
       "OppSAG       False\n",
       "OppPOM       False\n",
       "dtype: bool"
      ]
     },
     "execution_count": 28,
     "metadata": {},
     "output_type": "execute_result"
    }
   ],
   "source": [
    "df_finalData.isnull().any()"
   ]
  },
  {
   "cell_type": "code",
   "execution_count": 29,
   "metadata": {},
   "outputs": [],
   "source": [
    "df_finalData.to_csv('MarchMadnessFeatures.csv', index=False)"
   ]
  },
  {
   "cell_type": "code",
   "execution_count": 30,
   "metadata": {},
   "outputs": [
    {
     "data": {
      "text/html": [
       "<div>\n",
       "<style scoped>\n",
       "    .dataframe tbody tr th:only-of-type {\n",
       "        vertical-align: middle;\n",
       "    }\n",
       "\n",
       "    .dataframe tbody tr th {\n",
       "        vertical-align: top;\n",
       "    }\n",
       "\n",
       "    .dataframe thead th {\n",
       "        text-align: right;\n",
       "    }\n",
       "</style>\n",
       "<table border=\"1\" class=\"dataframe\">\n",
       "  <thead>\n",
       "    <tr style=\"text-align: right;\">\n",
       "      <th></th>\n",
       "      <th>Result</th>\n",
       "      <th>Seed</th>\n",
       "      <th>Pts</th>\n",
       "      <th>Pos</th>\n",
       "      <th>OffRtg</th>\n",
       "      <th>DefRtg</th>\n",
       "      <th>NetRtg</th>\n",
       "      <th>AstR</th>\n",
       "      <th>TOR</th>\n",
       "      <th>TSP</th>\n",
       "      <th>...</th>\n",
       "      <th>OppTOR</th>\n",
       "      <th>OppTSP</th>\n",
       "      <th>OppeFGP</th>\n",
       "      <th>OppFTAR</th>\n",
       "      <th>OppORP</th>\n",
       "      <th>OppDRP</th>\n",
       "      <th>OppRP</th>\n",
       "      <th>OppMAS</th>\n",
       "      <th>OppSAG</th>\n",
       "      <th>OppPOM</th>\n",
       "    </tr>\n",
       "  </thead>\n",
       "  <tbody>\n",
       "    <tr>\n",
       "      <th>332</th>\n",
       "      <td>1</td>\n",
       "      <td>16</td>\n",
       "      <td>65.393939</td>\n",
       "      <td>65.800145</td>\n",
       "      <td>99.031266</td>\n",
       "      <td>101.542102</td>\n",
       "      <td>-12.428930</td>\n",
       "      <td>11.517922</td>\n",
       "      <td>9.785012</td>\n",
       "      <td>48.998897</td>\n",
       "      <td>...</td>\n",
       "      <td>12.709611</td>\n",
       "      <td>55.569454</td>\n",
       "      <td>0.501468</td>\n",
       "      <td>0.498555</td>\n",
       "      <td>0.304314</td>\n",
       "      <td>0.662497</td>\n",
       "      <td>0.478113</td>\n",
       "      <td>127</td>\n",
       "      <td>159</td>\n",
       "      <td>146</td>\n",
       "    </tr>\n",
       "    <tr>\n",
       "      <th>333</th>\n",
       "      <td>1</td>\n",
       "      <td>11</td>\n",
       "      <td>71.125000</td>\n",
       "      <td>63.668400</td>\n",
       "      <td>112.107238</td>\n",
       "      <td>107.163409</td>\n",
       "      <td>-5.271302</td>\n",
       "      <td>13.995073</td>\n",
       "      <td>13.039999</td>\n",
       "      <td>53.289440</td>\n",
       "      <td>...</td>\n",
       "      <td>14.090807</td>\n",
       "      <td>59.175634</td>\n",
       "      <td>0.534865</td>\n",
       "      <td>0.430636</td>\n",
       "      <td>0.341857</td>\n",
       "      <td>0.717383</td>\n",
       "      <td>0.532549</td>\n",
       "      <td>31</td>\n",
       "      <td>36</td>\n",
       "      <td>31</td>\n",
       "    </tr>\n",
       "    <tr>\n",
       "      <th>334</th>\n",
       "      <td>1</td>\n",
       "      <td>11</td>\n",
       "      <td>67.606061</td>\n",
       "      <td>61.341091</td>\n",
       "      <td>110.128215</td>\n",
       "      <td>95.059351</td>\n",
       "      <td>-4.063521</td>\n",
       "      <td>16.069185</td>\n",
       "      <td>13.542018</td>\n",
       "      <td>56.765912</td>\n",
       "      <td>...</td>\n",
       "      <td>11.711904</td>\n",
       "      <td>57.908993</td>\n",
       "      <td>0.538050</td>\n",
       "      <td>0.333966</td>\n",
       "      <td>0.273743</td>\n",
       "      <td>0.741725</td>\n",
       "      <td>0.499740</td>\n",
       "      <td>53</td>\n",
       "      <td>45</td>\n",
       "      <td>39</td>\n",
       "    </tr>\n",
       "    <tr>\n",
       "      <th>335</th>\n",
       "      <td>1</td>\n",
       "      <td>16</td>\n",
       "      <td>68.333333</td>\n",
       "      <td>63.844073</td>\n",
       "      <td>107.440591</td>\n",
       "      <td>106.231815</td>\n",
       "      <td>-9.445318</td>\n",
       "      <td>13.553533</td>\n",
       "      <td>13.067373</td>\n",
       "      <td>54.243134</td>\n",
       "      <td>...</td>\n",
       "      <td>11.974853</td>\n",
       "      <td>58.518232</td>\n",
       "      <td>0.536156</td>\n",
       "      <td>0.411573</td>\n",
       "      <td>0.288443</td>\n",
       "      <td>0.683750</td>\n",
       "      <td>0.505035</td>\n",
       "      <td>132</td>\n",
       "      <td>143</td>\n",
       "      <td>127</td>\n",
       "    </tr>\n",
       "    <tr>\n",
       "      <th>336</th>\n",
       "      <td>1</td>\n",
       "      <td>2</td>\n",
       "      <td>76.382353</td>\n",
       "      <td>63.633882</td>\n",
       "      <td>119.630663</td>\n",
       "      <td>93.106960</td>\n",
       "      <td>-0.529123</td>\n",
       "      <td>15.351748</td>\n",
       "      <td>11.766410</td>\n",
       "      <td>57.853189</td>\n",
       "      <td>...</td>\n",
       "      <td>11.834942</td>\n",
       "      <td>52.283856</td>\n",
       "      <td>0.495406</td>\n",
       "      <td>0.475098</td>\n",
       "      <td>0.338206</td>\n",
       "      <td>0.664771</td>\n",
       "      <td>0.506808</td>\n",
       "      <td>143</td>\n",
       "      <td>204</td>\n",
       "      <td>207</td>\n",
       "    </tr>\n",
       "  </tbody>\n",
       "</table>\n",
       "<p>5 rows × 35 columns</p>\n",
       "</div>"
      ],
      "text/plain": [
       "     Result  Seed        Pts        Pos      OffRtg      DefRtg     NetRtg  \\\n",
       "332       1    16  65.393939  65.800145   99.031266  101.542102 -12.428930   \n",
       "333       1    11  71.125000  63.668400  112.107238  107.163409  -5.271302   \n",
       "334       1    11  67.606061  61.341091  110.128215   95.059351  -4.063521   \n",
       "335       1    16  68.333333  63.844073  107.440591  106.231815  -9.445318   \n",
       "336       1     2  76.382353  63.633882  119.630663   93.106960  -0.529123   \n",
       "\n",
       "          AstR        TOR        TSP   ...       OppTOR     OppTSP   OppeFGP  \\\n",
       "332  11.517922   9.785012  48.998897   ...    12.709611  55.569454  0.501468   \n",
       "333  13.995073  13.039999  53.289440   ...    14.090807  59.175634  0.534865   \n",
       "334  16.069185  13.542018  56.765912   ...    11.711904  57.908993  0.538050   \n",
       "335  13.553533  13.067373  54.243134   ...    11.974853  58.518232  0.536156   \n",
       "336  15.351748  11.766410  57.853189   ...    11.834942  52.283856  0.495406   \n",
       "\n",
       "      OppFTAR    OppORP    OppDRP     OppRP  OppMAS  OppSAG  OppPOM  \n",
       "332  0.498555  0.304314  0.662497  0.478113     127     159     146  \n",
       "333  0.430636  0.341857  0.717383  0.532549      31      36      31  \n",
       "334  0.333966  0.273743  0.741725  0.499740      53      45      39  \n",
       "335  0.411573  0.288443  0.683750  0.505035     132     143     127  \n",
       "336  0.475098  0.338206  0.664771  0.506808     143     204     207  \n",
       "\n",
       "[5 rows x 35 columns]"
      ]
     },
     "execution_count": 30,
     "metadata": {},
     "output_type": "execute_result"
    }
   ],
   "source": [
    "df_finalDataTest.head()"
   ]
  },
  {
   "cell_type": "code",
   "execution_count": 31,
   "metadata": {},
   "outputs": [],
   "source": [
    "df_finalDataTest.to_csv('MarchMadnessTest.csv', index=False)"
   ]
  },
  {
   "cell_type": "code",
   "execution_count": 32,
   "metadata": {},
   "outputs": [],
   "source": [
    "df_diffData.to_csv('MarchMadnessFeatureDifferences.csv', index=False)"
   ]
  },
  {
   "cell_type": "code",
   "execution_count": 33,
   "metadata": {},
   "outputs": [],
   "source": [
    "df_Adv.to_csv('MarchMadnessAdvStats.csv', index=False)"
   ]
  },
  {
   "cell_type": "code",
   "execution_count": null,
   "metadata": {},
   "outputs": [],
   "source": []
  },
  {
   "cell_type": "code",
   "execution_count": null,
   "metadata": {},
   "outputs": [],
   "source": []
  }
 ],
 "metadata": {
  "kernelspec": {
   "display_name": "Python 3",
   "language": "python",
   "name": "python3"
  },
  "language_info": {
   "codemirror_mode": {
    "name": "ipython",
    "version": 3
   },
   "file_extension": ".py",
   "mimetype": "text/x-python",
   "name": "python",
   "nbconvert_exporter": "python",
   "pygments_lexer": "ipython3",
   "version": "3.5.2"
  }
 },
 "nbformat": 4,
 "nbformat_minor": 1
}
