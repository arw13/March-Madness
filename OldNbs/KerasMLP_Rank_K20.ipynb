{
 "cells": [
  {
   "cell_type": "markdown",
   "metadata": {
    "_cell_guid": "ec7cb961-f53c-472b-9a15-6e92b0296082",
    "_uuid": "9853586a0dc75ce39e7c7ffcde1eb4d47c6fb02e"
   },
   "source": [
    "# Keras MLP -> best Log Loss 0.555\n",
    "## Overview ##\n",
    "This kernel uses seeding and relative seeding with an MLP network. Spread on loss was very small, so kfold not necessary"
   ]
  },
  {
   "cell_type": "code",
   "execution_count": 1,
   "metadata": {
    "_cell_guid": "0c233e05-c63d-4866-96dc-bb38d444bf84",
    "_uuid": "5464dc4b196dc4c8dd0323bbd71b75724113e2af"
   },
   "outputs": [
    {
     "name": "stderr",
     "output_type": "stream",
     "text": [
      "Using TensorFlow backend.\n"
     ]
    },
    {
     "name": "stdout",
     "output_type": "stream",
     "text": [
      "Data\n",
      "Forests_Rank.ipynb\n",
      "GiantKillerInfo.txt\n",
      "KaggleKernelwSeeds.ipynb\n",
      "KerasBinaryClassifier_Intro.ipynb\n",
      "KerasMLP_only2003.csv\n",
      "KerasMLP_onlyBPI_2009-2013.csv\n",
      "KerasMLP_onlyseed.csv\n",
      "KerasMLP_onlyseeds.csv\n",
      "KerasMLP_RankAndSeeds.ipynb\n",
      "KerasMLP_Rank_K20.ipynb\n",
      "KerasMLP_Rank_Kfold.ipynb\n",
      "KerasMLP_RankSeedsYear_1_2.csv\n",
      "KerasMLP_RankSeedsYear_1.csv\n",
      "KerasMLP_RankSeedsYear.csv\n",
      "KerasMLP_SeedsandYear_1.csv\n",
      "KerasMLP_SeedsandYear.csv\n",
      "KerasMLP_SeedsOnly.ipynb\n",
      "KerasMLP_SeedswithTB.ipynb\n",
      "logreg_withseedtoo.csv\n",
      "logs\n",
      "MasseyOrdinalsExp.ipynb\n",
      "MLP_first_go.csv\n",
      "MLP_with_seeds.csv\n",
      "SKLearn - SVM.ipynb\n",
      "sonar.csv\n",
      "SVM_first_go.csv\n",
      "SVM_Rank.ipynb\n",
      "Tensorflow.ipynb\n",
      "\n"
     ]
    }
   ],
   "source": [
    "# This Python 3 environment comes with many helpful analytics libraries installed\n",
    "# It is defined by the kaggle/python docker image: https://github.com/kaggle/docker-python\n",
    "# For example, here's several helpful packages to load in \n",
    "import numpy as np # linear algebra\n",
    "import pandas as pd # data processing, CSV file I/O (e.g. pd.read_csv)\n",
    "import os\n",
    "from time import localtime\n",
    "from keras.models import Sequential\n",
    "from keras.layers import Dense, Dropout, Activation, BatchNormalization\n",
    "from keras import regularizers\n",
    "from keras.callbacks import EarlyStopping, TensorBoard, ProgbarLogger\n",
    "from sklearn.preprocessing import StandardScaler\n",
    "import matplotlib.pyplot as plt\n",
    "from keras.wrappers.scikit_learn import KerasClassifier\n",
    "from sklearn.model_selection import cross_val_score, StratifiedKFold\n",
    "\n",
    "\n",
    "\n",
    "\n",
    "# Input data files are available in the \"../input/\" directory.\n",
    "# For example, running this (by clicking run or pressing Shift+Enter) will list the files in the input directory\n",
    "\n",
    "from subprocess import check_output\n",
    "print(check_output([\"ls\", \"../NCAA\"]).decode(\"utf8\"))\n",
    "\n",
    "# Any results you write to the current directory are saved as output.\n"
   ]
  },
  {
   "cell_type": "markdown",
   "metadata": {},
   "source": [
    "### Lock Random Seed"
   ]
  },
  {
   "cell_type": "code",
   "execution_count": 2,
   "metadata": {},
   "outputs": [],
   "source": [
    "seed = 13\n",
    "np.random.seed(seed)"
   ]
  },
  {
   "cell_type": "markdown",
   "metadata": {
    "_cell_guid": "11333bea-8d7c-47b2-b24b-97a8f38db6ae",
    "_uuid": "819472385a23f3fd5aaf4172b4f8db227cf5271f"
   },
   "source": [
    "### Load Training data\n"
   ]
  },
  {
   "cell_type": "code",
   "execution_count": 3,
   "metadata": {
    "_cell_guid": "ec1d5ab6-5977-4246-b355-8afd9101a405",
    "_uuid": "bf8ee168a0372e883332d6bb0ce5c89c13143650"
   },
   "outputs": [
    {
     "data": {
      "text/html": [
       "<div>\n",
       "<style scoped>\n",
       "    .dataframe tbody tr th:only-of-type {\n",
       "        vertical-align: middle;\n",
       "    }\n",
       "\n",
       "    .dataframe tbody tr th {\n",
       "        vertical-align: top;\n",
       "    }\n",
       "\n",
       "    .dataframe thead th {\n",
       "        text-align: right;\n",
       "    }\n",
       "</style>\n",
       "<table border=\"1\" class=\"dataframe\">\n",
       "  <thead>\n",
       "    <tr style=\"text-align: right;\">\n",
       "      <th></th>\n",
       "      <th>Season</th>\n",
       "      <th>DayNum</th>\n",
       "      <th>WTeamID</th>\n",
       "      <th>WScore</th>\n",
       "      <th>LTeamID</th>\n",
       "      <th>LScore</th>\n",
       "      <th>WLoc</th>\n",
       "      <th>NumOT</th>\n",
       "    </tr>\n",
       "  </thead>\n",
       "  <tbody>\n",
       "    <tr>\n",
       "      <th>0</th>\n",
       "      <td>1985</td>\n",
       "      <td>136</td>\n",
       "      <td>1116</td>\n",
       "      <td>63</td>\n",
       "      <td>1234</td>\n",
       "      <td>54</td>\n",
       "      <td>N</td>\n",
       "      <td>0</td>\n",
       "    </tr>\n",
       "    <tr>\n",
       "      <th>1</th>\n",
       "      <td>1985</td>\n",
       "      <td>136</td>\n",
       "      <td>1120</td>\n",
       "      <td>59</td>\n",
       "      <td>1345</td>\n",
       "      <td>58</td>\n",
       "      <td>N</td>\n",
       "      <td>0</td>\n",
       "    </tr>\n",
       "    <tr>\n",
       "      <th>2</th>\n",
       "      <td>1985</td>\n",
       "      <td>136</td>\n",
       "      <td>1207</td>\n",
       "      <td>68</td>\n",
       "      <td>1250</td>\n",
       "      <td>43</td>\n",
       "      <td>N</td>\n",
       "      <td>0</td>\n",
       "    </tr>\n",
       "    <tr>\n",
       "      <th>3</th>\n",
       "      <td>1985</td>\n",
       "      <td>136</td>\n",
       "      <td>1229</td>\n",
       "      <td>58</td>\n",
       "      <td>1425</td>\n",
       "      <td>55</td>\n",
       "      <td>N</td>\n",
       "      <td>0</td>\n",
       "    </tr>\n",
       "    <tr>\n",
       "      <th>4</th>\n",
       "      <td>1985</td>\n",
       "      <td>136</td>\n",
       "      <td>1242</td>\n",
       "      <td>49</td>\n",
       "      <td>1325</td>\n",
       "      <td>38</td>\n",
       "      <td>N</td>\n",
       "      <td>0</td>\n",
       "    </tr>\n",
       "  </tbody>\n",
       "</table>\n",
       "</div>"
      ],
      "text/plain": [
       "   Season  DayNum  WTeamID  WScore  LTeamID  LScore WLoc  NumOT\n",
       "0    1985     136     1116      63     1234      54    N      0\n",
       "1    1985     136     1120      59     1345      58    N      0\n",
       "2    1985     136     1207      68     1250      43    N      0\n",
       "3    1985     136     1229      58     1425      55    N      0\n",
       "4    1985     136     1242      49     1325      38    N      0"
      ]
     },
     "execution_count": 3,
     "metadata": {},
     "output_type": "execute_result"
    }
   ],
   "source": [
    "data_dir = '../NCAA/Data/'\n",
    "df_seeds = pd.read_csv(data_dir + 'NCAATourneySeeds.csv')\n",
    "df_tour = pd.read_csv(data_dir + 'NCAATourneyCompactResults.csv')\n",
    "df_tour.head()"
   ]
  },
  {
   "cell_type": "markdown",
   "metadata": {},
   "source": [
    "Incorporate Massey Ordinals - MAS, SAG, POM"
   ]
  },
  {
   "cell_type": "code",
   "execution_count": 4,
   "metadata": {},
   "outputs": [],
   "source": [
    "#Load Data\n",
    "df_rank = pd.read_csv(data_dir+ 'MasseyOrdinals.csv')\n",
    "#Choose Latest Ranking \n",
    "df_rank = df_rank[df_rank.RankingDayNum>=133]\n",
    "df_rank = df_rank[df_rank.Season>=2010]\n",
    "\n",
    "#Selectr rankings of interest and make each ranking system ranking into a separate column\n",
    "df_merge = pd.merge(df_rank.loc[df_rank['SystemName']=='MAS'],\n",
    "                    df_rank.loc[df_rank['SystemName']=='SAG'], how='left', \n",
    "                    on=['Season', 'TeamID', 'RankingDayNum'])\n",
    "df_rank = pd.merge(left=df_merge, right=df_rank.loc[df_rank['SystemName']=='POM'], \n",
    "                  how='left', on=['Season', 'TeamID', 'RankingDayNum'] )"
   ]
  },
  {
   "cell_type": "code",
   "execution_count": 5,
   "metadata": {},
   "outputs": [
    {
     "data": {
      "text/html": [
       "<div>\n",
       "<style scoped>\n",
       "    .dataframe tbody tr th:only-of-type {\n",
       "        vertical-align: middle;\n",
       "    }\n",
       "\n",
       "    .dataframe tbody tr th {\n",
       "        vertical-align: top;\n",
       "    }\n",
       "\n",
       "    .dataframe thead th {\n",
       "        text-align: right;\n",
       "    }\n",
       "</style>\n",
       "<table border=\"1\" class=\"dataframe\">\n",
       "  <thead>\n",
       "    <tr style=\"text-align: right;\">\n",
       "      <th></th>\n",
       "      <th>Season</th>\n",
       "      <th>TeamID</th>\n",
       "      <th>MAS</th>\n",
       "      <th>SAG</th>\n",
       "      <th>POM</th>\n",
       "    </tr>\n",
       "  </thead>\n",
       "  <tbody>\n",
       "    <tr>\n",
       "      <th>0</th>\n",
       "      <td>2010</td>\n",
       "      <td>1102</td>\n",
       "      <td>239</td>\n",
       "      <td>237</td>\n",
       "      <td>246</td>\n",
       "    </tr>\n",
       "    <tr>\n",
       "      <th>1</th>\n",
       "      <td>2010</td>\n",
       "      <td>1103</td>\n",
       "      <td>89</td>\n",
       "      <td>105</td>\n",
       "      <td>119</td>\n",
       "    </tr>\n",
       "    <tr>\n",
       "      <th>2</th>\n",
       "      <td>2010</td>\n",
       "      <td>1104</td>\n",
       "      <td>79</td>\n",
       "      <td>72</td>\n",
       "      <td>64</td>\n",
       "    </tr>\n",
       "    <tr>\n",
       "      <th>3</th>\n",
       "      <td>2010</td>\n",
       "      <td>1105</td>\n",
       "      <td>329</td>\n",
       "      <td>337</td>\n",
       "      <td>336</td>\n",
       "    </tr>\n",
       "    <tr>\n",
       "      <th>4</th>\n",
       "      <td>2010</td>\n",
       "      <td>1106</td>\n",
       "      <td>276</td>\n",
       "      <td>300</td>\n",
       "      <td>302</td>\n",
       "    </tr>\n",
       "  </tbody>\n",
       "</table>\n",
       "</div>"
      ],
      "text/plain": [
       "   Season  TeamID  MAS  SAG  POM\n",
       "0    2010    1102  239  237  246\n",
       "1    2010    1103   89  105  119\n",
       "2    2010    1104   79   72   64\n",
       "3    2010    1105  329  337  336\n",
       "4    2010    1106  276  300  302"
      ]
     },
     "execution_count": 5,
     "metadata": {},
     "output_type": "execute_result"
    }
   ],
   "source": [
    "# Drop\n",
    "df_rank.drop(labels=['SystemName_x', 'SystemName_y', 'SystemName','RankingDayNum'], inplace=True, axis =1)\n",
    "df_rank.rename(columns={'OrdinalRank_x':'MAS', 'OrdinalRank_y':'SAG', 'OrdinalRank':'POM'}, inplace=True)\n",
    "\n",
    "df_rank.head()"
   ]
  },
  {
   "cell_type": "markdown",
   "metadata": {},
   "source": [
    "Cut seasons prior to Max Ranking date"
   ]
  },
  {
   "cell_type": "code",
   "execution_count": 6,
   "metadata": {
    "_cell_guid": "ec1d5ab6-5977-4246-b355-8afd9101a405",
    "_uuid": "bf8ee168a0372e883332d6bb0ce5c89c13143650"
   },
   "outputs": [],
   "source": [
    "df_seeds = df_seeds[df_seeds.Season>=min(df_rank.Season) ]\n",
    "df_seeds = df_seeds[ df_seeds.Season<=max(df_rank.Season)]\n",
    "df_tour = df_tour[df_tour.Season>=min(df_rank.Season)]\n",
    "df_tour = df_tour[ df_tour.Season<=max(df_rank.Season)]\n",
    "# df_tour.head()"
   ]
  },
  {
   "cell_type": "markdown",
   "metadata": {
    "_cell_guid": "79186b24-985b-40da-8ae6-f4f4b44f05a2",
    "_uuid": "42f99f53dd385e23b09378e0de9d3fce5eb1a2e9"
   },
   "source": [
    "Cut off the region identifier from the seed number"
   ]
  },
  {
   "cell_type": "code",
   "execution_count": 7,
   "metadata": {
    "_cell_guid": "da1a44b9-1a31-4fbb-bcaf-e18bd9585e13",
    "_uuid": "fcb18269a41cfa257bd97c40664e43e701251bed"
   },
   "outputs": [],
   "source": [
    "def seed_to_int(seed):\n",
    "    #Get just the digits from the seeding. Return as int\n",
    "    s_int = int(seed[1:3])\n",
    "    return s_int\n",
    "df_seeds['seed_int'] = df_seeds.Seed.apply(seed_to_int)\n",
    "df_seeds.drop(columns=['Seed'], inplace=True) # This is the string label"
   ]
  },
  {
   "cell_type": "code",
   "execution_count": 8,
   "metadata": {
    "_cell_guid": "da1a44b9-1a31-4fbb-bcaf-e18bd9585e13",
    "_uuid": "fcb18269a41cfa257bd97c40664e43e701251bed"
   },
   "outputs": [],
   "source": [
    "df_tour.drop(labels=['DayNum', 'WScore', 'LScore','WLoc', 'NumOT'], inplace=True, axis=1)\n",
    "# df_tour.head()"
   ]
  },
  {
   "cell_type": "markdown",
   "metadata": {
    "_cell_guid": "77c94357-56ed-461b-bcbf-09fcc9fcfff7",
    "_uuid": "3f223cdf4446d6e9c77ab8319237f05393d1a822"
   },
   "source": [
    "Merge the Seeds with their corresponding TeamIDs in the compact results dataframe."
   ]
  },
  {
   "cell_type": "code",
   "execution_count": 9,
   "metadata": {
    "_cell_guid": "08c9fb98-b372-408d-a748-bdbb3e50c3df",
    "_uuid": "53638c1ae27cfb24d47e02007c293d5ee19ebdac"
   },
   "outputs": [],
   "source": [
    "df_winSeeds = df_seeds.rename(columns={'TeamID':'WTeamID', 'seed_int':'WSeed'})\n",
    "df_lossSeeds = df_seeds.rename(columns={'TeamID':'LTeamID', 'seed_int':'LSeed'})\n",
    "# df_seeds.head()"
   ]
  },
  {
   "cell_type": "code",
   "execution_count": 10,
   "metadata": {
    "_cell_guid": "08c9fb98-b372-408d-a748-bdbb3e50c3df",
    "_uuid": "53638c1ae27cfb24d47e02007c293d5ee19ebdac"
   },
   "outputs": [],
   "source": [
    "df_dummy = pd.merge(left=df_tour, right=df_lossSeeds, how='left', on=['Season', 'LTeamID'])\n",
    "# df_dummy.head()"
   ]
  },
  {
   "cell_type": "code",
   "execution_count": 11,
   "metadata": {
    "_cell_guid": "08c9fb98-b372-408d-a748-bdbb3e50c3df",
    "_uuid": "53638c1ae27cfb24d47e02007c293d5ee19ebdac"
   },
   "outputs": [],
   "source": [
    "df_concat = pd.merge(left=df_dummy, right=df_winSeeds, how='left' ,on=['Season', 'WTeamID'])\n",
    "# df_concat['SeedDiff'] = df_concat.WSeed - df_concat.LSeed\n",
    "# df_concat.head()"
   ]
  },
  {
   "cell_type": "markdown",
   "metadata": {
    "_cell_guid": "f6e2a63e-3d1b-49d5-86ef-0af5b1f5294e",
    "_uuid": "1c82f60c02545c8c46ab090cb8cefca48e48e434"
   },
   "source": [
    "Dataframe with seed, relative seed, and win/loss. Use for training"
   ]
  },
  {
   "cell_type": "code",
   "execution_count": 12,
   "metadata": {},
   "outputs": [],
   "source": [
    "df_wins = pd.DataFrame()\n",
    "df_wins['Seed'] = df_concat['WSeed']\n",
    "# df_wins['SeedDiff'] = df_concat['SeedDiff']\n",
    "df_wins['TeamID'] = df_concat['WTeamID']\n",
    "df_wins['Season'] = df_concat['Season']\n",
    "df_wins['Result'] = 1\n",
    "df_wins = pd.merge(left=df_wins, right=df_rank, how='left', on=['Season', 'TeamID'])\n",
    "# df_wins.head()"
   ]
  },
  {
   "cell_type": "code",
   "execution_count": 13,
   "metadata": {},
   "outputs": [],
   "source": [
    "df_losses = pd.DataFrame()\n",
    "df_losses['Seed'] = df_concat['LSeed']\n",
    "# df_losses['SeedDiff'] = -df_concat['SeedDiff']\n",
    "df_losses['TeamID'] = df_concat['LTeamID']\n",
    "df_losses['Season'] = df_concat['Season']\n",
    "df_losses['Result'] = 0\n",
    "df_losses = pd.merge(left=df_losses, right=df_rank, how='left',on=['Season', 'TeamID'])\n",
    "# df_losses.head()"
   ]
  },
  {
   "cell_type": "code",
   "execution_count": 14,
   "metadata": {},
   "outputs": [],
   "source": [
    "df_lossesOpp = df_losses.copy()\n",
    "df_lossesOpp.drop(labels=['Season', 'Result'], inplace=True, axis=1)\n",
    "new_names = [(i,'Opp'+i) for i in df_lossesOpp.columns.values]\n",
    "df_lossesOpp.rename(columns = dict(new_names), inplace=True)\n",
    "# df_lossesOpp.head()"
   ]
  },
  {
   "cell_type": "code",
   "execution_count": 15,
   "metadata": {},
   "outputs": [],
   "source": [
    "df_winsOpp = df_wins.copy()\n",
    "df_winsOpp.drop(labels=['Season', 'Result'], inplace=True, axis=1)\n",
    "new_names = [(i,'Opp'+i) for i in df_winsOpp.columns.values]\n",
    "df_winsOpp.rename(columns = dict(new_names), inplace=True)\n",
    "# df_winsOpp.head()"
   ]
  },
  {
   "cell_type": "code",
   "execution_count": 16,
   "metadata": {
    "_cell_guid": "fefed035-2256-414b-b985-99b4c1a9f5e1",
    "_uuid": "1a40000e85c0dd9d2be6850a767acd736bf5f182"
   },
   "outputs": [],
   "source": [
    "df_winloss = pd.concat([df_wins, df_lossesOpp], axis=1)\n",
    "\n",
    "df_losswin = pd.concat([df_losses, df_winsOpp], axis=1)\n",
    "# df_losswin.head()"
   ]
  },
  {
   "cell_type": "code",
   "execution_count": 17,
   "metadata": {
    "_cell_guid": "fefed035-2256-414b-b985-99b4c1a9f5e1",
    "_uuid": "1a40000e85c0dd9d2be6850a767acd736bf5f182"
   },
   "outputs": [],
   "source": [
    "df_finalData = pd.concat((df_winloss, df_losswin))\n",
    "results = df_finalData['Result']\n",
    "df_finalData.drop(labels=['Result'], inplace=True, axis=1)\n",
    "df_finalData.insert(0, 'Result', results)\n",
    "df_finalData.drop(labels=['TeamID', 'Season', 'OppTeamID'], inplace=True, axis=1)\n",
    "# df_finalData.head()"
   ]
  },
  {
   "cell_type": "code",
   "execution_count": 18,
   "metadata": {},
   "outputs": [
    {
     "data": {
      "text/plain": [
       "Result     False\n",
       "Seed       False\n",
       "MAS        False\n",
       "SAG        False\n",
       "POM        False\n",
       "OppSeed    False\n",
       "OppMAS     False\n",
       "OppSAG     False\n",
       "OppPOM     False\n",
       "dtype: bool"
      ]
     },
     "execution_count": 18,
     "metadata": {},
     "output_type": "execute_result"
    }
   ],
   "source": [
    "df_finalData.isnull().any()"
   ]
  },
  {
   "cell_type": "markdown",
   "metadata": {},
   "source": [
    "## MLP Props\n",
    "droput rate, batch size, epoch size"
   ]
  },
  {
   "cell_type": "code",
   "execution_count": 20,
   "metadata": {},
   "outputs": [],
   "source": [
    "dropRate = 0.5\n",
    "numBatch = 5\n",
    "numEpoch = 50"
   ]
  },
  {
   "cell_type": "markdown",
   "metadata": {},
   "source": [
    "### MLP Base 20 Nodes"
   ]
  },
  {
   "cell_type": "code",
   "execution_count": 31,
   "metadata": {},
   "outputs": [],
   "source": [
    "# base \n",
    "base = Sequential()\n",
    "base.name = 'base20'\n",
    "base.add(Dense(5, input_dim=xDim, kernel_initializer='normal', activation = 'relu'))\n",
    "base.add(Dense(1, kernel_initializer='normal', activation='sigmoid'))\n",
    "# Compile base\n",
    "base.compile(loss='binary_crossentropy', optimizer='adam', metrics=['accuracy'])\n"
   ]
  },
  {
   "cell_type": "markdown",
   "metadata": {},
   "source": [
    "### MLP Base 20 Nodes experimental"
   ]
  },
  {
   "cell_type": "code",
   "execution_count": 32,
   "metadata": {},
   "outputs": [],
   "source": [
    "# base base20\n",
    "base20 = Sequential()\n",
    "base20.name = 'base20'\n",
    "base20.add(Dense(20, input_dim=xDim, kernel_initializer='normal',activation = 'sigmoid'))\n",
    "base20.add(Dropout(dropRate))\n",
    "base20.add(BatchNormalization())\n",
    "base20.add(Dense(20, input_dim=xDim, kernel_initializer='normal',activation = 'sigmoid'))\n",
    "base20.add(Dropout(dropRate))\n",
    "base20.add(BatchNormalization())\n",
    "base20.add(Dense(1, kernel_initializer='normal', activation='sigmoid'))\n",
    "# Compile base20\n",
    "base20.compile(loss='binary_crossentropy', optimizer='adam', metrics=['accuracy'])\n"
   ]
  },
  {
   "cell_type": "markdown",
   "metadata": {},
   "source": [
    "# Fit the Model "
   ]
  },
  {
   "cell_type": "markdown",
   "metadata": {},
   "source": [
    "### Models of Interest"
   ]
  },
  {
   "cell_type": "code",
   "execution_count": 33,
   "metadata": {},
   "outputs": [],
   "source": [
    "model = [base20]"
   ]
  },
  {
   "cell_type": "markdown",
   "metadata": {},
   "source": [
    "###  StandardScaler\n"
   ]
  },
  {
   "cell_type": "code",
   "execution_count": 35,
   "metadata": {},
   "outputs": [
    {
     "name": "stdout",
     "output_type": "stream",
     "text": [
      "Feature vector dimension is: 8.00\n",
      "[[ 1.86369018  4.39582579  3.78907735  3.87740966  1.86369018  3.48860575\n",
      "   3.22990179  3.36310125]\n",
      " [-0.89148568 -0.61656495 -0.66504522 -0.59311733  1.43981697  1.31127764\n",
      "   1.22458254  1.18718103]\n",
      " [-0.46761247 -0.57120395 -0.39509839 -0.31618203  1.01594376 -0.23099644\n",
      "  -0.18299732 -0.15793328]\n",
      " [-0.04373926 -0.54852345 -0.6457633  -0.69202279  0.59207055  0.38137709\n",
      "   0.10623142  0.13878311]\n",
      " [-1.31535889 -0.84336997 -0.80001863 -0.79092826  1.86369018  3.69273026\n",
      "   3.11421029  2.73010627]]\n"
     ]
    },
    {
     "name": "stderr",
     "output_type": "stream",
     "text": [
      "/usr/local/lib/python3.5/dist-packages/sklearn/utils/validation.py:475: DataConversionWarning: Data with input dtype int64 was converted to float64 by StandardScaler.\n",
      "  warnings.warn(msg, DataConversionWarning)\n"
     ]
    }
   ],
   "source": [
    "X = df_finalData.iloc[:,1:]\n",
    "# Set input_dim\n",
    "xDim = np.shape(X)[1]\n",
    "X= X.values.reshape(-1,xDim)\n",
    "\n",
    "y = df_finalData.Result.values\n",
    "\n",
    "scaler = StandardScaler()\n",
    "X = scaler.fit_transform(X)\n",
    "\n",
    "from sklearn.model_selection import train_test_split\n",
    "X_train, X_test, y_train, y_test = train_test_split(X, y, test_size=0.20, stratify=y)\n",
    "\n",
    "print('Feature vector dimension is: %.2f' % xDim)\n",
    "print(X[:5,:])"
   ]
  },
  {
   "cell_type": "markdown",
   "metadata": {},
   "source": [
    "###  with scaled data"
   ]
  },
  {
   "cell_type": "code",
   "execution_count": null,
   "metadata": {},
   "outputs": [],
   "source": [
    "# Fit the model\n",
    "results=[]\n",
    "# for i in range(0,np.size(model)):  \n",
    "#     TB = TensorBoard(log_dir=\"logs/{}_{}{}\".format(model[i].name, localtime().tm_hour, localtime().tm_min))\n",
    "#     model[i].fit(X, y, epochs=numEpoch, batch_size=numBatch, verbose=0, callbacks = [TB])\n",
    "\n",
    "#     kfold = StratifiedKFold(n_splits=5, shuffle=True, random_state=seed)\n",
    "#     cvresults = cross_val_score(model[i], X, y, cv=kfold, scoring='neg_log_loss', verbose=0)\n",
    "#     results.append(cvresults)\n",
    "#     print(\"{}: {} ({})\".format(model[i].__name__, results.mean(), results.std()))\n",
    "TB = TensorBoard(log_dir=\"logs/{}_{}{}\".format(base20.name, localtime().tm_hour, localtime().tm_min))\n",
    "base20.fit(X, y, epochs=numEpoch, batch_size=numBatch, verbose=0, callbacks = [TB])"
   ]
  },
  {
   "cell_type": "code",
   "execution_count": 37,
   "metadata": {},
   "outputs": [
    {
     "name": "stdout",
     "output_type": "stream",
     "text": [
      "0.598174082733273\n"
     ]
    }
   ],
   "source": [
    "from sklearn.metrics import log_loss\n",
    "y_pred =  base20.predict(X_test).reshape(-1,1)\n",
    "LL = log_loss( y_test, y_pred)\n",
    "print(LL)\n",
    "# kfold = StratifiedKFold(n_splits=5, shuffle=True, random_state=seed)\n",
    "# cvresults = cross_val_score(base20, X, y, cv=kfold, scoring='neg_log_loss', verbose=0)\n",
    "# print('Log-Loss Mean :{:.3} ({:.3})'.format(np.mean(cvresults), np.std(cvresults)))"
   ]
  },
  {
   "cell_type": "code",
   "execution_count": null,
   "metadata": {},
   "outputs": [],
   "source": [
    "# boxplot algorithm comparison\n",
    "# fig = plt.figure()\n",
    "# fig.suptitle('Algorithm Comparison')\n",
    "# ax = fig.add_subplot(111)\n",
    "# plt.boxplot((results))\n",
    "# names = [str(i) for i in model]\n",
    "# ax.set_xticklabels(names)\n",
    "# plt.show()"
   ]
  },
  {
   "cell_type": "raw",
   "metadata": {},
   "source": [
    "### Extract the data desired for the submission"
   ]
  },
  {
   "cell_type": "code",
   "execution_count": null,
   "metadata": {
    "_cell_guid": "483e4e68-0c55-4272-804c-d0ff444d9d34",
    "_uuid": "cd5a427eca09adda4e9a42a88208b683020a1f8d"
   },
   "outputs": [],
   "source": [
    "# df_sample_sub = pd.read_csv(data_dir + 'SampleSubmissionStage1.csv')\n",
    "# n_test_games = len(df_sample_sub)\n",
    "\n",
    "# def get_year_t1_t2(ID):\n",
    "#     \"\"\"Return a tuple with ints `year`, `team1` and `team2`.\"\"\"\n",
    "#     return (int(x) for x in ID.split('_'))"
   ]
  },
  {
   "cell_type": "code",
   "execution_count": null,
   "metadata": {
    "_cell_guid": "ecf47049-7dd5-4e10-9c00-d563d45479b4",
    "_uuid": "72d64ebc20c903660108ae9c529be07859396909"
   },
   "outputs": [],
   "source": [
    "# X_test = np.zeros(shape=(n_test_games, xDim))\n",
    "# for ii, row in df_sample_sub.iterrows():\n",
    "#     year, t1, t2 = get_year_t1_t2(row.ID)\n",
    "#     t1_seed = df_seeds[(df_seeds.TeamID == t1) & (df_seeds.Season == year)].seed_int.values[0]\n",
    "#     t2_seed = df_seeds[(df_seeds.TeamID == t2) & (df_seeds.Season == year)].seed_int.values[0]\n",
    "#     diff_seed = t1_seed - t2_seed\n",
    "#     X_test[ii, 0] = t1_seed\n",
    "#     X_test[ii, 1] = diff_seed\n",
    "#     X_test[ii, 2] = t1\n",
    "#     X_test[ii, 3] = year\n"
   ]
  },
  {
   "cell_type": "markdown",
   "metadata": {},
   "source": [
    "### Scale data with appropriate scaler"
   ]
  },
  {
   "cell_type": "code",
   "execution_count": null,
   "metadata": {},
   "outputs": [],
   "source": [
    "# X_test = scaler.fit_transform(X_test)"
   ]
  },
  {
   "cell_type": "markdown",
   "metadata": {
    "_cell_guid": "a468eb6a-1d5a-47cb-ac84-26d4dddaecd5",
    "_uuid": "375748512c55520e00ffd5701c82704856478370"
   },
   "source": [
    "## Make Predictions ##\n",
    "Create predictions using the logistic regression model we trained."
   ]
  },
  {
   "cell_type": "code",
   "execution_count": null,
   "metadata": {},
   "outputs": [],
   "source": [
    "# preds = base2.predict(X_test)"
   ]
  },
  {
   "cell_type": "code",
   "execution_count": null,
   "metadata": {
    "_cell_guid": "46b3f5a8-f106-4531-b905-c75692fdc6d4",
    "_uuid": "65dc063a2e9c5e447d800556f7cf67b26b7cbedb"
   },
   "outputs": [],
   "source": [
    "# clipped_preds = np.clip(preds, 0.05, 0.95)\n",
    "# df_sample_sub.Pred = clipped_preds\n",
    "# df_sample_sub.head()"
   ]
  },
  {
   "cell_type": "markdown",
   "metadata": {
    "_cell_guid": "4c2012af-908f-4abc-8efb-c767086a64a9",
    "_uuid": "3f4ef6ab893953a811462d240778205c2fdecf97"
   },
   "source": [
    "Lastly, create your submission file!"
   ]
  },
  {
   "cell_type": "code",
   "execution_count": null,
   "metadata": {
    "_cell_guid": "c83cae25-3b6f-43f4-bfcb-59402b4667d7",
    "_uuid": "7c784a9b62d889e83493b70efa17bd233f9abff4"
   },
   "outputs": [],
   "source": [
    "# filename = 'KerasMLP_RankSeedsYear'\n",
    "# c=0\n",
    "# ext = '.csv'\n",
    "# if os.path.exists(filename+ext):\n",
    "#     while os.path.exists(filename+ext):\n",
    "#         c+=1\n",
    "#         filename = filename+'_'+str(c)\n",
    "#     df_sample_sub.to_csv(filename+ext, index=False)\n",
    "# else:\n",
    "#     df_sample_sub.to_csv(filename+ext, index=False)"
   ]
  },
  {
   "cell_type": "code",
   "execution_count": null,
   "metadata": {},
   "outputs": [],
   "source": []
  },
  {
   "cell_type": "code",
   "execution_count": null,
   "metadata": {},
   "outputs": [],
   "source": []
  }
 ],
 "metadata": {
  "kernelspec": {
   "display_name": "Python 3",
   "language": "python",
   "name": "python3"
  },
  "language_info": {
   "codemirror_mode": {
    "name": "ipython",
    "version": 3
   },
   "file_extension": ".py",
   "mimetype": "text/x-python",
   "name": "python",
   "nbconvert_exporter": "python",
   "pygments_lexer": "ipython3",
   "version": "3.5.2"
  }
 },
 "nbformat": 4,
 "nbformat_minor": 1
}
