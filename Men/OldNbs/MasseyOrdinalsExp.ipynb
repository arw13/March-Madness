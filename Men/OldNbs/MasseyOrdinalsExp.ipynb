{
 "cells": [
  {
   "cell_type": "markdown",
   "metadata": {},
   "source": [
    "# Massey Ordinals Explore\n",
    "of interest: POM, SAG, MAS"
   ]
  },
  {
   "cell_type": "code",
   "execution_count": 1,
   "metadata": {
    "collapsed": true
   },
   "outputs": [],
   "source": [
    "import pandas as pd"
   ]
  },
  {
   "cell_type": "code",
   "execution_count": 48,
   "metadata": {},
   "outputs": [
    {
     "data": {
      "text/html": [
       "<div>\n",
       "<style scoped>\n",
       "    .dataframe tbody tr th:only-of-type {\n",
       "        vertical-align: middle;\n",
       "    }\n",
       "\n",
       "    .dataframe tbody tr th {\n",
       "        vertical-align: top;\n",
       "    }\n",
       "\n",
       "    .dataframe thead th {\n",
       "        text-align: right;\n",
       "    }\n",
       "</style>\n",
       "<table border=\"1\" class=\"dataframe\">\n",
       "  <thead>\n",
       "    <tr style=\"text-align: right;\">\n",
       "      <th></th>\n",
       "      <th>Season</th>\n",
       "      <th>RankingDayNum</th>\n",
       "      <th>SystemName</th>\n",
       "      <th>TeamID</th>\n",
       "      <th>OrdinalRank</th>\n",
       "    </tr>\n",
       "  </thead>\n",
       "  <tbody>\n",
       "    <tr>\n",
       "      <th>126278</th>\n",
       "      <td>2003</td>\n",
       "      <td>133</td>\n",
       "      <td>MAS</td>\n",
       "      <td>1102</td>\n",
       "      <td>172</td>\n",
       "    </tr>\n",
       "    <tr>\n",
       "      <th>126279</th>\n",
       "      <td>2003</td>\n",
       "      <td>133</td>\n",
       "      <td>MAS</td>\n",
       "      <td>1103</td>\n",
       "      <td>163</td>\n",
       "    </tr>\n",
       "    <tr>\n",
       "      <th>126280</th>\n",
       "      <td>2003</td>\n",
       "      <td>133</td>\n",
       "      <td>MAS</td>\n",
       "      <td>1104</td>\n",
       "      <td>41</td>\n",
       "    </tr>\n",
       "    <tr>\n",
       "      <th>126281</th>\n",
       "      <td>2003</td>\n",
       "      <td>133</td>\n",
       "      <td>MAS</td>\n",
       "      <td>1105</td>\n",
       "      <td>310</td>\n",
       "    </tr>\n",
       "    <tr>\n",
       "      <th>126282</th>\n",
       "      <td>2003</td>\n",
       "      <td>133</td>\n",
       "      <td>MAS</td>\n",
       "      <td>1106</td>\n",
       "      <td>270</td>\n",
       "    </tr>\n",
       "  </tbody>\n",
       "</table>\n",
       "</div>"
      ],
      "text/plain": [
       "        Season  RankingDayNum SystemName  TeamID  OrdinalRank\n",
       "126278    2003            133        MAS    1102          172\n",
       "126279    2003            133        MAS    1103          163\n",
       "126280    2003            133        MAS    1104           41\n",
       "126281    2003            133        MAS    1105          310\n",
       "126282    2003            133        MAS    1106          270"
      ]
     },
     "execution_count": 48,
     "metadata": {},
     "output_type": "execute_result"
    }
   ],
   "source": [
    "data_dir = '../NCAA/Data/'\n",
    "df_rank = pd.read_csv(data_dir+ 'MasseyOrdinals.csv')\n",
    "df_rank.size\n",
    "\n",
    "df_rank = df_rank[df_rank.RankingDayNum>=133]\n",
    "# df_rank = df_rank[df_rank.Season >= 2013]\n",
    "df_inv = df_rank[df_rank.SystemName=='MAS']\n",
    "df_inv.head()\n"
   ]
  },
  {
   "cell_type": "code",
   "execution_count": 51,
   "metadata": {},
   "outputs": [
    {
     "data": {
      "text/plain": [
       "array([172, 163,  41, 310, 270, 304, 266, 183, 160,   3,  40, 142, 315,\n",
       "       130, 184, 320,  45,  72, 157,  99, 168, 316, 200, 215, 193,  44,\n",
       "       125, 161, 173, 126, 228, 274,  26,  31,  36, 176,  30, 317, 243,\n",
       "       236, 242, 271,  98, 135, 312,  54, 305,  97, 254, 277,  91, 233,\n",
       "        32,  84, 324,  24, 282, 280,  19, 239, 196, 226, 287, 156,  17,\n",
       "       179, 247, 152,  71,  86, 218, 112,  10, 221, 178, 272, 175, 134,\n",
       "       169, 276, 132, 158, 260, 123, 291,   9, 261, 246,  90, 297,  81,\n",
       "       232, 145, 212, 300, 146,  78,  12, 231,  67,  49, 284, 237, 191,\n",
       "       244, 118, 309, 269,  56, 194, 283, 214, 186,  58,  11, 211,  46,\n",
       "       262, 159,  92,  75, 268, 133, 278, 240, 170, 220,   5, 116,  80,\n",
       "         1, 167, 245, 235, 224, 281, 311, 295, 286, 180,  14, 229, 314,\n",
       "       129,  25, 225,  61, 195,  13, 171,  28, 185, 199, 323,  18, 107,\n",
       "       139, 147,  63,  37,  83,  79,  16,  21, 251, 103, 227, 205, 234,\n",
       "       117, 321, 319, 248, 285, 131, 138, 108, 296, 327,  48, 155, 101,\n",
       "       307, 192,  89, 177, 141, 322, 294,  55, 255, 203, 197, 187, 165,\n",
       "       302,  23, 182, 137,  62,   4,  29, 189, 174,  34, 127, 209,  39,\n",
       "       213, 150,   2, 201, 293, 219, 149,  57,  47, 217, 292,  82, 106,\n",
       "       102, 222, 288, 121, 210,  33, 303, 104, 202,  85, 114, 122, 273,\n",
       "       136, 204, 325, 253, 252,  50, 140, 128, 119, 162,  88, 113, 153,\n",
       "       313, 263, 105, 257, 256,  69,  22,  64, 164, 250,  27, 301, 267,\n",
       "         7, 238, 188,  68,  43, 326, 120,   6,  93, 198,  42, 206, 143,\n",
       "       318,  60, 111,  66, 306, 249,  70, 109, 275, 144, 115,  65, 241,\n",
       "       308, 265, 290,  52,  59,  95, 190, 264,  35,  96, 298, 124,  87,\n",
       "       110, 148,  73,  76, 154, 279, 289, 299,  51,  77, 166,   8, 151,\n",
       "       216,  53, 100, 230,  38,  94, 258, 207,  20, 208, 223,  74,  15,\n",
       "       181, 259, 329, 330, 328, 347, 346, 340, 336, 341, 335, 344, 337,\n",
       "       333, 339, 343, 332, 345, 342, 334, 331, 338, 349, 348, 351, 350], dtype=int64)"
      ]
     },
     "execution_count": 51,
     "metadata": {},
     "output_type": "execute_result"
    }
   ],
   "source": [
    "df_inv.OrdinalRank.unique()"
   ]
  },
  {
   "cell_type": "code",
   "execution_count": 50,
   "metadata": {},
   "outputs": [
    {
     "name": "stdout",
     "output_type": "stream",
     "text": [
      "SystemName\n",
      "7OT     6\n",
      "ACU     5\n",
      "ADE     5\n",
      "AP     15\n",
      "ARG     5\n",
      "AUS     1\n",
      "BBT     6\n",
      "BCM     1\n",
      "BD      2\n",
      "BIH    14\n",
      "BKM     1\n",
      "BLS     4\n",
      "BNM     1\n",
      "BOB    14\n",
      "BPI     5\n",
      "BRZ     1\n",
      "BUR     5\n",
      "BWE     3\n",
      "CJB     3\n",
      "CMV     1\n",
      "CNG    14\n",
      "COL    15\n",
      "CPA     9\n",
      "CPR    10\n",
      "CRO     6\n",
      "CRW     1\n",
      "D1A     4\n",
      "DAV     2\n",
      "DC     13\n",
      "DC2     4\n",
      "       ..\n",
      "SGR     1\n",
      "SIM     6\n",
      "SMN     1\n",
      "SMS     1\n",
      "SP      4\n",
      "SPR     4\n",
      "SPW    10\n",
      "STF     2\n",
      "STH    10\n",
      "STR     3\n",
      "STS     2\n",
      "TBD     1\n",
      "TMR     5\n",
      "TPR     5\n",
      "TRK     3\n",
      "TRP     4\n",
      "TRX     3\n",
      "TSR     5\n",
      "TW      5\n",
      "UCS     1\n",
      "UPS     1\n",
      "USA    15\n",
      "WIL    12\n",
      "WLK    15\n",
      "WMR     1\n",
      "WOB    14\n",
      "WOL    15\n",
      "WTE     1\n",
      "YAG     1\n",
      "ZAM     1\n",
      "Name: Season, Length: 150, dtype: int64\n"
     ]
    }
   ],
   "source": [
    "df = df_rank.groupby('SystemName')['Season'].nunique()\n",
    "print(df)\n"
   ]
  },
  {
   "cell_type": "code",
   "execution_count": null,
   "metadata": {
    "collapsed": true
   },
   "outputs": [],
   "source": []
  },
  {
   "cell_type": "code",
   "execution_count": null,
   "metadata": {
    "collapsed": true
   },
   "outputs": [],
   "source": []
  }
 ],
 "metadata": {
  "kernelspec": {
   "display_name": "Python 3",
   "language": "python",
   "name": "python3"
  },
  "language_info": {
   "codemirror_mode": {
    "name": "ipython",
    "version": 3
   },
   "file_extension": ".py",
   "mimetype": "text/x-python",
   "name": "python",
   "nbconvert_exporter": "python",
   "pygments_lexer": "ipython3",
   "version": "3.6.4"
  }
 },
 "nbformat": 4,
 "nbformat_minor": 2
}
